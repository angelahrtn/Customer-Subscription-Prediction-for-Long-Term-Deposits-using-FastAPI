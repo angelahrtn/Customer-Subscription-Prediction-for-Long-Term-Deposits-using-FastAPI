{
  "cells": [
    {
      "cell_type": "markdown",
      "metadata": {
        "id": "xp3429mBymFc"
      },
      "source": [
        "## **Explore Data**"
      ]
    },
    {
      "cell_type": "code",
      "execution_count": 1,
      "metadata": {
        "id": "3HQ-6Lx3d1Db"
      },
      "outputs": [],
      "source": [
        "# Import necessary libraries\n",
        "import pandas as pd  # For data manipulation\n",
        "import numpy as np   # For numerical computations\n",
        "from sklearn.model_selection import train_test_split, GridSearchCV, cross_val_score  # For model training and evaluation\n",
        "from sklearn.preprocessing import StandardScaler  # For feature scaling\n",
        "from sklearn.ensemble import RandomForestClassifier, GradientBoostingClassifier  # For classification models\n",
        "from xgboost import XGBClassifier  # For XGBoost classification\n",
        "from sklearn.linear_model import LogisticRegression  # For creating and training a Logistic Regression model\n",
        "from sklearn.metrics import classification_report, accuracy_score  # For model evaluation\n",
        "import pickle  # For saving and loading models\n",
        "import seaborn as sns  # Import seaborn library for data visualization\n",
        "import matplotlib.pyplot as plt  # For plotting\n",
        "from IPython.display import FileLink  # For creating file links\n",
        "import shutil  # For file operations"
      ]
    },
    {
      "cell_type": "code",
      "execution_count": 2,
      "metadata": {
        "id": "Y9rXHqLrpGfH"
      },
      "outputs": [],
      "source": [
        "# Load dataset from CSV file into a DataFrame\n",
        "data = pd.read_csv('data_1D.csv')"
      ]
    },
    {
      "cell_type": "code",
      "execution_count": 3,
      "metadata": {
        "colab": {
          "base_uri": "https://localhost:8080/",
          "height": 206
        },
        "id": "zpK8XDqopGhd",
        "outputId": "9b1696b1-a8cd-4cee-fb9e-a44ccbfac524"
      },
      "outputs": [
        {
          "data": {
            "application/vnd.google.colaboratory.intrinsic+json": {
              "summary": "{\n  \"name\": \"data\",\n  \"rows\": 8238,\n  \"fields\": [\n    {\n      \"column\": \"Unnamed: 0\",\n      \"properties\": {\n        \"dtype\": \"number\",\n        \"std\": 2378,\n        \"min\": 0,\n        \"max\": 8237,\n        \"num_unique_values\": 8238,\n        \"samples\": [\n          706,\n          5968,\n          1665\n        ],\n        \"semantic_type\": \"\",\n        \"description\": \"\"\n      }\n    },\n    {\n      \"column\": \"age\",\n      \"properties\": {\n        \"dtype\": \"number\",\n        \"std\": 10,\n        \"min\": 17,\n        \"max\": 89,\n        \"num_unique_values\": 72,\n        \"samples\": [\n          39,\n          84,\n          45\n        ],\n        \"semantic_type\": \"\",\n        \"description\": \"\"\n      }\n    },\n    {\n      \"column\": \"job\",\n      \"properties\": {\n        \"dtype\": \"category\",\n        \"num_unique_values\": 12,\n        \"samples\": [\n          \"student\",\n          \"unknown\",\n          \"retired\"\n        ],\n        \"semantic_type\": \"\",\n        \"description\": \"\"\n      }\n    },\n    {\n      \"column\": \"marital\",\n      \"properties\": {\n        \"dtype\": \"category\",\n        \"num_unique_values\": 4,\n        \"samples\": [\n          \"married\",\n          \"unknown\",\n          \"divorced\"\n        ],\n        \"semantic_type\": \"\",\n        \"description\": \"\"\n      }\n    },\n    {\n      \"column\": \"education\",\n      \"properties\": {\n        \"dtype\": \"category\",\n        \"num_unique_values\": 8,\n        \"samples\": [\n          \"high.school\",\n          \"unknown\",\n          \"basic.4y\"\n        ],\n        \"semantic_type\": \"\",\n        \"description\": \"\"\n      }\n    },\n    {\n      \"column\": \"default\",\n      \"properties\": {\n        \"dtype\": \"category\",\n        \"num_unique_values\": 2,\n        \"samples\": [\n          \"unknown\",\n          \"no\"\n        ],\n        \"semantic_type\": \"\",\n        \"description\": \"\"\n      }\n    },\n    {\n      \"column\": \"housing\",\n      \"properties\": {\n        \"dtype\": \"category\",\n        \"num_unique_values\": 3,\n        \"samples\": [\n          \"no\",\n          \"yes\"\n        ],\n        \"semantic_type\": \"\",\n        \"description\": \"\"\n      }\n    },\n    {\n      \"column\": \"loan\",\n      \"properties\": {\n        \"dtype\": \"category\",\n        \"num_unique_values\": 3,\n        \"samples\": [\n          \"no\",\n          \"yes\"\n        ],\n        \"semantic_type\": \"\",\n        \"description\": \"\"\n      }\n    },\n    {\n      \"column\": \"contact\",\n      \"properties\": {\n        \"dtype\": \"category\",\n        \"num_unique_values\": 2,\n        \"samples\": [\n          \"telephone\",\n          \"cellular\"\n        ],\n        \"semantic_type\": \"\",\n        \"description\": \"\"\n      }\n    },\n    {\n      \"column\": \"month\",\n      \"properties\": {\n        \"dtype\": \"category\",\n        \"num_unique_values\": 10,\n        \"samples\": [\n          \"mar\",\n          \"may\"\n        ],\n        \"semantic_type\": \"\",\n        \"description\": \"\"\n      }\n    },\n    {\n      \"column\": \"day_of_week\",\n      \"properties\": {\n        \"dtype\": \"category\",\n        \"num_unique_values\": 5,\n        \"samples\": [\n          \"wed\",\n          \"fri\"\n        ],\n        \"semantic_type\": \"\",\n        \"description\": \"\"\n      }\n    },\n    {\n      \"column\": \"duration\",\n      \"properties\": {\n        \"dtype\": \"number\",\n        \"std\": 266.7349690925546,\n        \"min\": 4.0,\n        \"max\": 4918.0,\n        \"num_unique_values\": 1025,\n        \"samples\": [\n          752.0,\n          39.0\n        ],\n        \"semantic_type\": \"\",\n        \"description\": \"\"\n      }\n    },\n    {\n      \"column\": \"campaign\",\n      \"properties\": {\n        \"dtype\": \"number\",\n        \"std\": 2,\n        \"min\": 1,\n        \"max\": 43,\n        \"num_unique_values\": 33,\n        \"samples\": [\n          33,\n          31\n        ],\n        \"semantic_type\": \"\",\n        \"description\": \"\"\n      }\n    },\n    {\n      \"column\": \"pdays\",\n      \"properties\": {\n        \"dtype\": \"number\",\n        \"std\": 183,\n        \"min\": 0,\n        \"max\": 999,\n        \"num_unique_values\": 21,\n        \"samples\": [\n          3,\n          12\n        ],\n        \"semantic_type\": \"\",\n        \"description\": \"\"\n      }\n    },\n    {\n      \"column\": \"previous\",\n      \"properties\": {\n        \"dtype\": \"number\",\n        \"std\": 0,\n        \"min\": 0,\n        \"max\": 6,\n        \"num_unique_values\": 7,\n        \"samples\": [\n          3,\n          0\n        ],\n        \"semantic_type\": \"\",\n        \"description\": \"\"\n      }\n    },\n    {\n      \"column\": \"poutcome\",\n      \"properties\": {\n        \"dtype\": \"category\",\n        \"num_unique_values\": 3,\n        \"samples\": [\n          \"success\",\n          \"nonexistent\"\n        ],\n        \"semantic_type\": \"\",\n        \"description\": \"\"\n      }\n    },\n    {\n      \"column\": \"y\",\n      \"properties\": {\n        \"dtype\": \"category\",\n        \"num_unique_values\": 2,\n        \"samples\": [\n          \"no\",\n          \"yes\"\n        ],\n        \"semantic_type\": \"\",\n        \"description\": \"\"\n      }\n    }\n  ]\n}",
              "type": "dataframe",
              "variable_name": "data"
            },
            "text/html": [
              "\n",
              "  <div id=\"df-874cb70f-70dd-4f1c-b391-b936aa6ae387\" class=\"colab-df-container\">\n",
              "    <div>\n",
              "<style scoped>\n",
              "    .dataframe tbody tr th:only-of-type {\n",
              "        vertical-align: middle;\n",
              "    }\n",
              "\n",
              "    .dataframe tbody tr th {\n",
              "        vertical-align: top;\n",
              "    }\n",
              "\n",
              "    .dataframe thead th {\n",
              "        text-align: right;\n",
              "    }\n",
              "</style>\n",
              "<table border=\"1\" class=\"dataframe\">\n",
              "  <thead>\n",
              "    <tr style=\"text-align: right;\">\n",
              "      <th></th>\n",
              "      <th>Unnamed: 0</th>\n",
              "      <th>age</th>\n",
              "      <th>job</th>\n",
              "      <th>marital</th>\n",
              "      <th>education</th>\n",
              "      <th>default</th>\n",
              "      <th>housing</th>\n",
              "      <th>loan</th>\n",
              "      <th>contact</th>\n",
              "      <th>month</th>\n",
              "      <th>day_of_week</th>\n",
              "      <th>duration</th>\n",
              "      <th>campaign</th>\n",
              "      <th>pdays</th>\n",
              "      <th>previous</th>\n",
              "      <th>poutcome</th>\n",
              "      <th>y</th>\n",
              "    </tr>\n",
              "  </thead>\n",
              "  <tbody>\n",
              "    <tr>\n",
              "      <th>0</th>\n",
              "      <td>0</td>\n",
              "      <td>83</td>\n",
              "      <td>retired</td>\n",
              "      <td>divorced</td>\n",
              "      <td>basic.4y</td>\n",
              "      <td>no</td>\n",
              "      <td>no</td>\n",
              "      <td>no</td>\n",
              "      <td>cellular</td>\n",
              "      <td>nov</td>\n",
              "      <td>tue</td>\n",
              "      <td>242.0</td>\n",
              "      <td>1</td>\n",
              "      <td>3</td>\n",
              "      <td>3</td>\n",
              "      <td>success</td>\n",
              "      <td>yes</td>\n",
              "    </tr>\n",
              "    <tr>\n",
              "      <th>1</th>\n",
              "      <td>1</td>\n",
              "      <td>32</td>\n",
              "      <td>services</td>\n",
              "      <td>married</td>\n",
              "      <td>high.school</td>\n",
              "      <td>no</td>\n",
              "      <td>no</td>\n",
              "      <td>no</td>\n",
              "      <td>telephone</td>\n",
              "      <td>may</td>\n",
              "      <td>tue</td>\n",
              "      <td>190.0</td>\n",
              "      <td>3</td>\n",
              "      <td>999</td>\n",
              "      <td>0</td>\n",
              "      <td>nonexistent</td>\n",
              "      <td>no</td>\n",
              "    </tr>\n",
              "    <tr>\n",
              "      <th>2</th>\n",
              "      <td>2</td>\n",
              "      <td>31</td>\n",
              "      <td>admin.</td>\n",
              "      <td>single</td>\n",
              "      <td>university.degree</td>\n",
              "      <td>no</td>\n",
              "      <td>yes</td>\n",
              "      <td>no</td>\n",
              "      <td>telephone</td>\n",
              "      <td>may</td>\n",
              "      <td>wed</td>\n",
              "      <td>325.0</td>\n",
              "      <td>2</td>\n",
              "      <td>999</td>\n",
              "      <td>0</td>\n",
              "      <td>nonexistent</td>\n",
              "      <td>no</td>\n",
              "    </tr>\n",
              "    <tr>\n",
              "      <th>3</th>\n",
              "      <td>3</td>\n",
              "      <td>33</td>\n",
              "      <td>admin.</td>\n",
              "      <td>single</td>\n",
              "      <td>university.degree</td>\n",
              "      <td>no</td>\n",
              "      <td>yes</td>\n",
              "      <td>no</td>\n",
              "      <td>telephone</td>\n",
              "      <td>aug</td>\n",
              "      <td>thu</td>\n",
              "      <td>158.0</td>\n",
              "      <td>1</td>\n",
              "      <td>999</td>\n",
              "      <td>0</td>\n",
              "      <td>nonexistent</td>\n",
              "      <td>no</td>\n",
              "    </tr>\n",
              "    <tr>\n",
              "      <th>4</th>\n",
              "      <td>4</td>\n",
              "      <td>39</td>\n",
              "      <td>services</td>\n",
              "      <td>married</td>\n",
              "      <td>high.school</td>\n",
              "      <td>no</td>\n",
              "      <td>yes</td>\n",
              "      <td>no</td>\n",
              "      <td>telephone</td>\n",
              "      <td>jul</td>\n",
              "      <td>mon</td>\n",
              "      <td>158.0</td>\n",
              "      <td>1</td>\n",
              "      <td>999</td>\n",
              "      <td>0</td>\n",
              "      <td>nonexistent</td>\n",
              "      <td>no</td>\n",
              "    </tr>\n",
              "  </tbody>\n",
              "</table>\n",
              "</div>\n",
              "    <div class=\"colab-df-buttons\">\n",
              "\n",
              "  <div class=\"colab-df-container\">\n",
              "    <button class=\"colab-df-convert\" onclick=\"convertToInteractive('df-874cb70f-70dd-4f1c-b391-b936aa6ae387')\"\n",
              "            title=\"Convert this dataframe to an interactive table.\"\n",
              "            style=\"display:none;\">\n",
              "\n",
              "  <svg xmlns=\"http://www.w3.org/2000/svg\" height=\"24px\" viewBox=\"0 -960 960 960\">\n",
              "    <path d=\"M120-120v-720h720v720H120Zm60-500h600v-160H180v160Zm220 220h160v-160H400v160Zm0 220h160v-160H400v160ZM180-400h160v-160H180v160Zm440 0h160v-160H620v160ZM180-180h160v-160H180v160Zm440 0h160v-160H620v160Z\"/>\n",
              "  </svg>\n",
              "    </button>\n",
              "\n",
              "  <style>\n",
              "    .colab-df-container {\n",
              "      display:flex;\n",
              "      gap: 12px;\n",
              "    }\n",
              "\n",
              "    .colab-df-convert {\n",
              "      background-color: #E8F0FE;\n",
              "      border: none;\n",
              "      border-radius: 50%;\n",
              "      cursor: pointer;\n",
              "      display: none;\n",
              "      fill: #1967D2;\n",
              "      height: 32px;\n",
              "      padding: 0 0 0 0;\n",
              "      width: 32px;\n",
              "    }\n",
              "\n",
              "    .colab-df-convert:hover {\n",
              "      background-color: #E2EBFA;\n",
              "      box-shadow: 0px 1px 2px rgba(60, 64, 67, 0.3), 0px 1px 3px 1px rgba(60, 64, 67, 0.15);\n",
              "      fill: #174EA6;\n",
              "    }\n",
              "\n",
              "    .colab-df-buttons div {\n",
              "      margin-bottom: 4px;\n",
              "    }\n",
              "\n",
              "    [theme=dark] .colab-df-convert {\n",
              "      background-color: #3B4455;\n",
              "      fill: #D2E3FC;\n",
              "    }\n",
              "\n",
              "    [theme=dark] .colab-df-convert:hover {\n",
              "      background-color: #434B5C;\n",
              "      box-shadow: 0px 1px 3px 1px rgba(0, 0, 0, 0.15);\n",
              "      filter: drop-shadow(0px 1px 2px rgba(0, 0, 0, 0.3));\n",
              "      fill: #FFFFFF;\n",
              "    }\n",
              "  </style>\n",
              "\n",
              "    <script>\n",
              "      const buttonEl =\n",
              "        document.querySelector('#df-874cb70f-70dd-4f1c-b391-b936aa6ae387 button.colab-df-convert');\n",
              "      buttonEl.style.display =\n",
              "        google.colab.kernel.accessAllowed ? 'block' : 'none';\n",
              "\n",
              "      async function convertToInteractive(key) {\n",
              "        const element = document.querySelector('#df-874cb70f-70dd-4f1c-b391-b936aa6ae387');\n",
              "        const dataTable =\n",
              "          await google.colab.kernel.invokeFunction('convertToInteractive',\n",
              "                                                    [key], {});\n",
              "        if (!dataTable) return;\n",
              "\n",
              "        const docLinkHtml = 'Like what you see? Visit the ' +\n",
              "          '<a target=\"_blank\" href=https://colab.research.google.com/notebooks/data_table.ipynb>data table notebook</a>'\n",
              "          + ' to learn more about interactive tables.';\n",
              "        element.innerHTML = '';\n",
              "        dataTable['output_type'] = 'display_data';\n",
              "        await google.colab.output.renderOutput(dataTable, element);\n",
              "        const docLink = document.createElement('div');\n",
              "        docLink.innerHTML = docLinkHtml;\n",
              "        element.appendChild(docLink);\n",
              "      }\n",
              "    </script>\n",
              "  </div>\n",
              "\n",
              "\n",
              "<div id=\"df-3115c597-bc49-4da6-ad1f-cac84cf0ad1e\">\n",
              "  <button class=\"colab-df-quickchart\" onclick=\"quickchart('df-3115c597-bc49-4da6-ad1f-cac84cf0ad1e')\"\n",
              "            title=\"Suggest charts\"\n",
              "            style=\"display:none;\">\n",
              "\n",
              "<svg xmlns=\"http://www.w3.org/2000/svg\" height=\"24px\"viewBox=\"0 0 24 24\"\n",
              "     width=\"24px\">\n",
              "    <g>\n",
              "        <path d=\"M19 3H5c-1.1 0-2 .9-2 2v14c0 1.1.9 2 2 2h14c1.1 0 2-.9 2-2V5c0-1.1-.9-2-2-2zM9 17H7v-7h2v7zm4 0h-2V7h2v10zm4 0h-2v-4h2v4z\"/>\n",
              "    </g>\n",
              "</svg>\n",
              "  </button>\n",
              "\n",
              "<style>\n",
              "  .colab-df-quickchart {\n",
              "      --bg-color: #E8F0FE;\n",
              "      --fill-color: #1967D2;\n",
              "      --hover-bg-color: #E2EBFA;\n",
              "      --hover-fill-color: #174EA6;\n",
              "      --disabled-fill-color: #AAA;\n",
              "      --disabled-bg-color: #DDD;\n",
              "  }\n",
              "\n",
              "  [theme=dark] .colab-df-quickchart {\n",
              "      --bg-color: #3B4455;\n",
              "      --fill-color: #D2E3FC;\n",
              "      --hover-bg-color: #434B5C;\n",
              "      --hover-fill-color: #FFFFFF;\n",
              "      --disabled-bg-color: #3B4455;\n",
              "      --disabled-fill-color: #666;\n",
              "  }\n",
              "\n",
              "  .colab-df-quickchart {\n",
              "    background-color: var(--bg-color);\n",
              "    border: none;\n",
              "    border-radius: 50%;\n",
              "    cursor: pointer;\n",
              "    display: none;\n",
              "    fill: var(--fill-color);\n",
              "    height: 32px;\n",
              "    padding: 0;\n",
              "    width: 32px;\n",
              "  }\n",
              "\n",
              "  .colab-df-quickchart:hover {\n",
              "    background-color: var(--hover-bg-color);\n",
              "    box-shadow: 0 1px 2px rgba(60, 64, 67, 0.3), 0 1px 3px 1px rgba(60, 64, 67, 0.15);\n",
              "    fill: var(--button-hover-fill-color);\n",
              "  }\n",
              "\n",
              "  .colab-df-quickchart-complete:disabled,\n",
              "  .colab-df-quickchart-complete:disabled:hover {\n",
              "    background-color: var(--disabled-bg-color);\n",
              "    fill: var(--disabled-fill-color);\n",
              "    box-shadow: none;\n",
              "  }\n",
              "\n",
              "  .colab-df-spinner {\n",
              "    border: 2px solid var(--fill-color);\n",
              "    border-color: transparent;\n",
              "    border-bottom-color: var(--fill-color);\n",
              "    animation:\n",
              "      spin 1s steps(1) infinite;\n",
              "  }\n",
              "\n",
              "  @keyframes spin {\n",
              "    0% {\n",
              "      border-color: transparent;\n",
              "      border-bottom-color: var(--fill-color);\n",
              "      border-left-color: var(--fill-color);\n",
              "    }\n",
              "    20% {\n",
              "      border-color: transparent;\n",
              "      border-left-color: var(--fill-color);\n",
              "      border-top-color: var(--fill-color);\n",
              "    }\n",
              "    30% {\n",
              "      border-color: transparent;\n",
              "      border-left-color: var(--fill-color);\n",
              "      border-top-color: var(--fill-color);\n",
              "      border-right-color: var(--fill-color);\n",
              "    }\n",
              "    40% {\n",
              "      border-color: transparent;\n",
              "      border-right-color: var(--fill-color);\n",
              "      border-top-color: var(--fill-color);\n",
              "    }\n",
              "    60% {\n",
              "      border-color: transparent;\n",
              "      border-right-color: var(--fill-color);\n",
              "    }\n",
              "    80% {\n",
              "      border-color: transparent;\n",
              "      border-right-color: var(--fill-color);\n",
              "      border-bottom-color: var(--fill-color);\n",
              "    }\n",
              "    90% {\n",
              "      border-color: transparent;\n",
              "      border-bottom-color: var(--fill-color);\n",
              "    }\n",
              "  }\n",
              "</style>\n",
              "\n",
              "  <script>\n",
              "    async function quickchart(key) {\n",
              "      const quickchartButtonEl =\n",
              "        document.querySelector('#' + key + ' button');\n",
              "      quickchartButtonEl.disabled = true;  // To prevent multiple clicks.\n",
              "      quickchartButtonEl.classList.add('colab-df-spinner');\n",
              "      try {\n",
              "        const charts = await google.colab.kernel.invokeFunction(\n",
              "            'suggestCharts', [key], {});\n",
              "      } catch (error) {\n",
              "        console.error('Error during call to suggestCharts:', error);\n",
              "      }\n",
              "      quickchartButtonEl.classList.remove('colab-df-spinner');\n",
              "      quickchartButtonEl.classList.add('colab-df-quickchart-complete');\n",
              "    }\n",
              "    (() => {\n",
              "      let quickchartButtonEl =\n",
              "        document.querySelector('#df-3115c597-bc49-4da6-ad1f-cac84cf0ad1e button');\n",
              "      quickchartButtonEl.style.display =\n",
              "        google.colab.kernel.accessAllowed ? 'block' : 'none';\n",
              "    })();\n",
              "  </script>\n",
              "</div>\n",
              "\n",
              "    </div>\n",
              "  </div>\n"
            ],
            "text/plain": [
              "   Unnamed: 0  age       job   marital          education default housing  \\\n",
              "0           0   83   retired  divorced           basic.4y      no      no   \n",
              "1           1   32  services   married        high.school      no      no   \n",
              "2           2   31    admin.    single  university.degree      no     yes   \n",
              "3           3   33    admin.    single  university.degree      no     yes   \n",
              "4           4   39  services   married        high.school      no     yes   \n",
              "\n",
              "  loan    contact month day_of_week  duration  campaign  pdays  previous  \\\n",
              "0   no   cellular   nov         tue     242.0         1      3         3   \n",
              "1   no  telephone   may         tue     190.0         3    999         0   \n",
              "2   no  telephone   may         wed     325.0         2    999         0   \n",
              "3   no  telephone   aug         thu     158.0         1    999         0   \n",
              "4   no  telephone   jul         mon     158.0         1    999         0   \n",
              "\n",
              "      poutcome    y  \n",
              "0      success  yes  \n",
              "1  nonexistent   no  \n",
              "2  nonexistent   no  \n",
              "3  nonexistent   no  \n",
              "4  nonexistent   no  "
            ]
          },
          "execution_count": 3,
          "metadata": {},
          "output_type": "execute_result"
        }
      ],
      "source": [
        "# Display the first few rows of the dataset\n",
        "data.head()"
      ]
    },
    {
      "cell_type": "code",
      "execution_count": 4,
      "metadata": {
        "colab": {
          "base_uri": "https://localhost:8080/"
        },
        "id": "R_xoWX3epGkJ",
        "outputId": "a6c52850-c851-4548-f5e1-649afb904ae3"
      },
      "outputs": [
        {
          "data": {
            "text/plain": [
              "(8238, 17)"
            ]
          },
          "execution_count": 4,
          "metadata": {},
          "output_type": "execute_result"
        }
      ],
      "source": [
        "# Check the number of rows and columns in the dataset\n",
        "data.shape"
      ]
    },
    {
      "cell_type": "markdown",
      "metadata": {
        "id": "IM1ZsJSJ96D6"
      },
      "source": [
        "- Untuk angka pertama, yaitu 8238, mengindikasikan jumlah baris dalam dataset.\n",
        "- Untuk angka kedua, yaitu 17, menandakan jumlah kolom atau fitur yang ada dalam dataset."
      ]
    },
    {
      "cell_type": "code",
      "execution_count": 5,
      "metadata": {
        "colab": {
          "base_uri": "https://localhost:8080/"
        },
        "id": "3DlOIDdOpGmY",
        "outputId": "02ca7329-b81a-4e0d-d4da-5e605656d9de"
      },
      "outputs": [
        {
          "data": {
            "text/plain": [
              "Index(['Unnamed: 0', 'age', 'job', 'marital', 'education', 'default',\n",
              "       'housing', 'loan', 'contact', 'month', 'day_of_week', 'duration',\n",
              "       'campaign', 'pdays', 'previous', 'poutcome', 'y'],\n",
              "      dtype='object')"
            ]
          },
          "execution_count": 5,
          "metadata": {},
          "output_type": "execute_result"
        }
      ],
      "source": [
        "# Print the column names of the dataset\n",
        "data.columns"
      ]
    },
    {
      "cell_type": "markdown",
      "metadata": {
        "id": "GO4eaYSP9-tH"
      },
      "source": [
        "Output di atas menunjukkan daftar nama-nama kolom dalam dataset. Setiap nama kolom mewakili satu fitur atau atribut dalam dataset."
      ]
    },
    {
      "cell_type": "code",
      "execution_count": 6,
      "metadata": {
        "colab": {
          "base_uri": "https://localhost:8080/"
        },
        "id": "Sx6mJeMBpUpB",
        "outputId": "831564d1-7d9e-446a-a7f2-5b6dee36889c"
      },
      "outputs": [
        {
          "name": "stdout",
          "output_type": "stream",
          "text": [
            "<class 'pandas.core.frame.DataFrame'>\n",
            "RangeIndex: 8238 entries, 0 to 8237\n",
            "Data columns (total 17 columns):\n",
            " #   Column       Non-Null Count  Dtype  \n",
            "---  ------       --------------  -----  \n",
            " 0   Unnamed: 0   8238 non-null   int64  \n",
            " 1   age          8238 non-null   int64  \n",
            " 2   job          8230 non-null   object \n",
            " 3   marital      8238 non-null   object \n",
            " 4   education    8238 non-null   object \n",
            " 5   default      8238 non-null   object \n",
            " 6   housing      8238 non-null   object \n",
            " 7   loan         8238 non-null   object \n",
            " 8   contact      8238 non-null   object \n",
            " 9   month        8238 non-null   object \n",
            " 10  day_of_week  8238 non-null   object \n",
            " 11  duration     8226 non-null   float64\n",
            " 12  campaign     8238 non-null   int64  \n",
            " 13  pdays        8238 non-null   int64  \n",
            " 14  previous     8238 non-null   int64  \n",
            " 15  poutcome     8238 non-null   object \n",
            " 16  y            8238 non-null   object \n",
            "dtypes: float64(1), int64(5), object(11)\n",
            "memory usage: 1.1+ MB\n"
          ]
        }
      ],
      "source": [
        "# Display concise summary information about the DataFrame, including data types and non-null values count\n",
        "data.info()"
      ]
    },
    {
      "cell_type": "markdown",
      "metadata": {
        "id": "KC1lIpWL-B6F"
      },
      "source": [
        "Output di atas menunjukkan informasi rinci tentang dataset dalam format DataFrame. Berikut adalah penjelasan detailnya:\n",
        "\n",
        "- RangeIndex: Menunjukkan bahwa indeks dataset memiliki rentang dari 0 hingga 8237, dengan total 8238 entri atau baris data.\n",
        "- Data columns: Menyajikan informasi tentang kolom-kolom dalam dataset beserta jumlah non-null values dan tipe data (Dtype) dari setiap kolom.\n",
        "Total columns (total 17 columns): Mengindikasikan bahwa dataset memiliki total 17 kolom.\n",
        "\n",
        "Setiap baris pada bagian \"Data columns\" memberikan informasi tentang kolom-kolom dalam dataset, yang meliputi:\n",
        "- Column: Nama kolom atau fitur dalam dataset.\n",
        "- Non-Null Count: Jumlah nilai non-null atau tidak kosong dalam kolom tersebut. Misalnya, kolom 'job' memiliki 8230 nilai non-null, artinya ada 8 nilai yang kosong dalam kolom tersebut.\n",
        "- Dtype: Tipe data dari nilai-nilai dalam kolom tersebut, seperti float64 (untuk bilangan desimal), int64 (untuk bilangan bulat), atau object (untuk tipe data string atau kategori).\n",
        "\n",
        "Selanjutnya, di bagian bawah, terdapat informasi tambahan tentang dataset, termasuk:\n",
        "- Memory usage: Menunjukkan penggunaan memori yang diperlukan oleh dataset. Dalam hal ini, dataset menggunakan sekitar 1.1+ MB memori."
      ]
    },
    {
      "cell_type": "code",
      "execution_count": 7,
      "metadata": {
        "colab": {
          "base_uri": "https://localhost:8080/"
        },
        "id": "BIbdWTHpq5cz",
        "outputId": "18d6a3e2-ec79-4899-edd6-5f07ae6fb94e"
      },
      "outputs": [
        {
          "name": "stdout",
          "output_type": "stream",
          "text": [
            "Value counts for job:\n",
            "job\n",
            "admin.           2033\n",
            "blue-collar      1870\n",
            "technician       1372\n",
            "services          822\n",
            "management        546\n",
            "retired           366\n",
            "entrepreneur      294\n",
            "self-employed     263\n",
            "housemaid         219\n",
            "unemployed        196\n",
            "student           184\n",
            "unknown            65\n",
            "Name: count, dtype: int64\n",
            "\n",
            "\n",
            "Value counts for marital:\n",
            "marital\n",
            "married     4994\n",
            "single      2338\n",
            "divorced     892\n",
            "unknown       14\n",
            "Name: count, dtype: int64\n",
            "\n",
            "\n",
            "Value counts for education:\n",
            "education\n",
            "university.degree      2379\n",
            "high.school            1915\n",
            "basic.9y               1243\n",
            "professional.course    1043\n",
            "basic.4y                817\n",
            "basic.6y                486\n",
            "unknown                 349\n",
            "illiterate                6\n",
            "Name: count, dtype: int64\n",
            "\n",
            "\n",
            "Value counts for default:\n",
            "default\n",
            "no         6491\n",
            "unknown    1747\n",
            "Name: count, dtype: int64\n",
            "\n",
            "\n",
            "Value counts for housing:\n",
            "housing\n",
            "yes        4284\n",
            "no         3749\n",
            "unknown     205\n",
            "Name: count, dtype: int64\n",
            "\n",
            "\n",
            "Value counts for loan:\n",
            "loan\n",
            "no         6741\n",
            "yes        1292\n",
            "unknown     205\n",
            "Name: count, dtype: int64\n",
            "\n",
            "\n",
            "Value counts for contact:\n",
            "contact\n",
            "cellular     5232\n",
            "telephone    3006\n",
            "Name: count, dtype: int64\n",
            "\n",
            "\n",
            "Value counts for month:\n",
            "month\n",
            "may    2729\n",
            "jul    1481\n",
            "aug    1189\n",
            "jun    1074\n",
            "nov     827\n",
            "apr     529\n",
            "oct     149\n",
            "sep     117\n",
            "mar     105\n",
            "dec      38\n",
            "Name: count, dtype: int64\n",
            "\n",
            "\n",
            "Value counts for day_of_week:\n",
            "day_of_week\n",
            "thu    1769\n",
            "mon    1676\n",
            "wed    1670\n",
            "tue    1599\n",
            "fri    1524\n",
            "Name: count, dtype: int64\n",
            "\n",
            "\n",
            "Value counts for poutcome:\n",
            "poutcome\n",
            "nonexistent    7136\n",
            "failure         836\n",
            "success         266\n",
            "Name: count, dtype: int64\n",
            "\n",
            "\n"
          ]
        }
      ],
      "source": [
        "categorical_columns = ['job', 'marital', 'education', 'default', 'housing', 'loan', 'contact', 'month', 'day_of_week', 'poutcome']\n",
        "\n",
        "# Menggunakan loop untuk menampilkan value counts untuk setiap kolom kategorikal\n",
        "for column in categorical_columns:\n",
        "    print(f\"Value counts for {column}:\")\n",
        "    print(data[column].value_counts())\n",
        "    print(\"\\n\")  # Mencetak baris kosong untuk pemisah"
      ]
    },
    {
      "cell_type": "markdown",
      "metadata": {
        "id": "EaIT3J_W_LCS"
      },
      "source": [
        "Setiap baris pada bagian \"Value counts for ...\" memberikan informasi tentang kolom-kolom dalam dataset, yang meliputi:\n",
        "\n",
        "- Kolom: Nama kolom atau fitur dalam dataset.\n",
        "- Nilai: Masing-masing nilai yang ada dalam kolom tersebut.\n",
        "- Frekuensi: Jumlah kemunculan nilai tersebut dalam kolom.\n",
        "\n",
        "Informasi ini membantu untuk memahami distribusi dari nilai-nilai kategorikal dalam dataset."
      ]
    },
    {
      "cell_type": "markdown",
      "metadata": {
        "id": "R6XBEqetqgO7"
      },
      "source": [
        "## **Data Preprocessing**"
      ]
    },
    {
      "cell_type": "code",
      "execution_count": 8,
      "metadata": {
        "id": "qCVvyK6BA8cQ"
      },
      "outputs": [],
      "source": [
        "# Drop unnecessary columns\n",
        "data.drop(['Unnamed: 0'], axis=1, inplace=True)"
      ]
    },
    {
      "cell_type": "code",
      "execution_count": 9,
      "metadata": {
        "colab": {
          "base_uri": "https://localhost:8080/",
          "height": 206
        },
        "id": "ogdZVVkC2zub",
        "outputId": "5f9ad3a3-9f04-45c2-c24b-8585fbb0e21e"
      },
      "outputs": [
        {
          "data": {
            "application/vnd.google.colaboratory.intrinsic+json": {
              "summary": "{\n  \"name\": \"data\",\n  \"rows\": 8238,\n  \"fields\": [\n    {\n      \"column\": \"age\",\n      \"properties\": {\n        \"dtype\": \"number\",\n        \"std\": 10,\n        \"min\": 17,\n        \"max\": 89,\n        \"num_unique_values\": 72,\n        \"samples\": [\n          39,\n          84,\n          45\n        ],\n        \"semantic_type\": \"\",\n        \"description\": \"\"\n      }\n    },\n    {\n      \"column\": \"job\",\n      \"properties\": {\n        \"dtype\": \"category\",\n        \"num_unique_values\": 12,\n        \"samples\": [\n          \"student\",\n          \"unknown\",\n          \"retired\"\n        ],\n        \"semantic_type\": \"\",\n        \"description\": \"\"\n      }\n    },\n    {\n      \"column\": \"marital\",\n      \"properties\": {\n        \"dtype\": \"category\",\n        \"num_unique_values\": 4,\n        \"samples\": [\n          \"married\",\n          \"unknown\",\n          \"divorced\"\n        ],\n        \"semantic_type\": \"\",\n        \"description\": \"\"\n      }\n    },\n    {\n      \"column\": \"education\",\n      \"properties\": {\n        \"dtype\": \"category\",\n        \"num_unique_values\": 8,\n        \"samples\": [\n          \"high.school\",\n          \"unknown\",\n          \"basic.4y\"\n        ],\n        \"semantic_type\": \"\",\n        \"description\": \"\"\n      }\n    },\n    {\n      \"column\": \"default\",\n      \"properties\": {\n        \"dtype\": \"category\",\n        \"num_unique_values\": 2,\n        \"samples\": [\n          \"unknown\",\n          \"no\"\n        ],\n        \"semantic_type\": \"\",\n        \"description\": \"\"\n      }\n    },\n    {\n      \"column\": \"housing\",\n      \"properties\": {\n        \"dtype\": \"category\",\n        \"num_unique_values\": 3,\n        \"samples\": [\n          \"no\",\n          \"yes\"\n        ],\n        \"semantic_type\": \"\",\n        \"description\": \"\"\n      }\n    },\n    {\n      \"column\": \"loan\",\n      \"properties\": {\n        \"dtype\": \"category\",\n        \"num_unique_values\": 3,\n        \"samples\": [\n          \"no\",\n          \"yes\"\n        ],\n        \"semantic_type\": \"\",\n        \"description\": \"\"\n      }\n    },\n    {\n      \"column\": \"contact\",\n      \"properties\": {\n        \"dtype\": \"category\",\n        \"num_unique_values\": 2,\n        \"samples\": [\n          \"telephone\",\n          \"cellular\"\n        ],\n        \"semantic_type\": \"\",\n        \"description\": \"\"\n      }\n    },\n    {\n      \"column\": \"month\",\n      \"properties\": {\n        \"dtype\": \"category\",\n        \"num_unique_values\": 10,\n        \"samples\": [\n          \"mar\",\n          \"may\"\n        ],\n        \"semantic_type\": \"\",\n        \"description\": \"\"\n      }\n    },\n    {\n      \"column\": \"day_of_week\",\n      \"properties\": {\n        \"dtype\": \"category\",\n        \"num_unique_values\": 5,\n        \"samples\": [\n          \"wed\",\n          \"fri\"\n        ],\n        \"semantic_type\": \"\",\n        \"description\": \"\"\n      }\n    },\n    {\n      \"column\": \"duration\",\n      \"properties\": {\n        \"dtype\": \"number\",\n        \"std\": 266.7349690925546,\n        \"min\": 4.0,\n        \"max\": 4918.0,\n        \"num_unique_values\": 1025,\n        \"samples\": [\n          752.0,\n          39.0\n        ],\n        \"semantic_type\": \"\",\n        \"description\": \"\"\n      }\n    },\n    {\n      \"column\": \"campaign\",\n      \"properties\": {\n        \"dtype\": \"number\",\n        \"std\": 2,\n        \"min\": 1,\n        \"max\": 43,\n        \"num_unique_values\": 33,\n        \"samples\": [\n          33,\n          31\n        ],\n        \"semantic_type\": \"\",\n        \"description\": \"\"\n      }\n    },\n    {\n      \"column\": \"pdays\",\n      \"properties\": {\n        \"dtype\": \"number\",\n        \"std\": 183,\n        \"min\": 0,\n        \"max\": 999,\n        \"num_unique_values\": 21,\n        \"samples\": [\n          3,\n          12\n        ],\n        \"semantic_type\": \"\",\n        \"description\": \"\"\n      }\n    },\n    {\n      \"column\": \"previous\",\n      \"properties\": {\n        \"dtype\": \"number\",\n        \"std\": 0,\n        \"min\": 0,\n        \"max\": 6,\n        \"num_unique_values\": 7,\n        \"samples\": [\n          3,\n          0\n        ],\n        \"semantic_type\": \"\",\n        \"description\": \"\"\n      }\n    },\n    {\n      \"column\": \"poutcome\",\n      \"properties\": {\n        \"dtype\": \"category\",\n        \"num_unique_values\": 3,\n        \"samples\": [\n          \"success\",\n          \"nonexistent\"\n        ],\n        \"semantic_type\": \"\",\n        \"description\": \"\"\n      }\n    },\n    {\n      \"column\": \"y\",\n      \"properties\": {\n        \"dtype\": \"category\",\n        \"num_unique_values\": 2,\n        \"samples\": [\n          \"no\",\n          \"yes\"\n        ],\n        \"semantic_type\": \"\",\n        \"description\": \"\"\n      }\n    }\n  ]\n}",
              "type": "dataframe",
              "variable_name": "data"
            },
            "text/html": [
              "\n",
              "  <div id=\"df-3aa40d99-31d0-418a-b120-55ad948868c4\" class=\"colab-df-container\">\n",
              "    <div>\n",
              "<style scoped>\n",
              "    .dataframe tbody tr th:only-of-type {\n",
              "        vertical-align: middle;\n",
              "    }\n",
              "\n",
              "    .dataframe tbody tr th {\n",
              "        vertical-align: top;\n",
              "    }\n",
              "\n",
              "    .dataframe thead th {\n",
              "        text-align: right;\n",
              "    }\n",
              "</style>\n",
              "<table border=\"1\" class=\"dataframe\">\n",
              "  <thead>\n",
              "    <tr style=\"text-align: right;\">\n",
              "      <th></th>\n",
              "      <th>age</th>\n",
              "      <th>job</th>\n",
              "      <th>marital</th>\n",
              "      <th>education</th>\n",
              "      <th>default</th>\n",
              "      <th>housing</th>\n",
              "      <th>loan</th>\n",
              "      <th>contact</th>\n",
              "      <th>month</th>\n",
              "      <th>day_of_week</th>\n",
              "      <th>duration</th>\n",
              "      <th>campaign</th>\n",
              "      <th>pdays</th>\n",
              "      <th>previous</th>\n",
              "      <th>poutcome</th>\n",
              "      <th>y</th>\n",
              "    </tr>\n",
              "  </thead>\n",
              "  <tbody>\n",
              "    <tr>\n",
              "      <th>0</th>\n",
              "      <td>83</td>\n",
              "      <td>retired</td>\n",
              "      <td>divorced</td>\n",
              "      <td>basic.4y</td>\n",
              "      <td>no</td>\n",
              "      <td>no</td>\n",
              "      <td>no</td>\n",
              "      <td>cellular</td>\n",
              "      <td>nov</td>\n",
              "      <td>tue</td>\n",
              "      <td>242.0</td>\n",
              "      <td>1</td>\n",
              "      <td>3</td>\n",
              "      <td>3</td>\n",
              "      <td>success</td>\n",
              "      <td>yes</td>\n",
              "    </tr>\n",
              "    <tr>\n",
              "      <th>1</th>\n",
              "      <td>32</td>\n",
              "      <td>services</td>\n",
              "      <td>married</td>\n",
              "      <td>high.school</td>\n",
              "      <td>no</td>\n",
              "      <td>no</td>\n",
              "      <td>no</td>\n",
              "      <td>telephone</td>\n",
              "      <td>may</td>\n",
              "      <td>tue</td>\n",
              "      <td>190.0</td>\n",
              "      <td>3</td>\n",
              "      <td>999</td>\n",
              "      <td>0</td>\n",
              "      <td>nonexistent</td>\n",
              "      <td>no</td>\n",
              "    </tr>\n",
              "    <tr>\n",
              "      <th>2</th>\n",
              "      <td>31</td>\n",
              "      <td>admin.</td>\n",
              "      <td>single</td>\n",
              "      <td>university.degree</td>\n",
              "      <td>no</td>\n",
              "      <td>yes</td>\n",
              "      <td>no</td>\n",
              "      <td>telephone</td>\n",
              "      <td>may</td>\n",
              "      <td>wed</td>\n",
              "      <td>325.0</td>\n",
              "      <td>2</td>\n",
              "      <td>999</td>\n",
              "      <td>0</td>\n",
              "      <td>nonexistent</td>\n",
              "      <td>no</td>\n",
              "    </tr>\n",
              "    <tr>\n",
              "      <th>3</th>\n",
              "      <td>33</td>\n",
              "      <td>admin.</td>\n",
              "      <td>single</td>\n",
              "      <td>university.degree</td>\n",
              "      <td>no</td>\n",
              "      <td>yes</td>\n",
              "      <td>no</td>\n",
              "      <td>telephone</td>\n",
              "      <td>aug</td>\n",
              "      <td>thu</td>\n",
              "      <td>158.0</td>\n",
              "      <td>1</td>\n",
              "      <td>999</td>\n",
              "      <td>0</td>\n",
              "      <td>nonexistent</td>\n",
              "      <td>no</td>\n",
              "    </tr>\n",
              "    <tr>\n",
              "      <th>4</th>\n",
              "      <td>39</td>\n",
              "      <td>services</td>\n",
              "      <td>married</td>\n",
              "      <td>high.school</td>\n",
              "      <td>no</td>\n",
              "      <td>yes</td>\n",
              "      <td>no</td>\n",
              "      <td>telephone</td>\n",
              "      <td>jul</td>\n",
              "      <td>mon</td>\n",
              "      <td>158.0</td>\n",
              "      <td>1</td>\n",
              "      <td>999</td>\n",
              "      <td>0</td>\n",
              "      <td>nonexistent</td>\n",
              "      <td>no</td>\n",
              "    </tr>\n",
              "  </tbody>\n",
              "</table>\n",
              "</div>\n",
              "    <div class=\"colab-df-buttons\">\n",
              "\n",
              "  <div class=\"colab-df-container\">\n",
              "    <button class=\"colab-df-convert\" onclick=\"convertToInteractive('df-3aa40d99-31d0-418a-b120-55ad948868c4')\"\n",
              "            title=\"Convert this dataframe to an interactive table.\"\n",
              "            style=\"display:none;\">\n",
              "\n",
              "  <svg xmlns=\"http://www.w3.org/2000/svg\" height=\"24px\" viewBox=\"0 -960 960 960\">\n",
              "    <path d=\"M120-120v-720h720v720H120Zm60-500h600v-160H180v160Zm220 220h160v-160H400v160Zm0 220h160v-160H400v160ZM180-400h160v-160H180v160Zm440 0h160v-160H620v160ZM180-180h160v-160H180v160Zm440 0h160v-160H620v160Z\"/>\n",
              "  </svg>\n",
              "    </button>\n",
              "\n",
              "  <style>\n",
              "    .colab-df-container {\n",
              "      display:flex;\n",
              "      gap: 12px;\n",
              "    }\n",
              "\n",
              "    .colab-df-convert {\n",
              "      background-color: #E8F0FE;\n",
              "      border: none;\n",
              "      border-radius: 50%;\n",
              "      cursor: pointer;\n",
              "      display: none;\n",
              "      fill: #1967D2;\n",
              "      height: 32px;\n",
              "      padding: 0 0 0 0;\n",
              "      width: 32px;\n",
              "    }\n",
              "\n",
              "    .colab-df-convert:hover {\n",
              "      background-color: #E2EBFA;\n",
              "      box-shadow: 0px 1px 2px rgba(60, 64, 67, 0.3), 0px 1px 3px 1px rgba(60, 64, 67, 0.15);\n",
              "      fill: #174EA6;\n",
              "    }\n",
              "\n",
              "    .colab-df-buttons div {\n",
              "      margin-bottom: 4px;\n",
              "    }\n",
              "\n",
              "    [theme=dark] .colab-df-convert {\n",
              "      background-color: #3B4455;\n",
              "      fill: #D2E3FC;\n",
              "    }\n",
              "\n",
              "    [theme=dark] .colab-df-convert:hover {\n",
              "      background-color: #434B5C;\n",
              "      box-shadow: 0px 1px 3px 1px rgba(0, 0, 0, 0.15);\n",
              "      filter: drop-shadow(0px 1px 2px rgba(0, 0, 0, 0.3));\n",
              "      fill: #FFFFFF;\n",
              "    }\n",
              "  </style>\n",
              "\n",
              "    <script>\n",
              "      const buttonEl =\n",
              "        document.querySelector('#df-3aa40d99-31d0-418a-b120-55ad948868c4 button.colab-df-convert');\n",
              "      buttonEl.style.display =\n",
              "        google.colab.kernel.accessAllowed ? 'block' : 'none';\n",
              "\n",
              "      async function convertToInteractive(key) {\n",
              "        const element = document.querySelector('#df-3aa40d99-31d0-418a-b120-55ad948868c4');\n",
              "        const dataTable =\n",
              "          await google.colab.kernel.invokeFunction('convertToInteractive',\n",
              "                                                    [key], {});\n",
              "        if (!dataTable) return;\n",
              "\n",
              "        const docLinkHtml = 'Like what you see? Visit the ' +\n",
              "          '<a target=\"_blank\" href=https://colab.research.google.com/notebooks/data_table.ipynb>data table notebook</a>'\n",
              "          + ' to learn more about interactive tables.';\n",
              "        element.innerHTML = '';\n",
              "        dataTable['output_type'] = 'display_data';\n",
              "        await google.colab.output.renderOutput(dataTable, element);\n",
              "        const docLink = document.createElement('div');\n",
              "        docLink.innerHTML = docLinkHtml;\n",
              "        element.appendChild(docLink);\n",
              "      }\n",
              "    </script>\n",
              "  </div>\n",
              "\n",
              "\n",
              "<div id=\"df-316b6187-08f2-4001-8b3f-49989328eed4\">\n",
              "  <button class=\"colab-df-quickchart\" onclick=\"quickchart('df-316b6187-08f2-4001-8b3f-49989328eed4')\"\n",
              "            title=\"Suggest charts\"\n",
              "            style=\"display:none;\">\n",
              "\n",
              "<svg xmlns=\"http://www.w3.org/2000/svg\" height=\"24px\"viewBox=\"0 0 24 24\"\n",
              "     width=\"24px\">\n",
              "    <g>\n",
              "        <path d=\"M19 3H5c-1.1 0-2 .9-2 2v14c0 1.1.9 2 2 2h14c1.1 0 2-.9 2-2V5c0-1.1-.9-2-2-2zM9 17H7v-7h2v7zm4 0h-2V7h2v10zm4 0h-2v-4h2v4z\"/>\n",
              "    </g>\n",
              "</svg>\n",
              "  </button>\n",
              "\n",
              "<style>\n",
              "  .colab-df-quickchart {\n",
              "      --bg-color: #E8F0FE;\n",
              "      --fill-color: #1967D2;\n",
              "      --hover-bg-color: #E2EBFA;\n",
              "      --hover-fill-color: #174EA6;\n",
              "      --disabled-fill-color: #AAA;\n",
              "      --disabled-bg-color: #DDD;\n",
              "  }\n",
              "\n",
              "  [theme=dark] .colab-df-quickchart {\n",
              "      --bg-color: #3B4455;\n",
              "      --fill-color: #D2E3FC;\n",
              "      --hover-bg-color: #434B5C;\n",
              "      --hover-fill-color: #FFFFFF;\n",
              "      --disabled-bg-color: #3B4455;\n",
              "      --disabled-fill-color: #666;\n",
              "  }\n",
              "\n",
              "  .colab-df-quickchart {\n",
              "    background-color: var(--bg-color);\n",
              "    border: none;\n",
              "    border-radius: 50%;\n",
              "    cursor: pointer;\n",
              "    display: none;\n",
              "    fill: var(--fill-color);\n",
              "    height: 32px;\n",
              "    padding: 0;\n",
              "    width: 32px;\n",
              "  }\n",
              "\n",
              "  .colab-df-quickchart:hover {\n",
              "    background-color: var(--hover-bg-color);\n",
              "    box-shadow: 0 1px 2px rgba(60, 64, 67, 0.3), 0 1px 3px 1px rgba(60, 64, 67, 0.15);\n",
              "    fill: var(--button-hover-fill-color);\n",
              "  }\n",
              "\n",
              "  .colab-df-quickchart-complete:disabled,\n",
              "  .colab-df-quickchart-complete:disabled:hover {\n",
              "    background-color: var(--disabled-bg-color);\n",
              "    fill: var(--disabled-fill-color);\n",
              "    box-shadow: none;\n",
              "  }\n",
              "\n",
              "  .colab-df-spinner {\n",
              "    border: 2px solid var(--fill-color);\n",
              "    border-color: transparent;\n",
              "    border-bottom-color: var(--fill-color);\n",
              "    animation:\n",
              "      spin 1s steps(1) infinite;\n",
              "  }\n",
              "\n",
              "  @keyframes spin {\n",
              "    0% {\n",
              "      border-color: transparent;\n",
              "      border-bottom-color: var(--fill-color);\n",
              "      border-left-color: var(--fill-color);\n",
              "    }\n",
              "    20% {\n",
              "      border-color: transparent;\n",
              "      border-left-color: var(--fill-color);\n",
              "      border-top-color: var(--fill-color);\n",
              "    }\n",
              "    30% {\n",
              "      border-color: transparent;\n",
              "      border-left-color: var(--fill-color);\n",
              "      border-top-color: var(--fill-color);\n",
              "      border-right-color: var(--fill-color);\n",
              "    }\n",
              "    40% {\n",
              "      border-color: transparent;\n",
              "      border-right-color: var(--fill-color);\n",
              "      border-top-color: var(--fill-color);\n",
              "    }\n",
              "    60% {\n",
              "      border-color: transparent;\n",
              "      border-right-color: var(--fill-color);\n",
              "    }\n",
              "    80% {\n",
              "      border-color: transparent;\n",
              "      border-right-color: var(--fill-color);\n",
              "      border-bottom-color: var(--fill-color);\n",
              "    }\n",
              "    90% {\n",
              "      border-color: transparent;\n",
              "      border-bottom-color: var(--fill-color);\n",
              "    }\n",
              "  }\n",
              "</style>\n",
              "\n",
              "  <script>\n",
              "    async function quickchart(key) {\n",
              "      const quickchartButtonEl =\n",
              "        document.querySelector('#' + key + ' button');\n",
              "      quickchartButtonEl.disabled = true;  // To prevent multiple clicks.\n",
              "      quickchartButtonEl.classList.add('colab-df-spinner');\n",
              "      try {\n",
              "        const charts = await google.colab.kernel.invokeFunction(\n",
              "            'suggestCharts', [key], {});\n",
              "      } catch (error) {\n",
              "        console.error('Error during call to suggestCharts:', error);\n",
              "      }\n",
              "      quickchartButtonEl.classList.remove('colab-df-spinner');\n",
              "      quickchartButtonEl.classList.add('colab-df-quickchart-complete');\n",
              "    }\n",
              "    (() => {\n",
              "      let quickchartButtonEl =\n",
              "        document.querySelector('#df-316b6187-08f2-4001-8b3f-49989328eed4 button');\n",
              "      quickchartButtonEl.style.display =\n",
              "        google.colab.kernel.accessAllowed ? 'block' : 'none';\n",
              "    })();\n",
              "  </script>\n",
              "</div>\n",
              "\n",
              "    </div>\n",
              "  </div>\n"
            ],
            "text/plain": [
              "   age       job   marital          education default housing loan    contact  \\\n",
              "0   83   retired  divorced           basic.4y      no      no   no   cellular   \n",
              "1   32  services   married        high.school      no      no   no  telephone   \n",
              "2   31    admin.    single  university.degree      no     yes   no  telephone   \n",
              "3   33    admin.    single  university.degree      no     yes   no  telephone   \n",
              "4   39  services   married        high.school      no     yes   no  telephone   \n",
              "\n",
              "  month day_of_week  duration  campaign  pdays  previous     poutcome    y  \n",
              "0   nov         tue     242.0         1      3         3      success  yes  \n",
              "1   may         tue     190.0         3    999         0  nonexistent   no  \n",
              "2   may         wed     325.0         2    999         0  nonexistent   no  \n",
              "3   aug         thu     158.0         1    999         0  nonexistent   no  \n",
              "4   jul         mon     158.0         1    999         0  nonexistent   no  "
            ]
          },
          "execution_count": 9,
          "metadata": {},
          "output_type": "execute_result"
        }
      ],
      "source": [
        "# Display the first few rows of the dataset after drop\n",
        "data.head()"
      ]
    },
    {
      "cell_type": "markdown",
      "metadata": {
        "id": "O69nHQfHu6O3"
      },
      "source": [
        "Variabel yang tidak berpengaruh terhadap model:\n",
        "\n",
        "- Unnamed: 0 -> Variabel ini tampaknya merupakan indeks dari DataFrame yang mungkin secara tidak sengaja tersimpan saat data di-export ke CSV. Variabel ini tidak memiliki nilai prediktif dan sebaiknya dihapus.\n"
      ]
    },
    {
      "cell_type": "code",
      "execution_count": 10,
      "metadata": {
        "colab": {
          "base_uri": "https://localhost:8080/"
        },
        "id": "sflDnbHRpUvi",
        "outputId": "c7122f6e-cc1a-4c8e-9248-bd7f2287be81"
      },
      "outputs": [
        {
          "data": {
            "text/plain": [
              "(8238, 16)"
            ]
          },
          "execution_count": 10,
          "metadata": {},
          "output_type": "execute_result"
        }
      ],
      "source": [
        "# Check the number of rows and columns in the dataset after dropping columns\n",
        "data.shape"
      ]
    },
    {
      "cell_type": "markdown",
      "metadata": {
        "id": "cbET4YMquzcB"
      },
      "source": [
        "Output di atas menunjukkan penghapusan (drop) terhadap beberapa kolom telah berhasil dilakukan sehingga jumlah baris dan kolom dalam dataset seudah berubah menjadi 16. Kolom yang dihapus tidak mempengaruhi hasil prediksi.\n",
        "\n",
        "\n",
        "\n"
      ]
    },
    {
      "cell_type": "markdown",
      "metadata": {
        "id": "HYFrsOs4vR1C"
      },
      "source": [
        "##### **Pisahkan Target**"
      ]
    },
    {
      "cell_type": "code",
      "execution_count": 11,
      "metadata": {
        "id": "5xCJmd-upUyG"
      },
      "outputs": [],
      "source": [
        "# Separate Features and Target\n",
        "X = data.drop(['y'], axis=1)  # Features other than the target\n",
        "y = data['y']  # Target"
      ]
    },
    {
      "cell_type": "markdown",
      "metadata": {
        "id": "s2YWHCN3vxAf"
      },
      "source": [
        "##### **Split Train dan Test**"
      ]
    },
    {
      "cell_type": "code",
      "execution_count": 12,
      "metadata": {
        "id": "aMHZDrz0pU2c"
      },
      "outputs": [],
      "source": [
        "# Split Data\n",
        "X_train, X_test, y_train, y_test = train_test_split(X, y, test_size=0.2, random_state=42)"
      ]
    },
    {
      "cell_type": "markdown",
      "metadata": {
        "id": "X9uWS624v2k_"
      },
      "source": [
        "##### **Check Missing Values di Data Training dan Testing**"
      ]
    },
    {
      "cell_type": "code",
      "execution_count": 13,
      "metadata": {
        "colab": {
          "base_uri": "https://localhost:8080/"
        },
        "id": "Wdz1HcbNpU4x",
        "outputId": "46fa45b2-965d-4707-c593-d3dc413239d5"
      },
      "outputs": [
        {
          "name": "stdout",
          "output_type": "stream",
          "text": [
            "Missing values in the training data:\n",
            "age            0\n",
            "job            5\n",
            "marital        0\n",
            "education      0\n",
            "default        0\n",
            "housing        0\n",
            "loan           0\n",
            "contact        0\n",
            "month          0\n",
            "day_of_week    0\n",
            "duration       9\n",
            "campaign       0\n",
            "pdays          0\n",
            "previous       0\n",
            "poutcome       0\n",
            "dtype: int64\n",
            "\n",
            "Missing values in the testing data:\n",
            "age            0\n",
            "job            3\n",
            "marital        0\n",
            "education      0\n",
            "default        0\n",
            "housing        0\n",
            "loan           0\n",
            "contact        0\n",
            "month          0\n",
            "day_of_week    0\n",
            "duration       3\n",
            "campaign       0\n",
            "pdays          0\n",
            "previous       0\n",
            "poutcome       0\n",
            "dtype: int64\n"
          ]
        }
      ],
      "source": [
        "# Check for missing values in the training data\n",
        "missing_values_train = X_train.isnull().sum()\n",
        "\n",
        "# Check for missing values in the testing data\n",
        "missing_values_test = X_test.isnull().sum()\n",
        "\n",
        "print(\"Missing values in the training data:\")\n",
        "print(missing_values_train)\n",
        "\n",
        "print(\"\\nMissing values in the testing data:\")\n",
        "print(missing_values_test)"
      ]
    },
    {
      "cell_type": "markdown",
      "metadata": {
        "id": "3KbTavQKv8l8"
      },
      "source": [
        "Output di atas menunjukkan adanya jumlah nilai yang hilang (missing values) dalam data training dan data testing dalam kolom  'job' dan 'duration', dimana 'job' merupakan data categorical sehingga untuk penanganannya akan menggunakan nilai modus untuk mengisi nilai yang hilang (missing values), sedangkan 'duration' merupakan data numeric sehingga penanganannya akan menggunakan nilai median atau mean untuk mengisi nilai yang hilang (missing values) dilihat berdasarkan adanya outliers atau tidak."
      ]
    },
    {
      "cell_type": "markdown",
      "metadata": {
        "id": "hq25RPEUIUJe"
      },
      "source": [
        "##### **Check Outliers**"
      ]
    },
    {
      "cell_type": "code",
      "execution_count": 14,
      "metadata": {
        "colab": {
          "base_uri": "https://localhost:8080/",
          "height": 948
        },
        "id": "M-TZIO12IXkQ",
        "outputId": "b253994a-f93f-4116-f25b-158a50b41714"
      },
      "outputs": [
        {
          "data": {
            "image/png": "[encoded data removed]",
            "text/plain": [
              "<Figure size 640x480 with 1 Axes>"
            ]
          },
          "metadata": {},
          "output_type": "display_data"
        },
        {
          "data": {
            "image/png": "[encoded data removed]",
            "text/plain": [
              "<Figure size 640x480 with 1 Axes>"
            ]
          },
          "metadata": {},
          "output_type": "display_data"
        }
      ],
      "source": [
        "# Check outliers for the 'Duration' column in the training data\n",
        "sns.boxplot(x=X_train['duration'])\n",
        "plt.title('Boxplot of Duration in Training Data')\n",
        "plt.show()\n",
        "\n",
        "# Check outliers for the 'Duration' column in the testing data\n",
        "sns.boxplot(x=X_test['duration'])\n",
        "plt.title('\\nBoxplot of Duration in Testing Data')\n",
        "plt.show()"
      ]
    },
    {
      "cell_type": "markdown",
      "metadata": {
        "id": "uJRW29FcJBNV"
      },
      "source": [
        "Output di atas menunjukkan adanya outliers dalam data training dan data testing dalam kolom  'duration', sehingga untuk penanganannya akan menggunakan nilai median untuk mengisi nilai yang hilang (missing values)."
      ]
    },
    {
      "cell_type": "markdown",
      "metadata": {
        "id": "W3BXIf5SwlZz"
      },
      "source": [
        "##### **Handling Missing Values**"
      ]
    },
    {
      "cell_type": "markdown",
      "metadata": {
        "id": "Z2uTI8sJIN7Z"
      },
      "source": [
        "**Categorical**"
      ]
    },
    {
      "cell_type": "code",
      "execution_count": 15,
      "metadata": {
        "colab": {
          "base_uri": "https://localhost:8080/"
        },
        "id": "JWJfIeGrwoQA",
        "outputId": "504b4d5f-896d-4b5b-91fe-40e79398a8a7"
      },
      "outputs": [
        {
          "name": "stdout",
          "output_type": "stream",
          "text": [
            "Modus Job: admin.\n"
          ]
        }
      ],
      "source": [
        "# Find the mode of the 'Job' column\n",
        "modus_job = X_train['job'].mode()[0]\n",
        "print(\"Modus Job:\", modus_job)"
      ]
    },
    {
      "cell_type": "code",
      "execution_count": 16,
      "metadata": {
        "id": "b-AFhglKwoow"
      },
      "outputs": [],
      "source": [
        "# Fill missing values with the median for training, testing, and validation data\n",
        "X_train['job'].fillna('admin.', inplace=True)\n",
        "X_test['job'].fillna('admin.', inplace=True)"
      ]
    },
    {
      "cell_type": "markdown",
      "metadata": {
        "id": "5xbE-D81JHac"
      },
      "source": [
        "**Numerical**"
      ]
    },
    {
      "cell_type": "code",
      "execution_count": 17,
      "metadata": {
        "colab": {
          "base_uri": "https://localhost:8080/"
        },
        "id": "Ox8vx66oJt8b",
        "outputId": "73deae50-de75-4f78-ca6d-a9dbedb96836"
      },
      "outputs": [
        {
          "name": "stdout",
          "output_type": "stream",
          "text": [
            "Median Duration: 179.0\n"
          ]
        }
      ],
      "source": [
        "# Find the median of the 'Duration' column\n",
        "print(\"Median Duration:\", np.nanmedian(X_train['duration']))"
      ]
    },
    {
      "cell_type": "code",
      "execution_count": 18,
      "metadata": {
        "id": "xevl2oqZJt_x"
      },
      "outputs": [],
      "source": [
        "# Fill missing values with the median for training, testing, and validation data\n",
        "X_train['duration'].fillna(179.0, inplace=True)\n",
        "X_test['duration'].fillna(179.0, inplace=True)"
      ]
    },
    {
      "cell_type": "markdown",
      "metadata": {
        "id": "lxgXpeFrKHvX"
      },
      "source": [
        "**Recheck Missing Values**"
      ]
    },
    {
      "cell_type": "code",
      "execution_count": 19,
      "metadata": {
        "colab": {
          "base_uri": "https://localhost:8080/"
        },
        "id": "8th3n6Kwwosg",
        "outputId": "f4f5ee31-c1b0-4cb4-9afc-f449f1c790f3"
      },
      "outputs": [
        {
          "name": "stdout",
          "output_type": "stream",
          "text": [
            "Missing values in the training data:\n",
            "age            0\n",
            "job            0\n",
            "marital        0\n",
            "education      0\n",
            "default        0\n",
            "housing        0\n",
            "loan           0\n",
            "contact        0\n",
            "month          0\n",
            "day_of_week    0\n",
            "duration       0\n",
            "campaign       0\n",
            "pdays          0\n",
            "previous       0\n",
            "poutcome       0\n",
            "dtype: int64\n",
            "\n",
            "Missing values in the testing data:\n",
            "age            0\n",
            "job            0\n",
            "marital        0\n",
            "education      0\n",
            "default        0\n",
            "housing        0\n",
            "loan           0\n",
            "contact        0\n",
            "month          0\n",
            "day_of_week    0\n",
            "duration       0\n",
            "campaign       0\n",
            "pdays          0\n",
            "previous       0\n",
            "poutcome       0\n",
            "dtype: int64\n"
          ]
        }
      ],
      "source": [
        "# Recheck missing values in the training data\n",
        "missing_values_train = X_train.isnull().sum()\n",
        "\n",
        "# Recheck missing values in the testing data\n",
        "missing_values_test = X_test.isnull().sum()\n",
        "\n",
        "print(\"Missing values in the training data:\")\n",
        "print(missing_values_train)\n",
        "\n",
        "print(\"\\nMissing values in the testing data:\")\n",
        "print(missing_values_test)"
      ]
    },
    {
      "cell_type": "code",
      "execution_count": 20,
      "metadata": {
        "colab": {
          "base_uri": "https://localhost:8080/"
        },
        "id": "H5p3E3bbyVme",
        "outputId": "af41b20a-1beb-416c-f74f-d3757214fa0f"
      },
      "outputs": [
        {
          "name": "stdout",
          "output_type": "stream",
          "text": [
            "<class 'pandas.core.frame.DataFrame'>\n",
            "Index: 6590 entries, 3805 to 7270\n",
            "Data columns (total 15 columns):\n",
            " #   Column       Non-Null Count  Dtype  \n",
            "---  ------       --------------  -----  \n",
            " 0   age          6590 non-null   int64  \n",
            " 1   job          6590 non-null   object \n",
            " 2   marital      6590 non-null   object \n",
            " 3   education    6590 non-null   object \n",
            " 4   default      6590 non-null   object \n",
            " 5   housing      6590 non-null   object \n",
            " 6   loan         6590 non-null   object \n",
            " 7   contact      6590 non-null   object \n",
            " 8   month        6590 non-null   object \n",
            " 9   day_of_week  6590 non-null   object \n",
            " 10  duration     6590 non-null   float64\n",
            " 11  campaign     6590 non-null   int64  \n",
            " 12  pdays        6590 non-null   int64  \n",
            " 13  previous     6590 non-null   int64  \n",
            " 14  poutcome     6590 non-null   object \n",
            "dtypes: float64(1), int64(4), object(10)\n",
            "memory usage: 823.8+ KB\n",
            "<class 'pandas.core.frame.DataFrame'>\n",
            "Index: 1648 entries, 706 to 2131\n",
            "Data columns (total 15 columns):\n",
            " #   Column       Non-Null Count  Dtype  \n",
            "---  ------       --------------  -----  \n",
            " 0   age          1648 non-null   int64  \n",
            " 1   job          1648 non-null   object \n",
            " 2   marital      1648 non-null   object \n",
            " 3   education    1648 non-null   object \n",
            " 4   default      1648 non-null   object \n",
            " 5   housing      1648 non-null   object \n",
            " 6   loan         1648 non-null   object \n",
            " 7   contact      1648 non-null   object \n",
            " 8   month        1648 non-null   object \n",
            " 9   day_of_week  1648 non-null   object \n",
            " 10  duration     1648 non-null   float64\n",
            " 11  campaign     1648 non-null   int64  \n",
            " 12  pdays        1648 non-null   int64  \n",
            " 13  previous     1648 non-null   int64  \n",
            " 14  poutcome     1648 non-null   object \n",
            "dtypes: float64(1), int64(4), object(10)\n",
            "memory usage: 206.0+ KB\n"
          ]
        }
      ],
      "source": [
        "# Recheck training and testing data\n",
        "X_train.info()\n",
        "X_test.info()"
      ]
    },
    {
      "cell_type": "markdown",
      "metadata": {
        "id": "kfxpmymWybBZ"
      },
      "source": [
        "Output di atas menunjukkan hasil pengecekan kembali jumlah nilai yang hilang setelah dilakukan pengisian nilai yang hilang (fillna) dalam data training dan data testing."
      ]
    },
    {
      "cell_type": "markdown",
      "metadata": {
        "id": "whvbuJVFyczG"
      },
      "source": [
        "## **Feature Engineering**"
      ]
    },
    {
      "cell_type": "markdown",
      "metadata": {
        "id": "usDHOfZXzBlP"
      },
      "source": [
        "**Encoding**"
      ]
    },
    {
      "cell_type": "markdown",
      "metadata": {
        "id": "HeOLe3InzEjb"
      },
      "source": [
        "Kolom '**job**', '**marital**', '**education**', '**defaul**t', '**housing**', '**loan**','**poutcome**', dan '**contact**' memiliki data type  object yaitu string sehingga perlunya dilakukan one **hot encoding**, sedangkan kolom '**month**', dan '**day_of_week**' akan dilakukan **label ecoding** karena data bersifat ordinal. Proses one-hot encoding penting dilakukan untuk mengubah variabel kategorikal menjadi numerical dalam nilai 0 dan 1, sedangkan label encoding merupakan proses mengubah variabel kategorikal menjadi nilai numerik yang unik untuk setiap kategori dimana setiap kategori dalam kolom diberi label numerik yang unik bisa seperti 1,2, 3 dan lainnya. Ini membantu model pembelajaran mesin dalam memahami dan memproses data, sehingga dapat meningkatkan kinerja dan akurasi model."
      ]
    },
    {
      "cell_type": "markdown",
      "metadata": {
        "id": "OJXwV7SUd_QF"
      },
      "source": [
        "**One-Hot Encoding**"
      ]
    },
    {
      "cell_type": "code",
      "execution_count": 21,
      "metadata": {
        "id": "D4HNa_VEzvcR"
      },
      "outputs": [],
      "source": [
        "# One-Hot Encoding for 'job'\n",
        "X_train_job = pd.get_dummies(X_train['job'], prefix='Job').astype(int)\n",
        "X_test_job = pd.get_dummies(X_test['job'], prefix='Job').astype(int)\n",
        "\n",
        "# Merge back to X_train and X_test datasets\n",
        "X_train = pd.concat([X_train.drop('job', axis=1), X_train_job], axis=1)\n",
        "X_test = pd.concat([X_test.drop('job', axis=1), X_test_job], axis=1)"
      ]
    },
    {
      "cell_type": "code",
      "execution_count": 22,
      "metadata": {
        "id": "G1nGqjulyg5U"
      },
      "outputs": [],
      "source": [
        "# One-Hot Encoding for 'marital'\n",
        "X_train_marital = pd.get_dummies(X_train['marital'], prefix='Marital').astype(int)\n",
        "X_test_marital = pd.get_dummies(X_test['marital'], prefix='Marital').astype(int)\n",
        "\n",
        "# Merge back to X_train and X_test datasets\n",
        "X_train = pd.concat([X_train.drop('marital', axis=1), X_train_marital], axis=1)\n",
        "X_test = pd.concat([X_test.drop('marital', axis=1), X_test_marital], axis=1)"
      ]
    },
    {
      "cell_type": "code",
      "execution_count": 23,
      "metadata": {
        "id": "IGUgP0w80h_0"
      },
      "outputs": [],
      "source": [
        "# One-Hot Encoding for 'education'\n",
        "X_train_education = pd.get_dummies(X_train['education'], prefix='Education').astype(int)\n",
        "X_test_education = pd.get_dummies(X_test['education'], prefix='Education').astype(int)\n",
        "\n",
        "# Merge back to X_train and X_test datasets\n",
        "X_train = pd.concat([X_train.drop('education', axis=1), X_train_education], axis=1)\n",
        "X_test = pd.concat([X_test.drop('education', axis=1), X_test_education], axis=1)"
      ]
    },
    {
      "cell_type": "code",
      "execution_count": 24,
      "metadata": {
        "id": "JTBaEqQn0iCt"
      },
      "outputs": [],
      "source": [
        "# One-Hot Encoding for 'default'\n",
        "X_train_default = pd.get_dummies(X_train['default'], prefix='Default').astype(int)\n",
        "X_test_default = pd.get_dummies(X_test['default'], prefix='Default').astype(int)\n",
        "\n",
        "# Merge back to X_train and X_test datasets\n",
        "X_train = pd.concat([X_train.drop('default', axis=1), X_train_default], axis=1)\n",
        "X_test = pd.concat([X_test.drop('default', axis=1), X_test_default], axis=1)"
      ]
    },
    {
      "cell_type": "code",
      "execution_count": 25,
      "metadata": {
        "id": "LlbgS10T0iEX"
      },
      "outputs": [],
      "source": [
        "# One-Hot Encoding for 'housing'\n",
        "X_train_housing = pd.get_dummies(X_train['housing'], prefix='Housing').astype(int)\n",
        "X_test_housing = pd.get_dummies(X_test['housing'], prefix='Housing').astype(int)\n",
        "\n",
        "# Merge back to X_train and X_test datasets\n",
        "X_train = pd.concat([X_train.drop('housing', axis=1), X_train_housing], axis=1)\n",
        "X_test = pd.concat([X_test.drop('housing', axis=1), X_test_housing], axis=1)\n"
      ]
    },
    {
      "cell_type": "code",
      "execution_count": 26,
      "metadata": {
        "id": "tURGvMEA0iGi"
      },
      "outputs": [],
      "source": [
        "# One-Hot Encoding for 'loan'\n",
        "X_train_loan = pd.get_dummies(X_train['loan'], prefix='Loan').astype(int)\n",
        "X_test_loan = pd.get_dummies(X_test['loan'], prefix='Loan').astype(int)\n",
        "\n",
        "# Merge back to X_train and X_test datasets\n",
        "X_train = pd.concat([X_train.drop('loan', axis=1), X_train_loan], axis=1)\n",
        "X_test = pd.concat([X_test.drop('loan', axis=1), X_test_loan], axis=1)"
      ]
    },
    {
      "cell_type": "code",
      "execution_count": 27,
      "metadata": {
        "id": "hVj3YFwo1rQs"
      },
      "outputs": [],
      "source": [
        "# One-Hot Encoding for 'poutcome'\n",
        "X_train_poutcome = pd.get_dummies(X_train['poutcome'], prefix='Poutcome').astype(int)\n",
        "X_test_poutcome = pd.get_dummies(X_test['poutcome'], prefix='poutcome').astype(int)\n",
        "\n",
        "# Merge back to X_train and X_test datasets\n",
        "X_train = pd.concat([X_train.drop('poutcome', axis=1), X_train_poutcome], axis=1)\n",
        "X_test = pd.concat([X_test.drop('poutcome', axis=1), X_test_poutcome], axis=1)"
      ]
    },
    {
      "cell_type": "code",
      "execution_count": 28,
      "metadata": {
        "id": "181qqLZ6Bd-8"
      },
      "outputs": [],
      "source": [
        "# One-Hot Encoding for 'contact'\n",
        "X_train_contact = pd.get_dummies(X_train['contact'], prefix='Contact').astype(int)\n",
        "X_test_contact = pd.get_dummies(X_test['contact'], prefix='Contact').astype(int)\n",
        "\n",
        "# Merge back to X_train and X_test datasets\n",
        "X_train = pd.concat([X_train.drop('contact', axis=1), X_train_contact], axis=1)\n",
        "X_test = pd.concat([X_test.drop('contact', axis=1), X_test_contact], axis=1)"
      ]
    },
    {
      "cell_type": "markdown",
      "metadata": {
        "id": "e7xZ1sj9eFIJ"
      },
      "source": [
        "**Label Encoding**"
      ]
    },
    {
      "cell_type": "code",
      "execution_count": 29,
      "metadata": {
        "id": "2yl1PZWJBeFH"
      },
      "outputs": [],
      "source": [
        "# Dictionary used for mapping months to numbers\n",
        "month = {\"month\": {\"mar\": 3, \"apr\": 4, \"may\": 5, \"jun\": 6, \"jul\": 7, \"aug\": 8, \"sep\": 9, \"oct\": 10, \"nov\": 11, \"dec\": 12}}\n",
        "\n",
        "# Replace the values in the 'month' column with the mapped numerical values\n",
        "X_train = X_train.replace(month)\n",
        "X_test = X_test.replace(month)"
      ]
    },
    {
      "cell_type": "code",
      "execution_count": 30,
      "metadata": {
        "id": "NY5WLfunbFa4"
      },
      "outputs": [],
      "source": [
        "# Dictionary used for mapping day_of_week to numbers\n",
        "day_of_week = {\"day_of_week\": {\"mon\": 1, \"tue\": 2, \"wed\": 3, \"thu\": 4, \"fri\": 5}}\n",
        "\n",
        "# Replace the values in the 'day_of_week' column with the mapped numerical values\n",
        "X_train = X_train.replace(day_of_week)\n",
        "X_test = X_test.replace(day_of_week)"
      ]
    },
    {
      "cell_type": "code",
      "execution_count": 31,
      "metadata": {
        "colab": {
          "base_uri": "https://localhost:8080/",
          "height": 236
        },
        "id": "kaNlHf8u0iIz",
        "outputId": "73454b2a-de34-40ad-85ac-dbe24c6dd65c"
      },
      "outputs": [
        {
          "data": {
            "application/vnd.google.colaboratory.intrinsic+json": {
              "type": "dataframe",
              "variable_name": "X_train"
            },
            "text/html": [
              "\n",
              "  <div id=\"df-1fb0c05a-4ee0-4e61-a507-60b8e367e7c2\" class=\"colab-df-container\">\n",
              "    <div>\n",
              "<style scoped>\n",
              "    .dataframe tbody tr th:only-of-type {\n",
              "        vertical-align: middle;\n",
              "    }\n",
              "\n",
              "    .dataframe tbody tr th {\n",
              "        vertical-align: top;\n",
              "    }\n",
              "\n",
              "    .dataframe thead th {\n",
              "        text-align: right;\n",
              "    }\n",
              "</style>\n",
              "<table border=\"1\" class=\"dataframe\">\n",
              "  <thead>\n",
              "    <tr style=\"text-align: right;\">\n",
              "      <th></th>\n",
              "      <th>age</th>\n",
              "      <th>month</th>\n",
              "      <th>day_of_week</th>\n",
              "      <th>duration</th>\n",
              "      <th>campaign</th>\n",
              "      <th>pdays</th>\n",
              "      <th>previous</th>\n",
              "      <th>Job_admin.</th>\n",
              "      <th>Job_blue-collar</th>\n",
              "      <th>Job_entrepreneur</th>\n",
              "      <th>...</th>\n",
              "      <th>Housing_unknown</th>\n",
              "      <th>Housing_yes</th>\n",
              "      <th>Loan_no</th>\n",
              "      <th>Loan_unknown</th>\n",
              "      <th>Loan_yes</th>\n",
              "      <th>Poutcome_failure</th>\n",
              "      <th>Poutcome_nonexistent</th>\n",
              "      <th>Poutcome_success</th>\n",
              "      <th>Contact_cellular</th>\n",
              "      <th>Contact_telephone</th>\n",
              "    </tr>\n",
              "  </thead>\n",
              "  <tbody>\n",
              "    <tr>\n",
              "      <th>3805</th>\n",
              "      <td>31</td>\n",
              "      <td>6</td>\n",
              "      <td>2</td>\n",
              "      <td>103.0</td>\n",
              "      <td>1</td>\n",
              "      <td>3</td>\n",
              "      <td>2</td>\n",
              "      <td>0</td>\n",
              "      <td>1</td>\n",
              "      <td>0</td>\n",
              "      <td>...</td>\n",
              "      <td>0</td>\n",
              "      <td>1</td>\n",
              "      <td>0</td>\n",
              "      <td>0</td>\n",
              "      <td>1</td>\n",
              "      <td>0</td>\n",
              "      <td>0</td>\n",
              "      <td>1</td>\n",
              "      <td>1</td>\n",
              "      <td>0</td>\n",
              "    </tr>\n",
              "    <tr>\n",
              "      <th>5900</th>\n",
              "      <td>32</td>\n",
              "      <td>7</td>\n",
              "      <td>3</td>\n",
              "      <td>183.0</td>\n",
              "      <td>1</td>\n",
              "      <td>999</td>\n",
              "      <td>0</td>\n",
              "      <td>0</td>\n",
              "      <td>0</td>\n",
              "      <td>0</td>\n",
              "      <td>...</td>\n",
              "      <td>0</td>\n",
              "      <td>0</td>\n",
              "      <td>0</td>\n",
              "      <td>0</td>\n",
              "      <td>1</td>\n",
              "      <td>0</td>\n",
              "      <td>1</td>\n",
              "      <td>0</td>\n",
              "      <td>1</td>\n",
              "      <td>0</td>\n",
              "    </tr>\n",
              "    <tr>\n",
              "      <th>5022</th>\n",
              "      <td>47</td>\n",
              "      <td>8</td>\n",
              "      <td>5</td>\n",
              "      <td>78.0</td>\n",
              "      <td>3</td>\n",
              "      <td>999</td>\n",
              "      <td>0</td>\n",
              "      <td>0</td>\n",
              "      <td>0</td>\n",
              "      <td>0</td>\n",
              "      <td>...</td>\n",
              "      <td>0</td>\n",
              "      <td>1</td>\n",
              "      <td>0</td>\n",
              "      <td>0</td>\n",
              "      <td>1</td>\n",
              "      <td>0</td>\n",
              "      <td>1</td>\n",
              "      <td>0</td>\n",
              "      <td>1</td>\n",
              "      <td>0</td>\n",
              "    </tr>\n",
              "    <tr>\n",
              "      <th>4556</th>\n",
              "      <td>36</td>\n",
              "      <td>7</td>\n",
              "      <td>4</td>\n",
              "      <td>10.0</td>\n",
              "      <td>3</td>\n",
              "      <td>999</td>\n",
              "      <td>0</td>\n",
              "      <td>1</td>\n",
              "      <td>0</td>\n",
              "      <td>0</td>\n",
              "      <td>...</td>\n",
              "      <td>0</td>\n",
              "      <td>1</td>\n",
              "      <td>1</td>\n",
              "      <td>0</td>\n",
              "      <td>0</td>\n",
              "      <td>0</td>\n",
              "      <td>1</td>\n",
              "      <td>0</td>\n",
              "      <td>1</td>\n",
              "      <td>0</td>\n",
              "    </tr>\n",
              "    <tr>\n",
              "      <th>4139</th>\n",
              "      <td>45</td>\n",
              "      <td>11</td>\n",
              "      <td>3</td>\n",
              "      <td>391.0</td>\n",
              "      <td>2</td>\n",
              "      <td>999</td>\n",
              "      <td>0</td>\n",
              "      <td>0</td>\n",
              "      <td>0</td>\n",
              "      <td>0</td>\n",
              "      <td>...</td>\n",
              "      <td>0</td>\n",
              "      <td>0</td>\n",
              "      <td>0</td>\n",
              "      <td>0</td>\n",
              "      <td>1</td>\n",
              "      <td>0</td>\n",
              "      <td>1</td>\n",
              "      <td>0</td>\n",
              "      <td>1</td>\n",
              "      <td>0</td>\n",
              "    </tr>\n",
              "  </tbody>\n",
              "</table>\n",
              "<p>5 rows × 44 columns</p>\n",
              "</div>\n",
              "    <div class=\"colab-df-buttons\">\n",
              "\n",
              "  <div class=\"colab-df-container\">\n",
              "    <button class=\"colab-df-convert\" onclick=\"convertToInteractive('df-1fb0c05a-4ee0-4e61-a507-60b8e367e7c2')\"\n",
              "            title=\"Convert this dataframe to an interactive table.\"\n",
              "            style=\"display:none;\">\n",
              "\n",
              "  <svg xmlns=\"http://www.w3.org/2000/svg\" height=\"24px\" viewBox=\"0 -960 960 960\">\n",
              "    <path d=\"M120-120v-720h720v720H120Zm60-500h600v-160H180v160Zm220 220h160v-160H400v160Zm0 220h160v-160H400v160ZM180-400h160v-160H180v160Zm440 0h160v-160H620v160ZM180-180h160v-160H180v160Zm440 0h160v-160H620v160Z\"/>\n",
              "  </svg>\n",
              "    </button>\n",
              "\n",
              "  <style>\n",
              "    .colab-df-container {\n",
              "      display:flex;\n",
              "      gap: 12px;\n",
              "    }\n",
              "\n",
              "    .colab-df-convert {\n",
              "      background-color: #E8F0FE;\n",
              "      border: none;\n",
              "      border-radius: 50%;\n",
              "      cursor: pointer;\n",
              "      display: none;\n",
              "      fill: #1967D2;\n",
              "      height: 32px;\n",
              "      padding: 0 0 0 0;\n",
              "      width: 32px;\n",
              "    }\n",
              "\n",
              "    .colab-df-convert:hover {\n",
              "      background-color: #E2EBFA;\n",
              "      box-shadow: 0px 1px 2px rgba(60, 64, 67, 0.3), 0px 1px 3px 1px rgba(60, 64, 67, 0.15);\n",
              "      fill: #174EA6;\n",
              "    }\n",
              "\n",
              "    .colab-df-buttons div {\n",
              "      margin-bottom: 4px;\n",
              "    }\n",
              "\n",
              "    [theme=dark] .colab-df-convert {\n",
              "      background-color: #3B4455;\n",
              "      fill: #D2E3FC;\n",
              "    }\n",
              "\n",
              "    [theme=dark] .colab-df-convert:hover {\n",
              "      background-color: #434B5C;\n",
              "      box-shadow: 0px 1px 3px 1px rgba(0, 0, 0, 0.15);\n",
              "      filter: drop-shadow(0px 1px 2px rgba(0, 0, 0, 0.3));\n",
              "      fill: #FFFFFF;\n",
              "    }\n",
              "  </style>\n",
              "\n",
              "    <script>\n",
              "      const buttonEl =\n",
              "        document.querySelector('#df-1fb0c05a-4ee0-4e61-a507-60b8e367e7c2 button.colab-df-convert');\n",
              "      buttonEl.style.display =\n",
              "        google.colab.kernel.accessAllowed ? 'block' : 'none';\n",
              "\n",
              "      async function convertToInteractive(key) {\n",
              "        const element = document.querySelector('#df-1fb0c05a-4ee0-4e61-a507-60b8e367e7c2');\n",
              "        const dataTable =\n",
              "          await google.colab.kernel.invokeFunction('convertToInteractive',\n",
              "                                                    [key], {});\n",
              "        if (!dataTable) return;\n",
              "\n",
              "        const docLinkHtml = 'Like what you see? Visit the ' +\n",
              "          '<a target=\"_blank\" href=https://colab.research.google.com/notebooks/data_table.ipynb>data table notebook</a>'\n",
              "          + ' to learn more about interactive tables.';\n",
              "        element.innerHTML = '';\n",
              "        dataTable['output_type'] = 'display_data';\n",
              "        await google.colab.output.renderOutput(dataTable, element);\n",
              "        const docLink = document.createElement('div');\n",
              "        docLink.innerHTML = docLinkHtml;\n",
              "        element.appendChild(docLink);\n",
              "      }\n",
              "    </script>\n",
              "  </div>\n",
              "\n",
              "\n",
              "<div id=\"df-793d1734-121d-49f7-9c7c-9d294294ab00\">\n",
              "  <button class=\"colab-df-quickchart\" onclick=\"quickchart('df-793d1734-121d-49f7-9c7c-9d294294ab00')\"\n",
              "            title=\"Suggest charts\"\n",
              "            style=\"display:none;\">\n",
              "\n",
              "<svg xmlns=\"http://www.w3.org/2000/svg\" height=\"24px\"viewBox=\"0 0 24 24\"\n",
              "     width=\"24px\">\n",
              "    <g>\n",
              "        <path d=\"M19 3H5c-1.1 0-2 .9-2 2v14c0 1.1.9 2 2 2h14c1.1 0 2-.9 2-2V5c0-1.1-.9-2-2-2zM9 17H7v-7h2v7zm4 0h-2V7h2v10zm4 0h-2v-4h2v4z\"/>\n",
              "    </g>\n",
              "</svg>\n",
              "  </button>\n",
              "\n",
              "<style>\n",
              "  .colab-df-quickchart {\n",
              "      --bg-color: #E8F0FE;\n",
              "      --fill-color: #1967D2;\n",
              "      --hover-bg-color: #E2EBFA;\n",
              "      --hover-fill-color: #174EA6;\n",
              "      --disabled-fill-color: #AAA;\n",
              "      --disabled-bg-color: #DDD;\n",
              "  }\n",
              "\n",
              "  [theme=dark] .colab-df-quickchart {\n",
              "      --bg-color: #3B4455;\n",
              "      --fill-color: #D2E3FC;\n",
              "      --hover-bg-color: #434B5C;\n",
              "      --hover-fill-color: #FFFFFF;\n",
              "      --disabled-bg-color: #3B4455;\n",
              "      --disabled-fill-color: #666;\n",
              "  }\n",
              "\n",
              "  .colab-df-quickchart {\n",
              "    background-color: var(--bg-color);\n",
              "    border: none;\n",
              "    border-radius: 50%;\n",
              "    cursor: pointer;\n",
              "    display: none;\n",
              "    fill: var(--fill-color);\n",
              "    height: 32px;\n",
              "    padding: 0;\n",
              "    width: 32px;\n",
              "  }\n",
              "\n",
              "  .colab-df-quickchart:hover {\n",
              "    background-color: var(--hover-bg-color);\n",
              "    box-shadow: 0 1px 2px rgba(60, 64, 67, 0.3), 0 1px 3px 1px rgba(60, 64, 67, 0.15);\n",
              "    fill: var(--button-hover-fill-color);\n",
              "  }\n",
              "\n",
              "  .colab-df-quickchart-complete:disabled,\n",
              "  .colab-df-quickchart-complete:disabled:hover {\n",
              "    background-color: var(--disabled-bg-color);\n",
              "    fill: var(--disabled-fill-color);\n",
              "    box-shadow: none;\n",
              "  }\n",
              "\n",
              "  .colab-df-spinner {\n",
              "    border: 2px solid var(--fill-color);\n",
              "    border-color: transparent;\n",
              "    border-bottom-color: var(--fill-color);\n",
              "    animation:\n",
              "      spin 1s steps(1) infinite;\n",
              "  }\n",
              "\n",
              "  @keyframes spin {\n",
              "    0% {\n",
              "      border-color: transparent;\n",
              "      border-bottom-color: var(--fill-color);\n",
              "      border-left-color: var(--fill-color);\n",
              "    }\n",
              "    20% {\n",
              "      border-color: transparent;\n",
              "      border-left-color: var(--fill-color);\n",
              "      border-top-color: var(--fill-color);\n",
              "    }\n",
              "    30% {\n",
              "      border-color: transparent;\n",
              "      border-left-color: var(--fill-color);\n",
              "      border-top-color: var(--fill-color);\n",
              "      border-right-color: var(--fill-color);\n",
              "    }\n",
              "    40% {\n",
              "      border-color: transparent;\n",
              "      border-right-color: var(--fill-color);\n",
              "      border-top-color: var(--fill-color);\n",
              "    }\n",
              "    60% {\n",
              "      border-color: transparent;\n",
              "      border-right-color: var(--fill-color);\n",
              "    }\n",
              "    80% {\n",
              "      border-color: transparent;\n",
              "      border-right-color: var(--fill-color);\n",
              "      border-bottom-color: var(--fill-color);\n",
              "    }\n",
              "    90% {\n",
              "      border-color: transparent;\n",
              "      border-bottom-color: var(--fill-color);\n",
              "    }\n",
              "  }\n",
              "</style>\n",
              "\n",
              "  <script>\n",
              "    async function quickchart(key) {\n",
              "      const quickchartButtonEl =\n",
              "        document.querySelector('#' + key + ' button');\n",
              "      quickchartButtonEl.disabled = true;  // To prevent multiple clicks.\n",
              "      quickchartButtonEl.classList.add('colab-df-spinner');\n",
              "      try {\n",
              "        const charts = await google.colab.kernel.invokeFunction(\n",
              "            'suggestCharts', [key], {});\n",
              "      } catch (error) {\n",
              "        console.error('Error during call to suggestCharts:', error);\n",
              "      }\n",
              "      quickchartButtonEl.classList.remove('colab-df-spinner');\n",
              "      quickchartButtonEl.classList.add('colab-df-quickchart-complete');\n",
              "    }\n",
              "    (() => {\n",
              "      let quickchartButtonEl =\n",
              "        document.querySelector('#df-793d1734-121d-49f7-9c7c-9d294294ab00 button');\n",
              "      quickchartButtonEl.style.display =\n",
              "        google.colab.kernel.accessAllowed ? 'block' : 'none';\n",
              "    })();\n",
              "  </script>\n",
              "</div>\n",
              "\n",
              "    </div>\n",
              "  </div>\n"
            ],
            "text/plain": [
              "      age  month  day_of_week  duration  campaign  pdays  previous  \\\n",
              "3805   31      6            2     103.0         1      3         2   \n",
              "5900   32      7            3     183.0         1    999         0   \n",
              "5022   47      8            5      78.0         3    999         0   \n",
              "4556   36      7            4      10.0         3    999         0   \n",
              "4139   45     11            3     391.0         2    999         0   \n",
              "\n",
              "      Job_admin.  Job_blue-collar  Job_entrepreneur  ...  Housing_unknown  \\\n",
              "3805           0                1                 0  ...                0   \n",
              "5900           0                0                 0  ...                0   \n",
              "5022           0                0                 0  ...                0   \n",
              "4556           1                0                 0  ...                0   \n",
              "4139           0                0                 0  ...                0   \n",
              "\n",
              "      Housing_yes  Loan_no  Loan_unknown  Loan_yes  Poutcome_failure  \\\n",
              "3805            1        0             0         1                 0   \n",
              "5900            0        0             0         1                 0   \n",
              "5022            1        0             0         1                 0   \n",
              "4556            1        1             0         0                 0   \n",
              "4139            0        0             0         1                 0   \n",
              "\n",
              "      Poutcome_nonexistent  Poutcome_success  Contact_cellular  \\\n",
              "3805                     0                 1                 1   \n",
              "5900                     1                 0                 1   \n",
              "5022                     1                 0                 1   \n",
              "4556                     1                 0                 1   \n",
              "4139                     1                 0                 1   \n",
              "\n",
              "      Contact_telephone  \n",
              "3805                  0  \n",
              "5900                  0  \n",
              "5022                  0  \n",
              "4556                  0  \n",
              "4139                  0  \n",
              "\n",
              "[5 rows x 44 columns]"
            ]
          },
          "execution_count": 31,
          "metadata": {},
          "output_type": "execute_result"
        }
      ],
      "source": [
        "# Display the first few rows of the encoded data\n",
        "X_train.head()"
      ]
    },
    {
      "cell_type": "code",
      "execution_count": 32,
      "metadata": {
        "colab": {
          "base_uri": "https://localhost:8080/",
          "height": 236
        },
        "id": "plr1wMiQ0xW-",
        "outputId": "0513e2c1-4a1e-4826-ce56-6b110485f55a"
      },
      "outputs": [
        {
          "data": {
            "application/vnd.google.colaboratory.intrinsic+json": {
              "type": "dataframe",
              "variable_name": "X_test"
            },
            "text/html": [
              "\n",
              "  <div id=\"df-5e724d55-3ea4-4de7-9a37-b58c71e7d461\" class=\"colab-df-container\">\n",
              "    <div>\n",
              "<style scoped>\n",
              "    .dataframe tbody tr th:only-of-type {\n",
              "        vertical-align: middle;\n",
              "    }\n",
              "\n",
              "    .dataframe tbody tr th {\n",
              "        vertical-align: top;\n",
              "    }\n",
              "\n",
              "    .dataframe thead th {\n",
              "        text-align: right;\n",
              "    }\n",
              "</style>\n",
              "<table border=\"1\" class=\"dataframe\">\n",
              "  <thead>\n",
              "    <tr style=\"text-align: right;\">\n",
              "      <th></th>\n",
              "      <th>age</th>\n",
              "      <th>month</th>\n",
              "      <th>day_of_week</th>\n",
              "      <th>duration</th>\n",
              "      <th>campaign</th>\n",
              "      <th>pdays</th>\n",
              "      <th>previous</th>\n",
              "      <th>Job_admin.</th>\n",
              "      <th>Job_blue-collar</th>\n",
              "      <th>Job_entrepreneur</th>\n",
              "      <th>...</th>\n",
              "      <th>Housing_unknown</th>\n",
              "      <th>Housing_yes</th>\n",
              "      <th>Loan_no</th>\n",
              "      <th>Loan_unknown</th>\n",
              "      <th>Loan_yes</th>\n",
              "      <th>poutcome_failure</th>\n",
              "      <th>poutcome_nonexistent</th>\n",
              "      <th>poutcome_success</th>\n",
              "      <th>Contact_cellular</th>\n",
              "      <th>Contact_telephone</th>\n",
              "    </tr>\n",
              "  </thead>\n",
              "  <tbody>\n",
              "    <tr>\n",
              "      <th>706</th>\n",
              "      <td>46</td>\n",
              "      <td>5</td>\n",
              "      <td>3</td>\n",
              "      <td>93.0</td>\n",
              "      <td>1</td>\n",
              "      <td>999</td>\n",
              "      <td>0</td>\n",
              "      <td>1</td>\n",
              "      <td>0</td>\n",
              "      <td>0</td>\n",
              "      <td>...</td>\n",
              "      <td>0</td>\n",
              "      <td>0</td>\n",
              "      <td>1</td>\n",
              "      <td>0</td>\n",
              "      <td>0</td>\n",
              "      <td>0</td>\n",
              "      <td>1</td>\n",
              "      <td>0</td>\n",
              "      <td>0</td>\n",
              "      <td>1</td>\n",
              "    </tr>\n",
              "    <tr>\n",
              "      <th>5968</th>\n",
              "      <td>35</td>\n",
              "      <td>7</td>\n",
              "      <td>2</td>\n",
              "      <td>740.0</td>\n",
              "      <td>1</td>\n",
              "      <td>999</td>\n",
              "      <td>0</td>\n",
              "      <td>0</td>\n",
              "      <td>0</td>\n",
              "      <td>0</td>\n",
              "      <td>...</td>\n",
              "      <td>0</td>\n",
              "      <td>1</td>\n",
              "      <td>1</td>\n",
              "      <td>0</td>\n",
              "      <td>0</td>\n",
              "      <td>0</td>\n",
              "      <td>1</td>\n",
              "      <td>0</td>\n",
              "      <td>1</td>\n",
              "      <td>0</td>\n",
              "    </tr>\n",
              "    <tr>\n",
              "      <th>1665</th>\n",
              "      <td>24</td>\n",
              "      <td>7</td>\n",
              "      <td>3</td>\n",
              "      <td>242.0</td>\n",
              "      <td>1</td>\n",
              "      <td>999</td>\n",
              "      <td>0</td>\n",
              "      <td>0</td>\n",
              "      <td>0</td>\n",
              "      <td>0</td>\n",
              "      <td>...</td>\n",
              "      <td>0</td>\n",
              "      <td>1</td>\n",
              "      <td>1</td>\n",
              "      <td>0</td>\n",
              "      <td>0</td>\n",
              "      <td>0</td>\n",
              "      <td>1</td>\n",
              "      <td>0</td>\n",
              "      <td>1</td>\n",
              "      <td>0</td>\n",
              "    </tr>\n",
              "    <tr>\n",
              "      <th>6676</th>\n",
              "      <td>51</td>\n",
              "      <td>5</td>\n",
              "      <td>2</td>\n",
              "      <td>40.0</td>\n",
              "      <td>4</td>\n",
              "      <td>999</td>\n",
              "      <td>0</td>\n",
              "      <td>1</td>\n",
              "      <td>0</td>\n",
              "      <td>0</td>\n",
              "      <td>...</td>\n",
              "      <td>0</td>\n",
              "      <td>0</td>\n",
              "      <td>1</td>\n",
              "      <td>0</td>\n",
              "      <td>0</td>\n",
              "      <td>0</td>\n",
              "      <td>1</td>\n",
              "      <td>0</td>\n",
              "      <td>1</td>\n",
              "      <td>0</td>\n",
              "    </tr>\n",
              "    <tr>\n",
              "      <th>5606</th>\n",
              "      <td>36</td>\n",
              "      <td>7</td>\n",
              "      <td>2</td>\n",
              "      <td>305.0</td>\n",
              "      <td>7</td>\n",
              "      <td>999</td>\n",
              "      <td>0</td>\n",
              "      <td>1</td>\n",
              "      <td>0</td>\n",
              "      <td>0</td>\n",
              "      <td>...</td>\n",
              "      <td>0</td>\n",
              "      <td>1</td>\n",
              "      <td>1</td>\n",
              "      <td>0</td>\n",
              "      <td>0</td>\n",
              "      <td>0</td>\n",
              "      <td>1</td>\n",
              "      <td>0</td>\n",
              "      <td>0</td>\n",
              "      <td>1</td>\n",
              "    </tr>\n",
              "  </tbody>\n",
              "</table>\n",
              "<p>5 rows × 44 columns</p>\n",
              "</div>\n",
              "    <div class=\"colab-df-buttons\">\n",
              "\n",
              "  <div class=\"colab-df-container\">\n",
              "    <button class=\"colab-df-convert\" onclick=\"convertToInteractive('df-5e724d55-3ea4-4de7-9a37-b58c71e7d461')\"\n",
              "            title=\"Convert this dataframe to an interactive table.\"\n",
              "            style=\"display:none;\">\n",
              "\n",
              "  <svg xmlns=\"http://www.w3.org/2000/svg\" height=\"24px\" viewBox=\"0 -960 960 960\">\n",
              "    <path d=\"M120-120v-720h720v720H120Zm60-500h600v-160H180v160Zm220 220h160v-160H400v160Zm0 220h160v-160H400v160ZM180-400h160v-160H180v160Zm440 0h160v-160H620v160ZM180-180h160v-160H180v160Zm440 0h160v-160H620v160Z\"/>\n",
              "  </svg>\n",
              "    </button>\n",
              "\n",
              "  <style>\n",
              "    .colab-df-container {\n",
              "      display:flex;\n",
              "      gap: 12px;\n",
              "    }\n",
              "\n",
              "    .colab-df-convert {\n",
              "      background-color: #E8F0FE;\n",
              "      border: none;\n",
              "      border-radius: 50%;\n",
              "      cursor: pointer;\n",
              "      display: none;\n",
              "      fill: #1967D2;\n",
              "      height: 32px;\n",
              "      padding: 0 0 0 0;\n",
              "      width: 32px;\n",
              "    }\n",
              "\n",
              "    .colab-df-convert:hover {\n",
              "      background-color: #E2EBFA;\n",
              "      box-shadow: 0px 1px 2px rgba(60, 64, 67, 0.3), 0px 1px 3px 1px rgba(60, 64, 67, 0.15);\n",
              "      fill: #174EA6;\n",
              "    }\n",
              "\n",
              "    .colab-df-buttons div {\n",
              "      margin-bottom: 4px;\n",
              "    }\n",
              "\n",
              "    [theme=dark] .colab-df-convert {\n",
              "      background-color: #3B4455;\n",
              "      fill: #D2E3FC;\n",
              "    }\n",
              "\n",
              "    [theme=dark] .colab-df-convert:hover {\n",
              "      background-color: #434B5C;\n",
              "      box-shadow: 0px 1px 3px 1px rgba(0, 0, 0, 0.15);\n",
              "      filter: drop-shadow(0px 1px 2px rgba(0, 0, 0, 0.3));\n",
              "      fill: #FFFFFF;\n",
              "    }\n",
              "  </style>\n",
              "\n",
              "    <script>\n",
              "      const buttonEl =\n",
              "        document.querySelector('#df-5e724d55-3ea4-4de7-9a37-b58c71e7d461 button.colab-df-convert');\n",
              "      buttonEl.style.display =\n",
              "        google.colab.kernel.accessAllowed ? 'block' : 'none';\n",
              "\n",
              "      async function convertToInteractive(key) {\n",
              "        const element = document.querySelector('#df-5e724d55-3ea4-4de7-9a37-b58c71e7d461');\n",
              "        const dataTable =\n",
              "          await google.colab.kernel.invokeFunction('convertToInteractive',\n",
              "                                                    [key], {});\n",
              "        if (!dataTable) return;\n",
              "\n",
              "        const docLinkHtml = 'Like what you see? Visit the ' +\n",
              "          '<a target=\"_blank\" href=https://colab.research.google.com/notebooks/data_table.ipynb>data table notebook</a>'\n",
              "          + ' to learn more about interactive tables.';\n",
              "        element.innerHTML = '';\n",
              "        dataTable['output_type'] = 'display_data';\n",
              "        await google.colab.output.renderOutput(dataTable, element);\n",
              "        const docLink = document.createElement('div');\n",
              "        docLink.innerHTML = docLinkHtml;\n",
              "        element.appendChild(docLink);\n",
              "      }\n",
              "    </script>\n",
              "  </div>\n",
              "\n",
              "\n",
              "<div id=\"df-8a701c6b-2e59-4a9c-b43f-8fda1a8630c6\">\n",
              "  <button class=\"colab-df-quickchart\" onclick=\"quickchart('df-8a701c6b-2e59-4a9c-b43f-8fda1a8630c6')\"\n",
              "            title=\"Suggest charts\"\n",
              "            style=\"display:none;\">\n",
              "\n",
              "<svg xmlns=\"http://www.w3.org/2000/svg\" height=\"24px\"viewBox=\"0 0 24 24\"\n",
              "     width=\"24px\">\n",
              "    <g>\n",
              "        <path d=\"M19 3H5c-1.1 0-2 .9-2 2v14c0 1.1.9 2 2 2h14c1.1 0 2-.9 2-2V5c0-1.1-.9-2-2-2zM9 17H7v-7h2v7zm4 0h-2V7h2v10zm4 0h-2v-4h2v4z\"/>\n",
              "    </g>\n",
              "</svg>\n",
              "  </button>\n",
              "\n",
              "<style>\n",
              "  .colab-df-quickchart {\n",
              "      --bg-color: #E8F0FE;\n",
              "      --fill-color: #1967D2;\n",
              "      --hover-bg-color: #E2EBFA;\n",
              "      --hover-fill-color: #174EA6;\n",
              "      --disabled-fill-color: #AAA;\n",
              "      --disabled-bg-color: #DDD;\n",
              "  }\n",
              "\n",
              "  [theme=dark] .colab-df-quickchart {\n",
              "      --bg-color: #3B4455;\n",
              "      --fill-color: #D2E3FC;\n",
              "      --hover-bg-color: #434B5C;\n",
              "      --hover-fill-color: #FFFFFF;\n",
              "      --disabled-bg-color: #3B4455;\n",
              "      --disabled-fill-color: #666;\n",
              "  }\n",
              "\n",
              "  .colab-df-quickchart {\n",
              "    background-color: var(--bg-color);\n",
              "    border: none;\n",
              "    border-radius: 50%;\n",
              "    cursor: pointer;\n",
              "    display: none;\n",
              "    fill: var(--fill-color);\n",
              "    height: 32px;\n",
              "    padding: 0;\n",
              "    width: 32px;\n",
              "  }\n",
              "\n",
              "  .colab-df-quickchart:hover {\n",
              "    background-color: var(--hover-bg-color);\n",
              "    box-shadow: 0 1px 2px rgba(60, 64, 67, 0.3), 0 1px 3px 1px rgba(60, 64, 67, 0.15);\n",
              "    fill: var(--button-hover-fill-color);\n",
              "  }\n",
              "\n",
              "  .colab-df-quickchart-complete:disabled,\n",
              "  .colab-df-quickchart-complete:disabled:hover {\n",
              "    background-color: var(--disabled-bg-color);\n",
              "    fill: var(--disabled-fill-color);\n",
              "    box-shadow: none;\n",
              "  }\n",
              "\n",
              "  .colab-df-spinner {\n",
              "    border: 2px solid var(--fill-color);\n",
              "    border-color: transparent;\n",
              "    border-bottom-color: var(--fill-color);\n",
              "    animation:\n",
              "      spin 1s steps(1) infinite;\n",
              "  }\n",
              "\n",
              "  @keyframes spin {\n",
              "    0% {\n",
              "      border-color: transparent;\n",
              "      border-bottom-color: var(--fill-color);\n",
              "      border-left-color: var(--fill-color);\n",
              "    }\n",
              "    20% {\n",
              "      border-color: transparent;\n",
              "      border-left-color: var(--fill-color);\n",
              "      border-top-color: var(--fill-color);\n",
              "    }\n",
              "    30% {\n",
              "      border-color: transparent;\n",
              "      border-left-color: var(--fill-color);\n",
              "      border-top-color: var(--fill-color);\n",
              "      border-right-color: var(--fill-color);\n",
              "    }\n",
              "    40% {\n",
              "      border-color: transparent;\n",
              "      border-right-color: var(--fill-color);\n",
              "      border-top-color: var(--fill-color);\n",
              "    }\n",
              "    60% {\n",
              "      border-color: transparent;\n",
              "      border-right-color: var(--fill-color);\n",
              "    }\n",
              "    80% {\n",
              "      border-color: transparent;\n",
              "      border-right-color: var(--fill-color);\n",
              "      border-bottom-color: var(--fill-color);\n",
              "    }\n",
              "    90% {\n",
              "      border-color: transparent;\n",
              "      border-bottom-color: var(--fill-color);\n",
              "    }\n",
              "  }\n",
              "</style>\n",
              "\n",
              "  <script>\n",
              "    async function quickchart(key) {\n",
              "      const quickchartButtonEl =\n",
              "        document.querySelector('#' + key + ' button');\n",
              "      quickchartButtonEl.disabled = true;  // To prevent multiple clicks.\n",
              "      quickchartButtonEl.classList.add('colab-df-spinner');\n",
              "      try {\n",
              "        const charts = await google.colab.kernel.invokeFunction(\n",
              "            'suggestCharts', [key], {});\n",
              "      } catch (error) {\n",
              "        console.error('Error during call to suggestCharts:', error);\n",
              "      }\n",
              "      quickchartButtonEl.classList.remove('colab-df-spinner');\n",
              "      quickchartButtonEl.classList.add('colab-df-quickchart-complete');\n",
              "    }\n",
              "    (() => {\n",
              "      let quickchartButtonEl =\n",
              "        document.querySelector('#df-8a701c6b-2e59-4a9c-b43f-8fda1a8630c6 button');\n",
              "      quickchartButtonEl.style.display =\n",
              "        google.colab.kernel.accessAllowed ? 'block' : 'none';\n",
              "    })();\n",
              "  </script>\n",
              "</div>\n",
              "\n",
              "    </div>\n",
              "  </div>\n"
            ],
            "text/plain": [
              "      age  month  day_of_week  duration  campaign  pdays  previous  \\\n",
              "706    46      5            3      93.0         1    999         0   \n",
              "5968   35      7            2     740.0         1    999         0   \n",
              "1665   24      7            3     242.0         1    999         0   \n",
              "6676   51      5            2      40.0         4    999         0   \n",
              "5606   36      7            2     305.0         7    999         0   \n",
              "\n",
              "      Job_admin.  Job_blue-collar  Job_entrepreneur  ...  Housing_unknown  \\\n",
              "706            1                0                 0  ...                0   \n",
              "5968           0                0                 0  ...                0   \n",
              "1665           0                0                 0  ...                0   \n",
              "6676           1                0                 0  ...                0   \n",
              "5606           1                0                 0  ...                0   \n",
              "\n",
              "      Housing_yes  Loan_no  Loan_unknown  Loan_yes  poutcome_failure  \\\n",
              "706             0        1             0         0                 0   \n",
              "5968            1        1             0         0                 0   \n",
              "1665            1        1             0         0                 0   \n",
              "6676            0        1             0         0                 0   \n",
              "5606            1        1             0         0                 0   \n",
              "\n",
              "      poutcome_nonexistent  poutcome_success  Contact_cellular  \\\n",
              "706                      1                 0                 0   \n",
              "5968                     1                 0                 1   \n",
              "1665                     1                 0                 1   \n",
              "6676                     1                 0                 1   \n",
              "5606                     1                 0                 0   \n",
              "\n",
              "      Contact_telephone  \n",
              "706                   1  \n",
              "5968                  0  \n",
              "1665                  0  \n",
              "6676                  0  \n",
              "5606                  1  \n",
              "\n",
              "[5 rows x 44 columns]"
            ]
          },
          "execution_count": 32,
          "metadata": {},
          "output_type": "execute_result"
        }
      ],
      "source": [
        "# Display the first few rows of the encoded data\n",
        "X_test.head()"
      ]
    },
    {
      "cell_type": "markdown",
      "metadata": {
        "id": "elIn6yI40zx2"
      },
      "source": [
        "One Hot Encoding telah berhasil dilakukan. Setiap baris data pada kolom 'job', 'marital', 'education', 'default', 'housing', 'loan', dan 'poutcome' sudah berubah menjadi nilai 0 atau 1."
      ]
    },
    {
      "cell_type": "markdown",
      "metadata": {
        "id": "XBEzA-d91_jO"
      },
      "source": [
        "## **Standard Scaler untuk Numerical Data**"
      ]
    },
    {
      "cell_type": "markdown",
      "metadata": {
        "id": "JPH9_j052L-F"
      },
      "source": [
        "Kemudian perlunya StandardScaler yang digunakan untuk menormalkan atau standarisasi fitur-fitur numerik dalam sebuah dataset."
      ]
    },
    {
      "cell_type": "code",
      "execution_count": 33,
      "metadata": {
        "id": "LKDUlN_f0xY8"
      },
      "outputs": [],
      "source": [
        "# List of numeric columns for scaling\n",
        "numeric_cols = ['age', 'campaign', 'previous', 'duration', 'pdays']\n",
        "\n",
        "# Initialize StandardScaler\n",
        "scaler = StandardScaler()\n",
        "\n",
        "# Scale training data\n",
        "X_train[numeric_cols] = scaler.fit_transform(X_train[numeric_cols])\n",
        "\n",
        "# Scale testing data\n",
        "X_test[numeric_cols] = scaler.transform(X_test[numeric_cols])"
      ]
    },
    {
      "cell_type": "code",
      "execution_count": 34,
      "metadata": {
        "colab": {
          "base_uri": "https://localhost:8080/",
          "height": 236
        },
        "id": "x8bOmdUH0xc8",
        "outputId": "da6e8bb1-2d00-4075-9a3e-bf53121c05ae"
      },
      "outputs": [
        {
          "data": {
            "application/vnd.google.colaboratory.intrinsic+json": {
              "type": "dataframe",
              "variable_name": "X_train"
            },
            "text/html": [
              "\n",
              "  <div id=\"df-a6862a77-06eb-41ea-814a-57460b81b91e\" class=\"colab-df-container\">\n",
              "    <div>\n",
              "<style scoped>\n",
              "    .dataframe tbody tr th:only-of-type {\n",
              "        vertical-align: middle;\n",
              "    }\n",
              "\n",
              "    .dataframe tbody tr th {\n",
              "        vertical-align: top;\n",
              "    }\n",
              "\n",
              "    .dataframe thead th {\n",
              "        text-align: right;\n",
              "    }\n",
              "</style>\n",
              "<table border=\"1\" class=\"dataframe\">\n",
              "  <thead>\n",
              "    <tr style=\"text-align: right;\">\n",
              "      <th></th>\n",
              "      <th>age</th>\n",
              "      <th>month</th>\n",
              "      <th>day_of_week</th>\n",
              "      <th>duration</th>\n",
              "      <th>campaign</th>\n",
              "      <th>pdays</th>\n",
              "      <th>previous</th>\n",
              "      <th>Job_admin.</th>\n",
              "      <th>Job_blue-collar</th>\n",
              "      <th>Job_entrepreneur</th>\n",
              "      <th>...</th>\n",
              "      <th>Housing_unknown</th>\n",
              "      <th>Housing_yes</th>\n",
              "      <th>Loan_no</th>\n",
              "      <th>Loan_unknown</th>\n",
              "      <th>Loan_yes</th>\n",
              "      <th>Poutcome_failure</th>\n",
              "      <th>Poutcome_nonexistent</th>\n",
              "      <th>Poutcome_success</th>\n",
              "      <th>Contact_cellular</th>\n",
              "      <th>Contact_telephone</th>\n",
              "    </tr>\n",
              "  </thead>\n",
              "  <tbody>\n",
              "    <tr>\n",
              "      <th>3805</th>\n",
              "      <td>-0.850592</td>\n",
              "      <td>6</td>\n",
              "      <td>2</td>\n",
              "      <td>-0.578923</td>\n",
              "      <td>-0.556043</td>\n",
              "      <td>-5.525173</td>\n",
              "      <td>3.788273</td>\n",
              "      <td>0</td>\n",
              "      <td>1</td>\n",
              "      <td>0</td>\n",
              "      <td>...</td>\n",
              "      <td>0</td>\n",
              "      <td>1</td>\n",
              "      <td>0</td>\n",
              "      <td>0</td>\n",
              "      <td>1</td>\n",
              "      <td>0</td>\n",
              "      <td>0</td>\n",
              "      <td>1</td>\n",
              "      <td>1</td>\n",
              "      <td>0</td>\n",
              "    </tr>\n",
              "    <tr>\n",
              "      <th>5900</th>\n",
              "      <td>-0.755567</td>\n",
              "      <td>7</td>\n",
              "      <td>3</td>\n",
              "      <td>-0.279119</td>\n",
              "      <td>-0.556043</td>\n",
              "      <td>0.181425</td>\n",
              "      <td>-0.332678</td>\n",
              "      <td>0</td>\n",
              "      <td>0</td>\n",
              "      <td>0</td>\n",
              "      <td>...</td>\n",
              "      <td>0</td>\n",
              "      <td>0</td>\n",
              "      <td>0</td>\n",
              "      <td>0</td>\n",
              "      <td>1</td>\n",
              "      <td>0</td>\n",
              "      <td>1</td>\n",
              "      <td>0</td>\n",
              "      <td>1</td>\n",
              "      <td>0</td>\n",
              "    </tr>\n",
              "    <tr>\n",
              "      <th>5022</th>\n",
              "      <td>0.669800</td>\n",
              "      <td>8</td>\n",
              "      <td>5</td>\n",
              "      <td>-0.672611</td>\n",
              "      <td>0.149177</td>\n",
              "      <td>0.181425</td>\n",
              "      <td>-0.332678</td>\n",
              "      <td>0</td>\n",
              "      <td>0</td>\n",
              "      <td>0</td>\n",
              "      <td>...</td>\n",
              "      <td>0</td>\n",
              "      <td>1</td>\n",
              "      <td>0</td>\n",
              "      <td>0</td>\n",
              "      <td>1</td>\n",
              "      <td>0</td>\n",
              "      <td>1</td>\n",
              "      <td>0</td>\n",
              "      <td>1</td>\n",
              "      <td>0</td>\n",
              "    </tr>\n",
              "    <tr>\n",
              "      <th>4556</th>\n",
              "      <td>-0.375469</td>\n",
              "      <td>7</td>\n",
              "      <td>4</td>\n",
              "      <td>-0.927444</td>\n",
              "      <td>0.149177</td>\n",
              "      <td>0.181425</td>\n",
              "      <td>-0.332678</td>\n",
              "      <td>1</td>\n",
              "      <td>0</td>\n",
              "      <td>0</td>\n",
              "      <td>...</td>\n",
              "      <td>0</td>\n",
              "      <td>1</td>\n",
              "      <td>1</td>\n",
              "      <td>0</td>\n",
              "      <td>0</td>\n",
              "      <td>0</td>\n",
              "      <td>1</td>\n",
              "      <td>0</td>\n",
              "      <td>1</td>\n",
              "      <td>0</td>\n",
              "    </tr>\n",
              "    <tr>\n",
              "      <th>4139</th>\n",
              "      <td>0.479751</td>\n",
              "      <td>11</td>\n",
              "      <td>3</td>\n",
              "      <td>0.500369</td>\n",
              "      <td>-0.203433</td>\n",
              "      <td>0.181425</td>\n",
              "      <td>-0.332678</td>\n",
              "      <td>0</td>\n",
              "      <td>0</td>\n",
              "      <td>0</td>\n",
              "      <td>...</td>\n",
              "      <td>0</td>\n",
              "      <td>0</td>\n",
              "      <td>0</td>\n",
              "      <td>0</td>\n",
              "      <td>1</td>\n",
              "      <td>0</td>\n",
              "      <td>1</td>\n",
              "      <td>0</td>\n",
              "      <td>1</td>\n",
              "      <td>0</td>\n",
              "    </tr>\n",
              "  </tbody>\n",
              "</table>\n",
              "<p>5 rows × 44 columns</p>\n",
              "</div>\n",
              "    <div class=\"colab-df-buttons\">\n",
              "\n",
              "  <div class=\"colab-df-container\">\n",
              "    <button class=\"colab-df-convert\" onclick=\"convertToInteractive('df-a6862a77-06eb-41ea-814a-57460b81b91e')\"\n",
              "            title=\"Convert this dataframe to an interactive table.\"\n",
              "            style=\"display:none;\">\n",
              "\n",
              "  <svg xmlns=\"http://www.w3.org/2000/svg\" height=\"24px\" viewBox=\"0 -960 960 960\">\n",
              "    <path d=\"M120-120v-720h720v720H120Zm60-500h600v-160H180v160Zm220 220h160v-160H400v160Zm0 220h160v-160H400v160ZM180-400h160v-160H180v160Zm440 0h160v-160H620v160ZM180-180h160v-160H180v160Zm440 0h160v-160H620v160Z\"/>\n",
              "  </svg>\n",
              "    </button>\n",
              "\n",
              "  <style>\n",
              "    .colab-df-container {\n",
              "      display:flex;\n",
              "      gap: 12px;\n",
              "    }\n",
              "\n",
              "    .colab-df-convert {\n",
              "      background-color: #E8F0FE;\n",
              "      border: none;\n",
              "      border-radius: 50%;\n",
              "      cursor: pointer;\n",
              "      display: none;\n",
              "      fill: #1967D2;\n",
              "      height: 32px;\n",
              "      padding: 0 0 0 0;\n",
              "      width: 32px;\n",
              "    }\n",
              "\n",
              "    .colab-df-convert:hover {\n",
              "      background-color: #E2EBFA;\n",
              "      box-shadow: 0px 1px 2px rgba(60, 64, 67, 0.3), 0px 1px 3px 1px rgba(60, 64, 67, 0.15);\n",
              "      fill: #174EA6;\n",
              "    }\n",
              "\n",
              "    .colab-df-buttons div {\n",
              "      margin-bottom: 4px;\n",
              "    }\n",
              "\n",
              "    [theme=dark] .colab-df-convert {\n",
              "      background-color: #3B4455;\n",
              "      fill: #D2E3FC;\n",
              "    }\n",
              "\n",
              "    [theme=dark] .colab-df-convert:hover {\n",
              "      background-color: #434B5C;\n",
              "      box-shadow: 0px 1px 3px 1px rgba(0, 0, 0, 0.15);\n",
              "      filter: drop-shadow(0px 1px 2px rgba(0, 0, 0, 0.3));\n",
              "      fill: #FFFFFF;\n",
              "    }\n",
              "  </style>\n",
              "\n",
              "    <script>\n",
              "      const buttonEl =\n",
              "        document.querySelector('#df-a6862a77-06eb-41ea-814a-57460b81b91e button.colab-df-convert');\n",
              "      buttonEl.style.display =\n",
              "        google.colab.kernel.accessAllowed ? 'block' : 'none';\n",
              "\n",
              "      async function convertToInteractive(key) {\n",
              "        const element = document.querySelector('#df-a6862a77-06eb-41ea-814a-57460b81b91e');\n",
              "        const dataTable =\n",
              "          await google.colab.kernel.invokeFunction('convertToInteractive',\n",
              "                                                    [key], {});\n",
              "        if (!dataTable) return;\n",
              "\n",
              "        const docLinkHtml = 'Like what you see? Visit the ' +\n",
              "          '<a target=\"_blank\" href=https://colab.research.google.com/notebooks/data_table.ipynb>data table notebook</a>'\n",
              "          + ' to learn more about interactive tables.';\n",
              "        element.innerHTML = '';\n",
              "        dataTable['output_type'] = 'display_data';\n",
              "        await google.colab.output.renderOutput(dataTable, element);\n",
              "        const docLink = document.createElement('div');\n",
              "        docLink.innerHTML = docLinkHtml;\n",
              "        element.appendChild(docLink);\n",
              "      }\n",
              "    </script>\n",
              "  </div>\n",
              "\n",
              "\n",
              "<div id=\"df-94d874c8-f9e9-4eed-8f87-5304a0492e04\">\n",
              "  <button class=\"colab-df-quickchart\" onclick=\"quickchart('df-94d874c8-f9e9-4eed-8f87-5304a0492e04')\"\n",
              "            title=\"Suggest charts\"\n",
              "            style=\"display:none;\">\n",
              "\n",
              "<svg xmlns=\"http://www.w3.org/2000/svg\" height=\"24px\"viewBox=\"0 0 24 24\"\n",
              "     width=\"24px\">\n",
              "    <g>\n",
              "        <path d=\"M19 3H5c-1.1 0-2 .9-2 2v14c0 1.1.9 2 2 2h14c1.1 0 2-.9 2-2V5c0-1.1-.9-2-2-2zM9 17H7v-7h2v7zm4 0h-2V7h2v10zm4 0h-2v-4h2v4z\"/>\n",
              "    </g>\n",
              "</svg>\n",
              "  </button>\n",
              "\n",
              "<style>\n",
              "  .colab-df-quickchart {\n",
              "      --bg-color: #E8F0FE;\n",
              "      --fill-color: #1967D2;\n",
              "      --hover-bg-color: #E2EBFA;\n",
              "      --hover-fill-color: #174EA6;\n",
              "      --disabled-fill-color: #AAA;\n",
              "      --disabled-bg-color: #DDD;\n",
              "  }\n",
              "\n",
              "  [theme=dark] .colab-df-quickchart {\n",
              "      --bg-color: #3B4455;\n",
              "      --fill-color: #D2E3FC;\n",
              "      --hover-bg-color: #434B5C;\n",
              "      --hover-fill-color: #FFFFFF;\n",
              "      --disabled-bg-color: #3B4455;\n",
              "      --disabled-fill-color: #666;\n",
              "  }\n",
              "\n",
              "  .colab-df-quickchart {\n",
              "    background-color: var(--bg-color);\n",
              "    border: none;\n",
              "    border-radius: 50%;\n",
              "    cursor: pointer;\n",
              "    display: none;\n",
              "    fill: var(--fill-color);\n",
              "    height: 32px;\n",
              "    padding: 0;\n",
              "    width: 32px;\n",
              "  }\n",
              "\n",
              "  .colab-df-quickchart:hover {\n",
              "    background-color: var(--hover-bg-color);\n",
              "    box-shadow: 0 1px 2px rgba(60, 64, 67, 0.3), 0 1px 3px 1px rgba(60, 64, 67, 0.15);\n",
              "    fill: var(--button-hover-fill-color);\n",
              "  }\n",
              "\n",
              "  .colab-df-quickchart-complete:disabled,\n",
              "  .colab-df-quickchart-complete:disabled:hover {\n",
              "    background-color: var(--disabled-bg-color);\n",
              "    fill: var(--disabled-fill-color);\n",
              "    box-shadow: none;\n",
              "  }\n",
              "\n",
              "  .colab-df-spinner {\n",
              "    border: 2px solid var(--fill-color);\n",
              "    border-color: transparent;\n",
              "    border-bottom-color: var(--fill-color);\n",
              "    animation:\n",
              "      spin 1s steps(1) infinite;\n",
              "  }\n",
              "\n",
              "  @keyframes spin {\n",
              "    0% {\n",
              "      border-color: transparent;\n",
              "      border-bottom-color: var(--fill-color);\n",
              "      border-left-color: var(--fill-color);\n",
              "    }\n",
              "    20% {\n",
              "      border-color: transparent;\n",
              "      border-left-color: var(--fill-color);\n",
              "      border-top-color: var(--fill-color);\n",
              "    }\n",
              "    30% {\n",
              "      border-color: transparent;\n",
              "      border-left-color: var(--fill-color);\n",
              "      border-top-color: var(--fill-color);\n",
              "      border-right-color: var(--fill-color);\n",
              "    }\n",
              "    40% {\n",
              "      border-color: transparent;\n",
              "      border-right-color: var(--fill-color);\n",
              "      border-top-color: var(--fill-color);\n",
              "    }\n",
              "    60% {\n",
              "      border-color: transparent;\n",
              "      border-right-color: var(--fill-color);\n",
              "    }\n",
              "    80% {\n",
              "      border-color: transparent;\n",
              "      border-right-color: var(--fill-color);\n",
              "      border-bottom-color: var(--fill-color);\n",
              "    }\n",
              "    90% {\n",
              "      border-color: transparent;\n",
              "      border-bottom-color: var(--fill-color);\n",
              "    }\n",
              "  }\n",
              "</style>\n",
              "\n",
              "  <script>\n",
              "    async function quickchart(key) {\n",
              "      const quickchartButtonEl =\n",
              "        document.querySelector('#' + key + ' button');\n",
              "      quickchartButtonEl.disabled = true;  // To prevent multiple clicks.\n",
              "      quickchartButtonEl.classList.add('colab-df-spinner');\n",
              "      try {\n",
              "        const charts = await google.colab.kernel.invokeFunction(\n",
              "            'suggestCharts', [key], {});\n",
              "      } catch (error) {\n",
              "        console.error('Error during call to suggestCharts:', error);\n",
              "      }\n",
              "      quickchartButtonEl.classList.remove('colab-df-spinner');\n",
              "      quickchartButtonEl.classList.add('colab-df-quickchart-complete');\n",
              "    }\n",
              "    (() => {\n",
              "      let quickchartButtonEl =\n",
              "        document.querySelector('#df-94d874c8-f9e9-4eed-8f87-5304a0492e04 button');\n",
              "      quickchartButtonEl.style.display =\n",
              "        google.colab.kernel.accessAllowed ? 'block' : 'none';\n",
              "    })();\n",
              "  </script>\n",
              "</div>\n",
              "\n",
              "    </div>\n",
              "  </div>\n"
            ],
            "text/plain": [
              "           age  month  day_of_week  duration  campaign     pdays  previous  \\\n",
              "3805 -0.850592      6            2 -0.578923 -0.556043 -5.525173  3.788273   \n",
              "5900 -0.755567      7            3 -0.279119 -0.556043  0.181425 -0.332678   \n",
              "5022  0.669800      8            5 -0.672611  0.149177  0.181425 -0.332678   \n",
              "4556 -0.375469      7            4 -0.927444  0.149177  0.181425 -0.332678   \n",
              "4139  0.479751     11            3  0.500369 -0.203433  0.181425 -0.332678   \n",
              "\n",
              "      Job_admin.  Job_blue-collar  Job_entrepreneur  ...  Housing_unknown  \\\n",
              "3805           0                1                 0  ...                0   \n",
              "5900           0                0                 0  ...                0   \n",
              "5022           0                0                 0  ...                0   \n",
              "4556           1                0                 0  ...                0   \n",
              "4139           0                0                 0  ...                0   \n",
              "\n",
              "      Housing_yes  Loan_no  Loan_unknown  Loan_yes  Poutcome_failure  \\\n",
              "3805            1        0             0         1                 0   \n",
              "5900            0        0             0         1                 0   \n",
              "5022            1        0             0         1                 0   \n",
              "4556            1        1             0         0                 0   \n",
              "4139            0        0             0         1                 0   \n",
              "\n",
              "      Poutcome_nonexistent  Poutcome_success  Contact_cellular  \\\n",
              "3805                     0                 1                 1   \n",
              "5900                     1                 0                 1   \n",
              "5022                     1                 0                 1   \n",
              "4556                     1                 0                 1   \n",
              "4139                     1                 0                 1   \n",
              "\n",
              "      Contact_telephone  \n",
              "3805                  0  \n",
              "5900                  0  \n",
              "5022                  0  \n",
              "4556                  0  \n",
              "4139                  0  \n",
              "\n",
              "[5 rows x 44 columns]"
            ]
          },
          "execution_count": 34,
          "metadata": {},
          "output_type": "execute_result"
        }
      ],
      "source": [
        "# Display the first few rows of the scaled data\n",
        "X_train.head()"
      ]
    },
    {
      "cell_type": "code",
      "execution_count": 35,
      "metadata": {
        "colab": {
          "base_uri": "https://localhost:8080/",
          "height": 236
        },
        "id": "FRNx1lTc0xfv",
        "outputId": "c2a7b23b-b7d9-467a-a1af-7497a4ee3cca"
      },
      "outputs": [
        {
          "data": {
            "application/vnd.google.colaboratory.intrinsic+json": {
              "type": "dataframe",
              "variable_name": "X_test"
            },
            "text/html": [
              "\n",
              "  <div id=\"df-fcd4177d-8f67-4124-a793-941cdf3d63c6\" class=\"colab-df-container\">\n",
              "    <div>\n",
              "<style scoped>\n",
              "    .dataframe tbody tr th:only-of-type {\n",
              "        vertical-align: middle;\n",
              "    }\n",
              "\n",
              "    .dataframe tbody tr th {\n",
              "        vertical-align: top;\n",
              "    }\n",
              "\n",
              "    .dataframe thead th {\n",
              "        text-align: right;\n",
              "    }\n",
              "</style>\n",
              "<table border=\"1\" class=\"dataframe\">\n",
              "  <thead>\n",
              "    <tr style=\"text-align: right;\">\n",
              "      <th></th>\n",
              "      <th>age</th>\n",
              "      <th>month</th>\n",
              "      <th>day_of_week</th>\n",
              "      <th>duration</th>\n",
              "      <th>campaign</th>\n",
              "      <th>pdays</th>\n",
              "      <th>previous</th>\n",
              "      <th>Job_admin.</th>\n",
              "      <th>Job_blue-collar</th>\n",
              "      <th>Job_entrepreneur</th>\n",
              "      <th>...</th>\n",
              "      <th>Housing_unknown</th>\n",
              "      <th>Housing_yes</th>\n",
              "      <th>Loan_no</th>\n",
              "      <th>Loan_unknown</th>\n",
              "      <th>Loan_yes</th>\n",
              "      <th>poutcome_failure</th>\n",
              "      <th>poutcome_nonexistent</th>\n",
              "      <th>poutcome_success</th>\n",
              "      <th>Contact_cellular</th>\n",
              "      <th>Contact_telephone</th>\n",
              "    </tr>\n",
              "  </thead>\n",
              "  <tbody>\n",
              "    <tr>\n",
              "      <th>706</th>\n",
              "      <td>0.574776</td>\n",
              "      <td>5</td>\n",
              "      <td>3</td>\n",
              "      <td>-0.616398</td>\n",
              "      <td>-0.556043</td>\n",
              "      <td>0.181425</td>\n",
              "      <td>-0.332678</td>\n",
              "      <td>1</td>\n",
              "      <td>0</td>\n",
              "      <td>0</td>\n",
              "      <td>...</td>\n",
              "      <td>0</td>\n",
              "      <td>0</td>\n",
              "      <td>1</td>\n",
              "      <td>0</td>\n",
              "      <td>0</td>\n",
              "      <td>0</td>\n",
              "      <td>1</td>\n",
              "      <td>0</td>\n",
              "      <td>0</td>\n",
              "      <td>1</td>\n",
              "    </tr>\n",
              "    <tr>\n",
              "      <th>5968</th>\n",
              "      <td>-0.470494</td>\n",
              "      <td>7</td>\n",
              "      <td>2</td>\n",
              "      <td>1.808260</td>\n",
              "      <td>-0.556043</td>\n",
              "      <td>0.181425</td>\n",
              "      <td>-0.332678</td>\n",
              "      <td>0</td>\n",
              "      <td>0</td>\n",
              "      <td>0</td>\n",
              "      <td>...</td>\n",
              "      <td>0</td>\n",
              "      <td>1</td>\n",
              "      <td>1</td>\n",
              "      <td>0</td>\n",
              "      <td>0</td>\n",
              "      <td>0</td>\n",
              "      <td>1</td>\n",
              "      <td>0</td>\n",
              "      <td>1</td>\n",
              "      <td>0</td>\n",
              "    </tr>\n",
              "    <tr>\n",
              "      <th>1665</th>\n",
              "      <td>-1.515763</td>\n",
              "      <td>7</td>\n",
              "      <td>3</td>\n",
              "      <td>-0.058015</td>\n",
              "      <td>-0.556043</td>\n",
              "      <td>0.181425</td>\n",
              "      <td>-0.332678</td>\n",
              "      <td>0</td>\n",
              "      <td>0</td>\n",
              "      <td>0</td>\n",
              "      <td>...</td>\n",
              "      <td>0</td>\n",
              "      <td>1</td>\n",
              "      <td>1</td>\n",
              "      <td>0</td>\n",
              "      <td>0</td>\n",
              "      <td>0</td>\n",
              "      <td>1</td>\n",
              "      <td>0</td>\n",
              "      <td>1</td>\n",
              "      <td>0</td>\n",
              "    </tr>\n",
              "    <tr>\n",
              "      <th>6676</th>\n",
              "      <td>1.049898</td>\n",
              "      <td>5</td>\n",
              "      <td>2</td>\n",
              "      <td>-0.815018</td>\n",
              "      <td>0.501787</td>\n",
              "      <td>0.181425</td>\n",
              "      <td>-0.332678</td>\n",
              "      <td>1</td>\n",
              "      <td>0</td>\n",
              "      <td>0</td>\n",
              "      <td>...</td>\n",
              "      <td>0</td>\n",
              "      <td>0</td>\n",
              "      <td>1</td>\n",
              "      <td>0</td>\n",
              "      <td>0</td>\n",
              "      <td>0</td>\n",
              "      <td>1</td>\n",
              "      <td>0</td>\n",
              "      <td>1</td>\n",
              "      <td>0</td>\n",
              "    </tr>\n",
              "    <tr>\n",
              "      <th>5606</th>\n",
              "      <td>-0.375469</td>\n",
              "      <td>7</td>\n",
              "      <td>2</td>\n",
              "      <td>0.178080</td>\n",
              "      <td>1.559617</td>\n",
              "      <td>0.181425</td>\n",
              "      <td>-0.332678</td>\n",
              "      <td>1</td>\n",
              "      <td>0</td>\n",
              "      <td>0</td>\n",
              "      <td>...</td>\n",
              "      <td>0</td>\n",
              "      <td>1</td>\n",
              "      <td>1</td>\n",
              "      <td>0</td>\n",
              "      <td>0</td>\n",
              "      <td>0</td>\n",
              "      <td>1</td>\n",
              "      <td>0</td>\n",
              "      <td>0</td>\n",
              "      <td>1</td>\n",
              "    </tr>\n",
              "  </tbody>\n",
              "</table>\n",
              "<p>5 rows × 44 columns</p>\n",
              "</div>\n",
              "    <div class=\"colab-df-buttons\">\n",
              "\n",
              "  <div class=\"colab-df-container\">\n",
              "    <button class=\"colab-df-convert\" onclick=\"convertToInteractive('df-fcd4177d-8f67-4124-a793-941cdf3d63c6')\"\n",
              "            title=\"Convert this dataframe to an interactive table.\"\n",
              "            style=\"display:none;\">\n",
              "\n",
              "  <svg xmlns=\"http://www.w3.org/2000/svg\" height=\"24px\" viewBox=\"0 -960 960 960\">\n",
              "    <path d=\"M120-120v-720h720v720H120Zm60-500h600v-160H180v160Zm220 220h160v-160H400v160Zm0 220h160v-160H400v160ZM180-400h160v-160H180v160Zm440 0h160v-160H620v160ZM180-180h160v-160H180v160Zm440 0h160v-160H620v160Z\"/>\n",
              "  </svg>\n",
              "    </button>\n",
              "\n",
              "  <style>\n",
              "    .colab-df-container {\n",
              "      display:flex;\n",
              "      gap: 12px;\n",
              "    }\n",
              "\n",
              "    .colab-df-convert {\n",
              "      background-color: #E8F0FE;\n",
              "      border: none;\n",
              "      border-radius: 50%;\n",
              "      cursor: pointer;\n",
              "      display: none;\n",
              "      fill: #1967D2;\n",
              "      height: 32px;\n",
              "      padding: 0 0 0 0;\n",
              "      width: 32px;\n",
              "    }\n",
              "\n",
              "    .colab-df-convert:hover {\n",
              "      background-color: #E2EBFA;\n",
              "      box-shadow: 0px 1px 2px rgba(60, 64, 67, 0.3), 0px 1px 3px 1px rgba(60, 64, 67, 0.15);\n",
              "      fill: #174EA6;\n",
              "    }\n",
              "\n",
              "    .colab-df-buttons div {\n",
              "      margin-bottom: 4px;\n",
              "    }\n",
              "\n",
              "    [theme=dark] .colab-df-convert {\n",
              "      background-color: #3B4455;\n",
              "      fill: #D2E3FC;\n",
              "    }\n",
              "\n",
              "    [theme=dark] .colab-df-convert:hover {\n",
              "      background-color: #434B5C;\n",
              "      box-shadow: 0px 1px 3px 1px rgba(0, 0, 0, 0.15);\n",
              "      filter: drop-shadow(0px 1px 2px rgba(0, 0, 0, 0.3));\n",
              "      fill: #FFFFFF;\n",
              "    }\n",
              "  </style>\n",
              "\n",
              "    <script>\n",
              "      const buttonEl =\n",
              "        document.querySelector('#df-fcd4177d-8f67-4124-a793-941cdf3d63c6 button.colab-df-convert');\n",
              "      buttonEl.style.display =\n",
              "        google.colab.kernel.accessAllowed ? 'block' : 'none';\n",
              "\n",
              "      async function convertToInteractive(key) {\n",
              "        const element = document.querySelector('#df-fcd4177d-8f67-4124-a793-941cdf3d63c6');\n",
              "        const dataTable =\n",
              "          await google.colab.kernel.invokeFunction('convertToInteractive',\n",
              "                                                    [key], {});\n",
              "        if (!dataTable) return;\n",
              "\n",
              "        const docLinkHtml = 'Like what you see? Visit the ' +\n",
              "          '<a target=\"_blank\" href=https://colab.research.google.com/notebooks/data_table.ipynb>data table notebook</a>'\n",
              "          + ' to learn more about interactive tables.';\n",
              "        element.innerHTML = '';\n",
              "        dataTable['output_type'] = 'display_data';\n",
              "        await google.colab.output.renderOutput(dataTable, element);\n",
              "        const docLink = document.createElement('div');\n",
              "        docLink.innerHTML = docLinkHtml;\n",
              "        element.appendChild(docLink);\n",
              "      }\n",
              "    </script>\n",
              "  </div>\n",
              "\n",
              "\n",
              "<div id=\"df-b6d651a8-9195-4262-9f0c-3d9661e0388a\">\n",
              "  <button class=\"colab-df-quickchart\" onclick=\"quickchart('df-b6d651a8-9195-4262-9f0c-3d9661e0388a')\"\n",
              "            title=\"Suggest charts\"\n",
              "            style=\"display:none;\">\n",
              "\n",
              "<svg xmlns=\"http://www.w3.org/2000/svg\" height=\"24px\"viewBox=\"0 0 24 24\"\n",
              "     width=\"24px\">\n",
              "    <g>\n",
              "        <path d=\"M19 3H5c-1.1 0-2 .9-2 2v14c0 1.1.9 2 2 2h14c1.1 0 2-.9 2-2V5c0-1.1-.9-2-2-2zM9 17H7v-7h2v7zm4 0h-2V7h2v10zm4 0h-2v-4h2v4z\"/>\n",
              "    </g>\n",
              "</svg>\n",
              "  </button>\n",
              "\n",
              "<style>\n",
              "  .colab-df-quickchart {\n",
              "      --bg-color: #E8F0FE;\n",
              "      --fill-color: #1967D2;\n",
              "      --hover-bg-color: #E2EBFA;\n",
              "      --hover-fill-color: #174EA6;\n",
              "      --disabled-fill-color: #AAA;\n",
              "      --disabled-bg-color: #DDD;\n",
              "  }\n",
              "\n",
              "  [theme=dark] .colab-df-quickchart {\n",
              "      --bg-color: #3B4455;\n",
              "      --fill-color: #D2E3FC;\n",
              "      --hover-bg-color: #434B5C;\n",
              "      --hover-fill-color: #FFFFFF;\n",
              "      --disabled-bg-color: #3B4455;\n",
              "      --disabled-fill-color: #666;\n",
              "  }\n",
              "\n",
              "  .colab-df-quickchart {\n",
              "    background-color: var(--bg-color);\n",
              "    border: none;\n",
              "    border-radius: 50%;\n",
              "    cursor: pointer;\n",
              "    display: none;\n",
              "    fill: var(--fill-color);\n",
              "    height: 32px;\n",
              "    padding: 0;\n",
              "    width: 32px;\n",
              "  }\n",
              "\n",
              "  .colab-df-quickchart:hover {\n",
              "    background-color: var(--hover-bg-color);\n",
              "    box-shadow: 0 1px 2px rgba(60, 64, 67, 0.3), 0 1px 3px 1px rgba(60, 64, 67, 0.15);\n",
              "    fill: var(--button-hover-fill-color);\n",
              "  }\n",
              "\n",
              "  .colab-df-quickchart-complete:disabled,\n",
              "  .colab-df-quickchart-complete:disabled:hover {\n",
              "    background-color: var(--disabled-bg-color);\n",
              "    fill: var(--disabled-fill-color);\n",
              "    box-shadow: none;\n",
              "  }\n",
              "\n",
              "  .colab-df-spinner {\n",
              "    border: 2px solid var(--fill-color);\n",
              "    border-color: transparent;\n",
              "    border-bottom-color: var(--fill-color);\n",
              "    animation:\n",
              "      spin 1s steps(1) infinite;\n",
              "  }\n",
              "\n",
              "  @keyframes spin {\n",
              "    0% {\n",
              "      border-color: transparent;\n",
              "      border-bottom-color: var(--fill-color);\n",
              "      border-left-color: var(--fill-color);\n",
              "    }\n",
              "    20% {\n",
              "      border-color: transparent;\n",
              "      border-left-color: var(--fill-color);\n",
              "      border-top-color: var(--fill-color);\n",
              "    }\n",
              "    30% {\n",
              "      border-color: transparent;\n",
              "      border-left-color: var(--fill-color);\n",
              "      border-top-color: var(--fill-color);\n",
              "      border-right-color: var(--fill-color);\n",
              "    }\n",
              "    40% {\n",
              "      border-color: transparent;\n",
              "      border-right-color: var(--fill-color);\n",
              "      border-top-color: var(--fill-color);\n",
              "    }\n",
              "    60% {\n",
              "      border-color: transparent;\n",
              "      border-right-color: var(--fill-color);\n",
              "    }\n",
              "    80% {\n",
              "      border-color: transparent;\n",
              "      border-right-color: var(--fill-color);\n",
              "      border-bottom-color: var(--fill-color);\n",
              "    }\n",
              "    90% {\n",
              "      border-color: transparent;\n",
              "      border-bottom-color: var(--fill-color);\n",
              "    }\n",
              "  }\n",
              "</style>\n",
              "\n",
              "  <script>\n",
              "    async function quickchart(key) {\n",
              "      const quickchartButtonEl =\n",
              "        document.querySelector('#' + key + ' button');\n",
              "      quickchartButtonEl.disabled = true;  // To prevent multiple clicks.\n",
              "      quickchartButtonEl.classList.add('colab-df-spinner');\n",
              "      try {\n",
              "        const charts = await google.colab.kernel.invokeFunction(\n",
              "            'suggestCharts', [key], {});\n",
              "      } catch (error) {\n",
              "        console.error('Error during call to suggestCharts:', error);\n",
              "      }\n",
              "      quickchartButtonEl.classList.remove('colab-df-spinner');\n",
              "      quickchartButtonEl.classList.add('colab-df-quickchart-complete');\n",
              "    }\n",
              "    (() => {\n",
              "      let quickchartButtonEl =\n",
              "        document.querySelector('#df-b6d651a8-9195-4262-9f0c-3d9661e0388a button');\n",
              "      quickchartButtonEl.style.display =\n",
              "        google.colab.kernel.accessAllowed ? 'block' : 'none';\n",
              "    })();\n",
              "  </script>\n",
              "</div>\n",
              "\n",
              "    </div>\n",
              "  </div>\n"
            ],
            "text/plain": [
              "           age  month  day_of_week  duration  campaign     pdays  previous  \\\n",
              "706   0.574776      5            3 -0.616398 -0.556043  0.181425 -0.332678   \n",
              "5968 -0.470494      7            2  1.808260 -0.556043  0.181425 -0.332678   \n",
              "1665 -1.515763      7            3 -0.058015 -0.556043  0.181425 -0.332678   \n",
              "6676  1.049898      5            2 -0.815018  0.501787  0.181425 -0.332678   \n",
              "5606 -0.375469      7            2  0.178080  1.559617  0.181425 -0.332678   \n",
              "\n",
              "      Job_admin.  Job_blue-collar  Job_entrepreneur  ...  Housing_unknown  \\\n",
              "706            1                0                 0  ...                0   \n",
              "5968           0                0                 0  ...                0   \n",
              "1665           0                0                 0  ...                0   \n",
              "6676           1                0                 0  ...                0   \n",
              "5606           1                0                 0  ...                0   \n",
              "\n",
              "      Housing_yes  Loan_no  Loan_unknown  Loan_yes  poutcome_failure  \\\n",
              "706             0        1             0         0                 0   \n",
              "5968            1        1             0         0                 0   \n",
              "1665            1        1             0         0                 0   \n",
              "6676            0        1             0         0                 0   \n",
              "5606            1        1             0         0                 0   \n",
              "\n",
              "      poutcome_nonexistent  poutcome_success  Contact_cellular  \\\n",
              "706                      1                 0                 0   \n",
              "5968                     1                 0                 1   \n",
              "1665                     1                 0                 1   \n",
              "6676                     1                 0                 1   \n",
              "5606                     1                 0                 0   \n",
              "\n",
              "      Contact_telephone  \n",
              "706                   1  \n",
              "5968                  0  \n",
              "1665                  0  \n",
              "6676                  0  \n",
              "5606                  1  \n",
              "\n",
              "[5 rows x 44 columns]"
            ]
          },
          "execution_count": 35,
          "metadata": {},
          "output_type": "execute_result"
        }
      ],
      "source": [
        "# Display the first few rows of the scaled data\n",
        "X_test.head()"
      ]
    },
    {
      "cell_type": "markdown",
      "metadata": {
        "id": "gQrVNU6r3P0S"
      },
      "source": [
        "Scalling dan Normalisasi telah berhasil dilakukan. Setiap data pada kolom sudah memiliki rentang nilai antara -1 hingga 1 atau -2 hingga 2. Setiap fitur akan memiliki mean 0 dan standar deviasi 1."
      ]
    },
    {
      "cell_type": "code",
      "execution_count": 36,
      "metadata": {
        "colab": {
          "base_uri": "https://localhost:8080/"
        },
        "id": "qH4O36qF5655",
        "outputId": "7000eb4f-e24e-41de-aa66-3f32ea3abe0a"
      },
      "outputs": [
        {
          "name": "stdout",
          "output_type": "stream",
          "text": [
            "Index(['age', 'month', 'day_of_week', 'duration', 'campaign', 'pdays',\n",
            "       'previous', 'job_admin.', 'job_blue-collar', 'job_entrepreneur',\n",
            "       'job_housemaid', 'job_management', 'job_retired', 'job_self-employed',\n",
            "       'job_services', 'job_student', 'job_technician', 'job_unemployed',\n",
            "       'job_unknown', 'marital_divorced', 'marital_married', 'marital_single',\n",
            "       'marital_unknown', 'education_basic.4y', 'education_basic.6y',\n",
            "       'education_basic.9y', 'education_high.school', 'education_illiterate',\n",
            "       'education_professional.course', 'education_university.degree',\n",
            "       'education_unknown', 'default_no', 'default_unknown', 'housing_no',\n",
            "       'housing_unknown', 'housing_yes', 'loan_no', 'loan_unknown', 'loan_yes',\n",
            "       'poutcome_failure', 'poutcome_nonexistent', 'poutcome_success',\n",
            "       'contact_cellular', 'contact_telephone'],\n",
            "      dtype='object')\n",
            "Index(['age', 'month', 'day_of_week', 'duration', 'campaign', 'pdays',\n",
            "       'previous', 'job_admin.', 'job_blue-collar', 'job_entrepreneur',\n",
            "       'job_housemaid', 'job_management', 'job_retired', 'job_self-employed',\n",
            "       'job_services', 'job_student', 'job_technician', 'job_unemployed',\n",
            "       'job_unknown', 'marital_divorced', 'marital_married', 'marital_single',\n",
            "       'marital_unknown', 'education_basic.4y', 'education_basic.6y',\n",
            "       'education_basic.9y', 'education_high.school', 'education_illiterate',\n",
            "       'education_professional.course', 'education_university.degree',\n",
            "       'education_unknown', 'default_no', 'default_unknown', 'housing_no',\n",
            "       'housing_unknown', 'housing_yes', 'loan_no', 'loan_unknown', 'loan_yes',\n",
            "       'poutcome_failure', 'poutcome_nonexistent', 'poutcome_success',\n",
            "       'contact_cellular', 'contact_telephone'],\n",
            "      dtype='object')\n"
          ]
        }
      ],
      "source": [
        "# Mengubah nama kolom untuk konsistensi\n",
        "X_train.columns = [col.lower() for col in X_train.columns]\n",
        "X_test.columns = [col.lower() for col in X_test.columns]\n",
        "\n",
        "# Cetak nama kolom untuk memverifikasi\n",
        "print(X_train.columns)\n",
        "print(X_test.columns)"
      ]
    },
    {
      "cell_type": "code",
      "execution_count": 37,
      "metadata": {
        "id": "vMQlaiw68xJ-"
      },
      "outputs": [],
      "source": [
        "# Mengubah label 'no' menjadi 0 dan 'yes' menjadi 1\n",
        "y_train = y_train.replace({'no': 0, 'yes': 1})\n",
        "y_test = y_test.replace({'no': 0, 'yes': 1})  # Jika Anda memiliki y_test"
      ]
    },
    {
      "cell_type": "markdown",
      "metadata": {
        "id": "GrLXqBla3d3w"
      },
      "source": [
        "## **Random Forest**"
      ]
    },
    {
      "cell_type": "markdown",
      "metadata": {
        "id": "mn_zxvgO3jk-"
      },
      "source": [
        "**By Default**"
      ]
    },
    {
      "cell_type": "code",
      "execution_count": 38,
      "metadata": {
        "colab": {
          "base_uri": "https://localhost:8080/",
          "height": 75
        },
        "id": "Qj2bn-3Y3RbJ",
        "outputId": "4b9db894-47e7-41a9-f26a-bef1cb6a16ce"
      },
      "outputs": [
        {
          "data": {
            "text/html": [
              "<style>#sk-container-id-1 {color: black;background-color: white;}#sk-container-id-1 pre{padding: 0;}#sk-container-id-1 div.sk-toggleable {background-color: white;}#sk-container-id-1 label.sk-toggleable__label {cursor: pointer;display: block;width: 100%;margin-bottom: 0;padding: 0.3em;box-sizing: border-box;text-align: center;}#sk-container-id-1 label.sk-toggleable__label-arrow:before {content: \"▸\";float: left;margin-right: 0.25em;color: #696969;}#sk-container-id-1 label.sk-toggleable__label-arrow:hover:before {color: black;}#sk-container-id-1 div.sk-estimator:hover label.sk-toggleable__label-arrow:before {color: black;}#sk-container-id-1 div.sk-toggleable__content {max-height: 0;max-width: 0;overflow: hidden;text-align: left;background-color: #f0f8ff;}#sk-container-id-1 div.sk-toggleable__content pre {margin: 0.2em;color: black;border-radius: 0.25em;background-color: #f0f8ff;}#sk-container-id-1 input.sk-toggleable__control:checked~div.sk-toggleable__content {max-height: 200px;max-width: 100%;overflow: auto;}#sk-container-id-1 input.sk-toggleable__control:checked~label.sk-toggleable__label-arrow:before {content: \"▾\";}#sk-container-id-1 div.sk-estimator input.sk-toggleable__control:checked~label.sk-toggleable__label {background-color: #d4ebff;}#sk-container-id-1 div.sk-label input.sk-toggleable__control:checked~label.sk-toggleable__label {background-color: #d4ebff;}#sk-container-id-1 input.sk-hidden--visually {border: 0;clip: rect(1px 1px 1px 1px);clip: rect(1px, 1px, 1px, 1px);height: 1px;margin: -1px;overflow: hidden;padding: 0;position: absolute;width: 1px;}#sk-container-id-1 div.sk-estimator {font-family: monospace;background-color: #f0f8ff;border: 1px dotted black;border-radius: 0.25em;box-sizing: border-box;margin-bottom: 0.5em;}#sk-container-id-1 div.sk-estimator:hover {background-color: #d4ebff;}#sk-container-id-1 div.sk-parallel-item::after {content: \"\";width: 100%;border-bottom: 1px solid gray;flex-grow: 1;}#sk-container-id-1 div.sk-label:hover label.sk-toggleable__label {background-color: #d4ebff;}#sk-container-id-1 div.sk-serial::before {content: \"\";position: absolute;border-left: 1px solid gray;box-sizing: border-box;top: 0;bottom: 0;left: 50%;z-index: 0;}#sk-container-id-1 div.sk-serial {display: flex;flex-direction: column;align-items: center;background-color: white;padding-right: 0.2em;padding-left: 0.2em;position: relative;}#sk-container-id-1 div.sk-item {position: relative;z-index: 1;}#sk-container-id-1 div.sk-parallel {display: flex;align-items: stretch;justify-content: center;background-color: white;position: relative;}#sk-container-id-1 div.sk-item::before, #sk-container-id-1 div.sk-parallel-item::before {content: \"\";position: absolute;border-left: 1px solid gray;box-sizing: border-box;top: 0;bottom: 0;left: 50%;z-index: -1;}#sk-container-id-1 div.sk-parallel-item {display: flex;flex-direction: column;z-index: 1;position: relative;background-color: white;}#sk-container-id-1 div.sk-parallel-item:first-child::after {align-self: flex-end;width: 50%;}#sk-container-id-1 div.sk-parallel-item:last-child::after {align-self: flex-start;width: 50%;}#sk-container-id-1 div.sk-parallel-item:only-child::after {width: 0;}#sk-container-id-1 div.sk-dashed-wrapped {border: 1px dashed gray;margin: 0 0.4em 0.5em 0.4em;box-sizing: border-box;padding-bottom: 0.4em;background-color: white;}#sk-container-id-1 div.sk-label label {font-family: monospace;font-weight: bold;display: inline-block;line-height: 1.2em;}#sk-container-id-1 div.sk-label-container {text-align: center;}#sk-container-id-1 div.sk-container {/* jupyter's `normalize.less` sets `[hidden] { display: none; }` but bootstrap.min.css set `[hidden] { display: none !important; }` so we also need the `!important` here to be able to override the default hidden behavior on the sphinx rendered scikit-learn.org. See: https://github.com/scikit-learn/scikit-learn/issues/21755 */display: inline-block !important;position: relative;}#sk-container-id-1 div.sk-text-repr-fallback {display: none;}</style><div id=\"sk-container-id-1\" class=\"sk-top-container\"><div class=\"sk-text-repr-fallback\"><pre>RandomForestClassifier(random_state=42)</pre><b>In a Jupyter environment, please rerun this cell to show the HTML representation or trust the notebook. <br />On GitHub, the HTML representation is unable to render, please try loading this page with nbviewer.org.</b></div><div class=\"sk-container\" hidden><div class=\"sk-item\"><div class=\"sk-estimator sk-toggleable\"><input class=\"sk-toggleable__control sk-hidden--visually\" id=\"sk-estimator-id-1\" type=\"checkbox\" checked><label for=\"sk-estimator-id-1\" class=\"sk-toggleable__label sk-toggleable__label-arrow\">RandomForestClassifier</label><div class=\"sk-toggleable__content\"><pre>RandomForestClassifier(random_state=42)</pre></div></div></div></div></div>"
            ],
            "text/plain": [
              "RandomForestClassifier(random_state=42)"
            ]
          },
          "execution_count": 38,
          "metadata": {},
          "output_type": "execute_result"
        }
      ],
      "source": [
        "# Define and Train the Random Forest Model\n",
        "rf_model = RandomForestClassifier(n_estimators=100, random_state=42)\n",
        "rf_model.fit(X_train, y_train)"
      ]
    },
    {
      "cell_type": "code",
      "execution_count": 39,
      "metadata": {
        "colab": {
          "base_uri": "https://localhost:8080/"
        },
        "id": "jHi_d7p-3o_p",
        "outputId": "5d6ee45c-0609-4b37-9797-c35bb8b7ae4d"
      },
      "outputs": [
        {
          "name": "stdout",
          "output_type": "stream",
          "text": [
            "Random Forest Classification Report:\n",
            "              precision    recall  f1-score   support\n",
            "\n",
            "           0       0.91      0.98      0.94      1435\n",
            "           1       0.73      0.36      0.48       213\n",
            "\n",
            "    accuracy                           0.90      1648\n",
            "   macro avg       0.82      0.67      0.71      1648\n",
            "weighted avg       0.89      0.90      0.89      1648\n",
            "\n"
          ]
        }
      ],
      "source": [
        "# Evaluate Random Forest\n",
        "rf_predictions = rf_model.predict(X_test)\n",
        "print(\"Random Forest Classification Report:\")\n",
        "print(classification_report(y_test, rf_predictions))"
      ]
    },
    {
      "cell_type": "markdown",
      "metadata": {
        "id": "hSsH_ZstoYMv"
      },
      "source": [
        "Output di atas menunjukkan laporan klasifikasi (classification report) untuk model Random Forest by default. Laporan ini memberikan evaluasi kinerja model berdasarkan beberapa metrik, sebagai berikut:\n",
        "\n",
        "- Precision: Precision mengukur tingkat keakuratan dari hasil prediksi positif. Dalam konteks ini, precision untuk kelas 0 atau \"no\" (tidak berlangganan) adalah 0.91, yang berarti 91% dari prediksi yang diklasifikasikan sebagai tidak berlangganan benar-benar tidak berlangganan. Sedangkan precision untuk kelas 1 atau \"yes\" (berlangganan) adalah 0.73, yang berarti 73% dari prediksi yang diklasifikasikan sebagai berlangganan benar-benar berlangganan.\n",
        "\n",
        "- Recall: Recall mengukur seberapa baik model dapat mengidentifikasi semua kasus yang sebenarnya positif. Recall untuk kelas 0 atau \"no\" adalah 0.98, yang berarti 98% dari semua kasus yang sebenarnya tidak berlangganan berhasil diidentifikasi oleh model. Sedangkan recall untuk kelas 1 atau \"yes\" adalah 0.36, yang berarti hanya 36% dari semua kasus yang sebenarnya berlangganan berhasil diidentifikasi oleh model.\n",
        "\n",
        "- F1-score: F1-score adalah rata-rata harmonis dari precision dan recall. F1-score memberikan keseimbangan antara precision dan recall. F1-score untuk kelas 0 atau \"no\" adalah 0.94 dan untuk kelas 1 atau \"yes\" adalah 0.48.\n",
        "\n",
        "- Support: Support adalah jumlah kemunculan setiap kelas dalam data uji. Dalam konteks ini, jumlah support untuk kelas 0 atau \"no\" adalah 1435 dan untuk kelas 1 atau \"yes\" adalah 213.\n",
        "\n",
        "- Accuracy: Akurasi adalah proporsi prediksi yang benar secara keseluruhan. Akurasi model ini adalah 0.90 atau 90%.\n",
        "\n",
        "- Macro Average dan Weighted Average: Macro average adalah rata-rata sederhana dari metrik evaluasi (precision, recall, f1-score) untuk setiap kelas. Weighted average adalah rata-rata di mana setiap metrik diberi bobot berdasarkan support untuk setiap kelas. Dalam laporan ini, macro average memberikan nilai precision 0.82, recall 0.67, dan f1-score 0.71. Sedangkan weighted average memberikan nilai precision 0.89, recall 0.90, dan f1-score 0.89."
      ]
    },
    {
      "cell_type": "markdown",
      "metadata": {
        "id": "1rjDFvPi3qZE"
      },
      "source": [
        "**Tuning**"
      ]
    },
    {
      "cell_type": "code",
      "execution_count": 40,
      "metadata": {
        "colab": {
          "base_uri": "https://localhost:8080/",
          "height": 109
        },
        "id": "TwGmptkz3zYP",
        "outputId": "84a4c616-fbe0-4b8b-f592-45e066422937"
      },
      "outputs": [
        {
          "name": "stdout",
          "output_type": "stream",
          "text": [
            "Best parameters found:  {'max_depth': None, 'min_samples_leaf': 2, 'min_samples_split': 5, 'n_estimators': 50}\n"
          ]
        },
        {
          "data": {
            "text/html": [
              "<style>#sk-container-id-2 {color: black;background-color: white;}#sk-container-id-2 pre{padding: 0;}#sk-container-id-2 div.sk-toggleable {background-color: white;}#sk-container-id-2 label.sk-toggleable__label {cursor: pointer;display: block;width: 100%;margin-bottom: 0;padding: 0.3em;box-sizing: border-box;text-align: center;}#sk-container-id-2 label.sk-toggleable__label-arrow:before {content: \"▸\";float: left;margin-right: 0.25em;color: #696969;}#sk-container-id-2 label.sk-toggleable__label-arrow:hover:before {color: black;}#sk-container-id-2 div.sk-estimator:hover label.sk-toggleable__label-arrow:before {color: black;}#sk-container-id-2 div.sk-toggleable__content {max-height: 0;max-width: 0;overflow: hidden;text-align: left;background-color: #f0f8ff;}#sk-container-id-2 div.sk-toggleable__content pre {margin: 0.2em;color: black;border-radius: 0.25em;background-color: #f0f8ff;}#sk-container-id-2 input.sk-toggleable__control:checked~div.sk-toggleable__content {max-height: 200px;max-width: 100%;overflow: auto;}#sk-container-id-2 input.sk-toggleable__control:checked~label.sk-toggleable__label-arrow:before {content: \"▾\";}#sk-container-id-2 div.sk-estimator input.sk-toggleable__control:checked~label.sk-toggleable__label {background-color: #d4ebff;}#sk-container-id-2 div.sk-label input.sk-toggleable__control:checked~label.sk-toggleable__label {background-color: #d4ebff;}#sk-container-id-2 input.sk-hidden--visually {border: 0;clip: rect(1px 1px 1px 1px);clip: rect(1px, 1px, 1px, 1px);height: 1px;margin: -1px;overflow: hidden;padding: 0;position: absolute;width: 1px;}#sk-container-id-2 div.sk-estimator {font-family: monospace;background-color: #f0f8ff;border: 1px dotted black;border-radius: 0.25em;box-sizing: border-box;margin-bottom: 0.5em;}#sk-container-id-2 div.sk-estimator:hover {background-color: #d4ebff;}#sk-container-id-2 div.sk-parallel-item::after {content: \"\";width: 100%;border-bottom: 1px solid gray;flex-grow: 1;}#sk-container-id-2 div.sk-label:hover label.sk-toggleable__label {background-color: #d4ebff;}#sk-container-id-2 div.sk-serial::before {content: \"\";position: absolute;border-left: 1px solid gray;box-sizing: border-box;top: 0;bottom: 0;left: 50%;z-index: 0;}#sk-container-id-2 div.sk-serial {display: flex;flex-direction: column;align-items: center;background-color: white;padding-right: 0.2em;padding-left: 0.2em;position: relative;}#sk-container-id-2 div.sk-item {position: relative;z-index: 1;}#sk-container-id-2 div.sk-parallel {display: flex;align-items: stretch;justify-content: center;background-color: white;position: relative;}#sk-container-id-2 div.sk-item::before, #sk-container-id-2 div.sk-parallel-item::before {content: \"\";position: absolute;border-left: 1px solid gray;box-sizing: border-box;top: 0;bottom: 0;left: 50%;z-index: -1;}#sk-container-id-2 div.sk-parallel-item {display: flex;flex-direction: column;z-index: 1;position: relative;background-color: white;}#sk-container-id-2 div.sk-parallel-item:first-child::after {align-self: flex-end;width: 50%;}#sk-container-id-2 div.sk-parallel-item:last-child::after {align-self: flex-start;width: 50%;}#sk-container-id-2 div.sk-parallel-item:only-child::after {width: 0;}#sk-container-id-2 div.sk-dashed-wrapped {border: 1px dashed gray;margin: 0 0.4em 0.5em 0.4em;box-sizing: border-box;padding-bottom: 0.4em;background-color: white;}#sk-container-id-2 div.sk-label label {font-family: monospace;font-weight: bold;display: inline-block;line-height: 1.2em;}#sk-container-id-2 div.sk-label-container {text-align: center;}#sk-container-id-2 div.sk-container {/* jupyter's `normalize.less` sets `[hidden] { display: none; }` but bootstrap.min.css set `[hidden] { display: none !important; }` so we also need the `!important` here to be able to override the default hidden behavior on the sphinx rendered scikit-learn.org. See: https://github.com/scikit-learn/scikit-learn/issues/21755 */display: inline-block !important;position: relative;}#sk-container-id-2 div.sk-text-repr-fallback {display: none;}</style><div id=\"sk-container-id-2\" class=\"sk-top-container\"><div class=\"sk-text-repr-fallback\"><pre>RandomForestClassifier(min_samples_leaf=2, min_samples_split=5, n_estimators=50,\n",
              "                       random_state=42)</pre><b>In a Jupyter environment, please rerun this cell to show the HTML representation or trust the notebook. <br />On GitHub, the HTML representation is unable to render, please try loading this page with nbviewer.org.</b></div><div class=\"sk-container\" hidden><div class=\"sk-item\"><div class=\"sk-estimator sk-toggleable\"><input class=\"sk-toggleable__control sk-hidden--visually\" id=\"sk-estimator-id-2\" type=\"checkbox\" checked><label for=\"sk-estimator-id-2\" class=\"sk-toggleable__label sk-toggleable__label-arrow\">RandomForestClassifier</label><div class=\"sk-toggleable__content\"><pre>RandomForestClassifier(min_samples_leaf=2, min_samples_split=5, n_estimators=50,\n",
              "                       random_state=42)</pre></div></div></div></div></div>"
            ],
            "text/plain": [
              "RandomForestClassifier(min_samples_leaf=2, min_samples_split=5, n_estimators=50,\n",
              "                       random_state=42)"
            ]
          },
          "execution_count": 40,
          "metadata": {},
          "output_type": "execute_result"
        }
      ],
      "source": [
        "# Define parameter grid for GridSearchCV\n",
        "param_grid = {\n",
        "    'n_estimators': [50, 100, 150],  # Adding 100 which is your initial value\n",
        "    'max_depth': [None, 5, 10],\n",
        "    'min_samples_split': [2, 5],  # Value of 1 is invalid, as the minimum value is 2\n",
        "    'min_samples_leaf': [1, 2]\n",
        "}\n",
        "\n",
        "# Initialize RandomForestClassifier model with random_state for reproducibility\n",
        "clf = RandomForestClassifier(random_state=42)\n",
        "\n",
        "# Initialize GridSearchCV\n",
        "grid_search = GridSearchCV(estimator=clf, param_grid=param_grid, cv=5, scoring='accuracy', n_jobs=-1)\n",
        "\n",
        "# Fit GridSearchCV with the encoded training data\n",
        "grid_search.fit(X_train, y_train)  # Make sure X_train is pre-encoded if necessary\n",
        "\n",
        "# Find the best hyperparameter combination\n",
        "best_params = grid_search.best_params_\n",
        "print(\"Best parameters found: \", best_params)\n",
        "\n",
        "# Get the best model from the grid search\n",
        "best_rf_model = grid_search.best_estimator_\n",
        "\n",
        "# Retrain the model with the entire training data using the best parameters\n",
        "# This is not always necessary, as GridSearchCV already trains the best model on the entire training data\n",
        "best_rf_model.fit(X_train, y_train)"
      ]
    },
    {
      "cell_type": "code",
      "execution_count": 41,
      "metadata": {
        "colab": {
          "base_uri": "https://localhost:8080/"
        },
        "id": "OIaiXTTS31aU",
        "outputId": "7f0d1eca-d217-4e77-d06a-cd1bd7817e05"
      },
      "outputs": [
        {
          "name": "stdout",
          "output_type": "stream",
          "text": [
            "Random Forest Tuned Classification Report:\n",
            "              precision    recall  f1-score   support\n",
            "\n",
            "           0       0.90      0.98      0.94      1435\n",
            "           1       0.73      0.30      0.42       213\n",
            "\n",
            "    accuracy                           0.90      1648\n",
            "   macro avg       0.82      0.64      0.68      1648\n",
            "weighted avg       0.88      0.90      0.87      1648\n",
            "\n"
          ]
        }
      ],
      "source": [
        "# Make predictions on the test set\n",
        "y_pred = best_rf_model.predict(X_test)\n",
        "\n",
        "# Print the classification report\n",
        "print(\"Random Forest Tuned Classification Report:\")\n",
        "print(classification_report(y_test, y_pred))"
      ]
    },
    {
      "cell_type": "markdown",
      "metadata": {
        "id": "kqyIENjfrJg7"
      },
      "source": [
        "Output di atas menunjukkan laporan klasifikasi (classification report) untuk model Random Forest yang telah dituning (disesuaikan parameter-parameternya dengan GridSearchCV). Laporan ini memberikan evaluasi kinerja model berdasarkan beberapa metrik, sebagai berikut:\n",
        "\n",
        "- Precision: Precision mengukur tingkat keakuratan dari hasil prediksi positif. Dalam konteks ini, precision untuk kelas 0 atau \"no\" (tidak berlangganan) adalah 0.90, yang berarti 90% dari prediksi yang diklasifikasikan sebagai tidak berlangganan benar-benar tidak berlangganan. Sedangkan precision untuk kelas 1 atau \"yes\" (berlangganan) adalah 0.73, yang berarti 73% dari prediksi yang diklasifikasikan sebagai berlangganan benar-benar berlangganan.\n",
        "\n",
        "- Recall: Recall mengukur seberapa baik model dapat mengidentifikasi semua kasus yang sebenarnya positif. Recall untuk kelas 0 atau \"no\" adalah 0.98, yang berarti 98% dari semua kasus yang sebenarnya tidak berlangganan berhasil diidentifikasi oleh model. Sedangkan recall untuk kelas 1 atau \"yes\" adalah 0.42, yang berarti hanya 42% dari semua kasus yang sebenarnya berlangganan berhasil diidentifikasi oleh model.\n",
        "\n",
        "- F1-score: F1-score adalah rata-rata harmonis dari precision dan recall. F1-score memberikan keseimbangan antara precision dan recall. F1-score untuk kelas 0 atau \"no\" adalah 0.94 dan untuk kelas 1 atau \"yes\" adalah 0.53.\n",
        "\n",
        "- Support: Support adalah jumlah kemunculan setiap kelas dalam data uji. Dalam konteks ini, jumlah support untuk kelas 0 atau \"no\" adalah 1435 dan untuk kelas 1 atau \"yes\" adalah 213.\n",
        "\n",
        "- Accuracy: Akurasi adalah proporsi prediksi yang benar secara keseluruhan. Akurasi model ini adalah 0.89 atau 89%.\n",
        "\n",
        "- Macro Average dan Weighted Average:\n",
        " - Macro Average adalah rata-rata sederhana dari metrik evaluasi (precision, recall, f1-score) untuk setiap kelas. Dalam laporan ini, macro average memberikan nilai precision 0.82, recall 0.70, dan f1-score 0.71.\n",
        " - Weighted Average adalah rata-rata di mana setiap metrik diberi bobot berdasarkan support untuk setiap kelas. Dalam laporan ini, weighted average memberikan nilai precision 0.88, recall 0.89, dan f1-score 0.87."
      ]
    },
    {
      "cell_type": "markdown",
      "metadata": {
        "id": "RFrHf2ln34Db"
      },
      "source": [
        "## **XGBoost**"
      ]
    },
    {
      "cell_type": "markdown",
      "metadata": {
        "id": "pNi7Ruc16fKI"
      },
      "source": [
        "**By Default**"
      ]
    },
    {
      "cell_type": "code",
      "execution_count": 42,
      "metadata": {
        "colab": {
          "base_uri": "https://localhost:8080/",
          "height": 248
        },
        "id": "uoMEvK766hJ-",
        "outputId": "df211420-a04e-4ace-df2e-deb8e7fbe01e"
      },
      "outputs": [
        {
          "data": {
            "text/html": [
              "<style>#sk-container-id-3 {color: black;background-color: white;}#sk-container-id-3 pre{padding: 0;}#sk-container-id-3 div.sk-toggleable {background-color: white;}#sk-container-id-3 label.sk-toggleable__label {cursor: pointer;display: block;width: 100%;margin-bottom: 0;padding: 0.3em;box-sizing: border-box;text-align: center;}#sk-container-id-3 label.sk-toggleable__label-arrow:before {content: \"▸\";float: left;margin-right: 0.25em;color: #696969;}#sk-container-id-3 label.sk-toggleable__label-arrow:hover:before {color: black;}#sk-container-id-3 div.sk-estimator:hover label.sk-toggleable__label-arrow:before {color: black;}#sk-container-id-3 div.sk-toggleable__content {max-height: 0;max-width: 0;overflow: hidden;text-align: left;background-color: #f0f8ff;}#sk-container-id-3 div.sk-toggleable__content pre {margin: 0.2em;color: black;border-radius: 0.25em;background-color: #f0f8ff;}#sk-container-id-3 input.sk-toggleable__control:checked~div.sk-toggleable__content {max-height: 200px;max-width: 100%;overflow: auto;}#sk-container-id-3 input.sk-toggleable__control:checked~label.sk-toggleable__label-arrow:before {content: \"▾\";}#sk-container-id-3 div.sk-estimator input.sk-toggleable__control:checked~label.sk-toggleable__label {background-color: #d4ebff;}#sk-container-id-3 div.sk-label input.sk-toggleable__control:checked~label.sk-toggleable__label {background-color: #d4ebff;}#sk-container-id-3 input.sk-hidden--visually {border: 0;clip: rect(1px 1px 1px 1px);clip: rect(1px, 1px, 1px, 1px);height: 1px;margin: -1px;overflow: hidden;padding: 0;position: absolute;width: 1px;}#sk-container-id-3 div.sk-estimator {font-family: monospace;background-color: #f0f8ff;border: 1px dotted black;border-radius: 0.25em;box-sizing: border-box;margin-bottom: 0.5em;}#sk-container-id-3 div.sk-estimator:hover {background-color: #d4ebff;}#sk-container-id-3 div.sk-parallel-item::after {content: \"\";width: 100%;border-bottom: 1px solid gray;flex-grow: 1;}#sk-container-id-3 div.sk-label:hover label.sk-toggleable__label {background-color: #d4ebff;}#sk-container-id-3 div.sk-serial::before {content: \"\";position: absolute;border-left: 1px solid gray;box-sizing: border-box;top: 0;bottom: 0;left: 50%;z-index: 0;}#sk-container-id-3 div.sk-serial {display: flex;flex-direction: column;align-items: center;background-color: white;padding-right: 0.2em;padding-left: 0.2em;position: relative;}#sk-container-id-3 div.sk-item {position: relative;z-index: 1;}#sk-container-id-3 div.sk-parallel {display: flex;align-items: stretch;justify-content: center;background-color: white;position: relative;}#sk-container-id-3 div.sk-item::before, #sk-container-id-3 div.sk-parallel-item::before {content: \"\";position: absolute;border-left: 1px solid gray;box-sizing: border-box;top: 0;bottom: 0;left: 50%;z-index: -1;}#sk-container-id-3 div.sk-parallel-item {display: flex;flex-direction: column;z-index: 1;position: relative;background-color: white;}#sk-container-id-3 div.sk-parallel-item:first-child::after {align-self: flex-end;width: 50%;}#sk-container-id-3 div.sk-parallel-item:last-child::after {align-self: flex-start;width: 50%;}#sk-container-id-3 div.sk-parallel-item:only-child::after {width: 0;}#sk-container-id-3 div.sk-dashed-wrapped {border: 1px dashed gray;margin: 0 0.4em 0.5em 0.4em;box-sizing: border-box;padding-bottom: 0.4em;background-color: white;}#sk-container-id-3 div.sk-label label {font-family: monospace;font-weight: bold;display: inline-block;line-height: 1.2em;}#sk-container-id-3 div.sk-label-container {text-align: center;}#sk-container-id-3 div.sk-container {/* jupyter's `normalize.less` sets `[hidden] { display: none; }` but bootstrap.min.css set `[hidden] { display: none !important; }` so we also need the `!important` here to be able to override the default hidden behavior on the sphinx rendered scikit-learn.org. See: https://github.com/scikit-learn/scikit-learn/issues/21755 */display: inline-block !important;position: relative;}#sk-container-id-3 div.sk-text-repr-fallback {display: none;}</style><div id=\"sk-container-id-3\" class=\"sk-top-container\"><div class=\"sk-text-repr-fallback\"><pre>XGBClassifier(base_score=None, booster=None, callbacks=None,\n",
              "              colsample_bylevel=None, colsample_bynode=None,\n",
              "              colsample_bytree=None, device=None, early_stopping_rounds=None,\n",
              "              enable_categorical=False, eval_metric=&#x27;mlogloss&#x27;,\n",
              "              feature_types=None, gamma=None, grow_policy=None,\n",
              "              importance_type=None, interaction_constraints=None,\n",
              "              learning_rate=None, max_bin=None, max_cat_threshold=None,\n",
              "              max_cat_to_onehot=None, max_delta_step=None, max_depth=None,\n",
              "              max_leaves=None, min_child_weight=None, missing=nan,\n",
              "              monotone_constraints=None, multi_strategy=None, n_estimators=None,\n",
              "              n_jobs=None, num_parallel_tree=None, random_state=None, ...)</pre><b>In a Jupyter environment, please rerun this cell to show the HTML representation or trust the notebook. <br />On GitHub, the HTML representation is unable to render, please try loading this page with nbviewer.org.</b></div><div class=\"sk-container\" hidden><div class=\"sk-item\"><div class=\"sk-estimator sk-toggleable\"><input class=\"sk-toggleable__control sk-hidden--visually\" id=\"sk-estimator-id-3\" type=\"checkbox\" checked><label for=\"sk-estimator-id-3\" class=\"sk-toggleable__label sk-toggleable__label-arrow\">XGBClassifier</label><div class=\"sk-toggleable__content\"><pre>XGBClassifier(base_score=None, booster=None, callbacks=None,\n",
              "              colsample_bylevel=None, colsample_bynode=None,\n",
              "              colsample_bytree=None, device=None, early_stopping_rounds=None,\n",
              "              enable_categorical=False, eval_metric=&#x27;mlogloss&#x27;,\n",
              "              feature_types=None, gamma=None, grow_policy=None,\n",
              "              importance_type=None, interaction_constraints=None,\n",
              "              learning_rate=None, max_bin=None, max_cat_threshold=None,\n",
              "              max_cat_to_onehot=None, max_delta_step=None, max_depth=None,\n",
              "              max_leaves=None, min_child_weight=None, missing=nan,\n",
              "              monotone_constraints=None, multi_strategy=None, n_estimators=None,\n",
              "              n_jobs=None, num_parallel_tree=None, random_state=None, ...)</pre></div></div></div></div></div>"
            ],
            "text/plain": [
              "XGBClassifier(base_score=None, booster=None, callbacks=None,\n",
              "              colsample_bylevel=None, colsample_bynode=None,\n",
              "              colsample_bytree=None, device=None, early_stopping_rounds=None,\n",
              "              enable_categorical=False, eval_metric='mlogloss',\n",
              "              feature_types=None, gamma=None, grow_policy=None,\n",
              "              importance_type=None, interaction_constraints=None,\n",
              "              learning_rate=None, max_bin=None, max_cat_threshold=None,\n",
              "              max_cat_to_onehot=None, max_delta_step=None, max_depth=None,\n",
              "              max_leaves=None, min_child_weight=None, missing=nan,\n",
              "              monotone_constraints=None, multi_strategy=None, n_estimators=None,\n",
              "              n_jobs=None, num_parallel_tree=None, random_state=None, ...)"
            ]
          },
          "execution_count": 42,
          "metadata": {},
          "output_type": "execute_result"
        }
      ],
      "source": [
        "# Define and Train the XGBoost Model\n",
        "xgb_model = XGBClassifier(use_label_encoder=False, eval_metric='mlogloss')\n",
        "xgb_model.fit(X_train, y_train)"
      ]
    },
    {
      "cell_type": "code",
      "execution_count": 43,
      "metadata": {
        "colab": {
          "base_uri": "https://localhost:8080/"
        },
        "id": "XI3vaaA16kI4",
        "outputId": "a3b430b7-6a4b-49ff-d27f-7715eaced463"
      },
      "outputs": [
        {
          "name": "stdout",
          "output_type": "stream",
          "text": [
            "XGBoost Classification Report:\n",
            "              precision    recall  f1-score   support\n",
            "\n",
            "           0       0.92      0.97      0.94      1435\n",
            "           1       0.64      0.41      0.50       213\n",
            "\n",
            "    accuracy                           0.89      1648\n",
            "   macro avg       0.78      0.69      0.72      1648\n",
            "weighted avg       0.88      0.89      0.88      1648\n",
            "\n"
          ]
        }
      ],
      "source": [
        "# Evaluate XGBoost\n",
        "xgb_predictions = xgb_model.predict(X_test)\n",
        "print(\"XGBoost Classification Report:\")\n",
        "print(classification_report(y_test, xgb_predictions))"
      ]
    },
    {
      "cell_type": "markdown",
      "metadata": {
        "id": "XJ57e3GKpH8i"
      },
      "source": [
        "Output di atas menunjukkan laporan klasifikasi (classification report) untuk model XGBoost by default. Laporan ini memberikan evaluasi kinerja model berdasarkan beberapa metrik, sebagai berikut:\n",
        "\n",
        "- Precision: Precision mengukur tingkat keakuratan dari hasil prediksi positif. Dalam konteks ini, precision untuk kelas 0 atau \"no\" (tidak berlangganan) adalah 0.92, yang berarti 92% dari prediksi yang diklasifikasikan sebagai tidak berlangganan benar-benar tidak berlangganan, sedangkan precision untuk kelas 1 atau \"yes\" (berlangganan) adalah 0.64, yang berarti 64% dari prediksi yang diklasifikasikan sebagai berlangganan benar-benar berlangganan.\n",
        "\n",
        "- Recall: Recall mengukur seberapa baik model dapat mengidentifikasi semua kasus yang sebenarnya positif. Recall untuk kelas 0 atau \"no\" adalah 0.97, yang berarti 97% dari semua kasus yang sebenarnya tidak berlangganan berhasil diidentifikasi oleh model, sedangkan recall untuk kelas 1 atau \"yes\" adalah 0.41, yang berarti hanya 41% dari semua kasus yang sebenarnya berlangganan berhasil diidentifikasi oleh model.\n",
        "\n",
        "- F1-score: F1-score adalah rata-rata harmonis dari precision dan recall. F1-score memberikan keseimbangan antara precision dan recall. F1-score untuk kelas 0 atau \"no\" adalah 0.94 dan untuk kelas 1 atau \"yes\" adalah 0.50.\n",
        "\n",
        "- Support: Support adalah jumlah kemunculan setiap kelas dalam data uji. Dalam konteks ini, jumlah support untuk kelas 0 atau \"no\" adalah 1435 dan untuk kelas 1 atau \"yes\" adalah 213.\n",
        "\n",
        "- Accuracy: Akurasi adalah proporsi prediksi yang benar secara keseluruhan. Akurasi model ini adalah 0.89 atau 89%.\n",
        "\n",
        "- Macro Average dan Weighted Average: Macro average adalah rata-rata sederhana dari metrik evaluasi (precision, recall, f1-score) untuk setiap kelas. Weighted average adalah rata-rata di mana setiap metrik diberi bobot berdasarkan support untuk setiap kelas. Dalam laporan ini, macro average memberikan nilai precision 0.78, recall 0.69, dan f1-score 0.72. Sedangkan weighted average memberikan nilai precision 0.88, recall 0.89, dan f1-score 0.88."
      ]
    },
    {
      "cell_type": "markdown",
      "metadata": {
        "id": "i9RlIjFl6qEP"
      },
      "source": [
        "**Tuning**"
      ]
    },
    {
      "cell_type": "code",
      "execution_count": 44,
      "metadata": {
        "colab": {
          "base_uri": "https://localhost:8080/",
          "height": 266
        },
        "id": "gEqou_r66kM_",
        "outputId": "e06c140d-4938-4c3a-8fac-9b4d002c5fa2"
      },
      "outputs": [
        {
          "name": "stdout",
          "output_type": "stream",
          "text": [
            "Best parameters found:  {'colsample_bytree': 1.0, 'gamma': 0.1, 'learning_rate': 0.1, 'max_depth': 5, 'n_estimators': 100, 'subsample': 1.0}\n"
          ]
        },
        {
          "data": {
            "text/html": [
              "<style>#sk-container-id-4 {color: black;background-color: white;}#sk-container-id-4 pre{padding: 0;}#sk-container-id-4 div.sk-toggleable {background-color: white;}#sk-container-id-4 label.sk-toggleable__label {cursor: pointer;display: block;width: 100%;margin-bottom: 0;padding: 0.3em;box-sizing: border-box;text-align: center;}#sk-container-id-4 label.sk-toggleable__label-arrow:before {content: \"▸\";float: left;margin-right: 0.25em;color: #696969;}#sk-container-id-4 label.sk-toggleable__label-arrow:hover:before {color: black;}#sk-container-id-4 div.sk-estimator:hover label.sk-toggleable__label-arrow:before {color: black;}#sk-container-id-4 div.sk-toggleable__content {max-height: 0;max-width: 0;overflow: hidden;text-align: left;background-color: #f0f8ff;}#sk-container-id-4 div.sk-toggleable__content pre {margin: 0.2em;color: black;border-radius: 0.25em;background-color: #f0f8ff;}#sk-container-id-4 input.sk-toggleable__control:checked~div.sk-toggleable__content {max-height: 200px;max-width: 100%;overflow: auto;}#sk-container-id-4 input.sk-toggleable__control:checked~label.sk-toggleable__label-arrow:before {content: \"▾\";}#sk-container-id-4 div.sk-estimator input.sk-toggleable__control:checked~label.sk-toggleable__label {background-color: #d4ebff;}#sk-container-id-4 div.sk-label input.sk-toggleable__control:checked~label.sk-toggleable__label {background-color: #d4ebff;}#sk-container-id-4 input.sk-hidden--visually {border: 0;clip: rect(1px 1px 1px 1px);clip: rect(1px, 1px, 1px, 1px);height: 1px;margin: -1px;overflow: hidden;padding: 0;position: absolute;width: 1px;}#sk-container-id-4 div.sk-estimator {font-family: monospace;background-color: #f0f8ff;border: 1px dotted black;border-radius: 0.25em;box-sizing: border-box;margin-bottom: 0.5em;}#sk-container-id-4 div.sk-estimator:hover {background-color: #d4ebff;}#sk-container-id-4 div.sk-parallel-item::after {content: \"\";width: 100%;border-bottom: 1px solid gray;flex-grow: 1;}#sk-container-id-4 div.sk-label:hover label.sk-toggleable__label {background-color: #d4ebff;}#sk-container-id-4 div.sk-serial::before {content: \"\";position: absolute;border-left: 1px solid gray;box-sizing: border-box;top: 0;bottom: 0;left: 50%;z-index: 0;}#sk-container-id-4 div.sk-serial {display: flex;flex-direction: column;align-items: center;background-color: white;padding-right: 0.2em;padding-left: 0.2em;position: relative;}#sk-container-id-4 div.sk-item {position: relative;z-index: 1;}#sk-container-id-4 div.sk-parallel {display: flex;align-items: stretch;justify-content: center;background-color: white;position: relative;}#sk-container-id-4 div.sk-item::before, #sk-container-id-4 div.sk-parallel-item::before {content: \"\";position: absolute;border-left: 1px solid gray;box-sizing: border-box;top: 0;bottom: 0;left: 50%;z-index: -1;}#sk-container-id-4 div.sk-parallel-item {display: flex;flex-direction: column;z-index: 1;position: relative;background-color: white;}#sk-container-id-4 div.sk-parallel-item:first-child::after {align-self: flex-end;width: 50%;}#sk-container-id-4 div.sk-parallel-item:last-child::after {align-self: flex-start;width: 50%;}#sk-container-id-4 div.sk-parallel-item:only-child::after {width: 0;}#sk-container-id-4 div.sk-dashed-wrapped {border: 1px dashed gray;margin: 0 0.4em 0.5em 0.4em;box-sizing: border-box;padding-bottom: 0.4em;background-color: white;}#sk-container-id-4 div.sk-label label {font-family: monospace;font-weight: bold;display: inline-block;line-height: 1.2em;}#sk-container-id-4 div.sk-label-container {text-align: center;}#sk-container-id-4 div.sk-container {/* jupyter's `normalize.less` sets `[hidden] { display: none; }` but bootstrap.min.css set `[hidden] { display: none !important; }` so we also need the `!important` here to be able to override the default hidden behavior on the sphinx rendered scikit-learn.org. See: https://github.com/scikit-learn/scikit-learn/issues/21755 */display: inline-block !important;position: relative;}#sk-container-id-4 div.sk-text-repr-fallback {display: none;}</style><div id=\"sk-container-id-4\" class=\"sk-top-container\"><div class=\"sk-text-repr-fallback\"><pre>XGBClassifier(base_score=None, booster=None, callbacks=None,\n",
              "              colsample_bylevel=None, colsample_bynode=None,\n",
              "              colsample_bytree=1.0, device=None, early_stopping_rounds=None,\n",
              "              enable_categorical=False, eval_metric=&#x27;mlogloss&#x27;,\n",
              "              feature_types=None, gamma=0.1, grow_policy=None,\n",
              "              importance_type=None, interaction_constraints=None,\n",
              "              learning_rate=0.1, max_bin=None, max_cat_threshold=None,\n",
              "              max_cat_to_onehot=None, max_delta_step=None, max_depth=5,\n",
              "              max_leaves=None, min_child_weight=None, missing=nan,\n",
              "              monotone_constraints=None, multi_strategy=None, n_estimators=100,\n",
              "              n_jobs=None, num_parallel_tree=None, random_state=None, ...)</pre><b>In a Jupyter environment, please rerun this cell to show the HTML representation or trust the notebook. <br />On GitHub, the HTML representation is unable to render, please try loading this page with nbviewer.org.</b></div><div class=\"sk-container\" hidden><div class=\"sk-item\"><div class=\"sk-estimator sk-toggleable\"><input class=\"sk-toggleable__control sk-hidden--visually\" id=\"sk-estimator-id-4\" type=\"checkbox\" checked><label for=\"sk-estimator-id-4\" class=\"sk-toggleable__label sk-toggleable__label-arrow\">XGBClassifier</label><div class=\"sk-toggleable__content\"><pre>XGBClassifier(base_score=None, booster=None, callbacks=None,\n",
              "              colsample_bylevel=None, colsample_bynode=None,\n",
              "              colsample_bytree=1.0, device=None, early_stopping_rounds=None,\n",
              "              enable_categorical=False, eval_metric=&#x27;mlogloss&#x27;,\n",
              "              feature_types=None, gamma=0.1, grow_policy=None,\n",
              "              importance_type=None, interaction_constraints=None,\n",
              "              learning_rate=0.1, max_bin=None, max_cat_threshold=None,\n",
              "              max_cat_to_onehot=None, max_delta_step=None, max_depth=5,\n",
              "              max_leaves=None, min_child_weight=None, missing=nan,\n",
              "              monotone_constraints=None, multi_strategy=None, n_estimators=100,\n",
              "              n_jobs=None, num_parallel_tree=None, random_state=None, ...)</pre></div></div></div></div></div>"
            ],
            "text/plain": [
              "XGBClassifier(base_score=None, booster=None, callbacks=None,\n",
              "              colsample_bylevel=None, colsample_bynode=None,\n",
              "              colsample_bytree=1.0, device=None, early_stopping_rounds=None,\n",
              "              enable_categorical=False, eval_metric='mlogloss',\n",
              "              feature_types=None, gamma=0.1, grow_policy=None,\n",
              "              importance_type=None, interaction_constraints=None,\n",
              "              learning_rate=0.1, max_bin=None, max_cat_threshold=None,\n",
              "              max_cat_to_onehot=None, max_delta_step=None, max_depth=5,\n",
              "              max_leaves=None, min_child_weight=None, missing=nan,\n",
              "              monotone_constraints=None, multi_strategy=None, n_estimators=100,\n",
              "              n_jobs=None, num_parallel_tree=None, random_state=None, ...)"
            ]
          },
          "execution_count": 44,
          "metadata": {},
          "output_type": "execute_result"
        }
      ],
      "source": [
        "# Define parameter grid for GridSearchCV\n",
        "param_grid = {\n",
        "    'n_estimators': [50, 100, 150],\n",
        "    'max_depth': [3, 5, 7],\n",
        "    'learning_rate': [0.01, 0.1, 0.2],\n",
        "    'gamma': [0, 0.1, 0.2],\n",
        "    'subsample': [0.8, 1.0],\n",
        "    'colsample_bytree': [0.8, 1.0]\n",
        "}\n",
        "\n",
        "# Initialize XGBoost model with some initial parameters\n",
        "xgb_model = XGBClassifier(use_label_encoder=False, eval_metric='mlogloss')\n",
        "\n",
        "# Initialize GridSearchCV\n",
        "grid_search = GridSearchCV(estimator=xgb_model, param_grid=param_grid, cv=5, scoring='accuracy', n_jobs=-1)\n",
        "\n",
        "# Fit GridSearchCV with the training data\n",
        "grid_search.fit(X_train, y_train)\n",
        "\n",
        "# Find the best hyperparameter combination\n",
        "best_params = grid_search.best_params_\n",
        "print(\"Best parameters found: \", best_params)\n",
        "\n",
        "# Get the best model from the grid search\n",
        "best_xgb_model = grid_search.best_estimator_\n",
        "\n",
        "# Retrain the model with the entire training data using the best parameters\n",
        "best_xgb_model.fit(X_train, y_train)"
      ]
    },
    {
      "cell_type": "code",
      "execution_count": 45,
      "metadata": {
        "colab": {
          "base_uri": "https://localhost:8080/"
        },
        "id": "dgCbZfS_6kQ5",
        "outputId": "df7f1a22-4af7-4f37-9327-585c9425691c"
      },
      "outputs": [
        {
          "name": "stdout",
          "output_type": "stream",
          "text": [
            "XGBoost Tuned Classification Report:\n",
            "              precision    recall  f1-score   support\n",
            "\n",
            "           0       0.91      0.97      0.94      1435\n",
            "           1       0.68      0.38      0.49       213\n",
            "\n",
            "    accuracy                           0.90      1648\n",
            "   macro avg       0.80      0.68      0.72      1648\n",
            "weighted avg       0.88      0.90      0.88      1648\n",
            "\n"
          ]
        }
      ],
      "source": [
        "# Predict classes for the test data using the best model\n",
        "y_pred = best_xgb_model.predict(X_test)\n",
        "\n",
        "# Print classification report\n",
        "print(\"XGBoost Tuned Classification Report:\")\n",
        "print(classification_report(y_test, y_pred))"
      ]
    },
    {
      "cell_type": "markdown",
      "metadata": {
        "id": "9RDCJLMarosC"
      },
      "source": [
        "Output di atas menunjukkan laporan klasifikasi (classification report) untuk model XGBoost yang telah dituning (disesuaikan parameter-parameternya dengan GridSearchCV). Laporan ini memberikan evaluasi kinerja model berdasarkan beberapa metrik, sebagai berikut:\n",
        "\n",
        "- Precision: Precision mengukur tingkat keakuratan dari hasil prediksi positif. Dalam konteks ini, precision untuk kelas 0 atau \"no\" (tidak berlangganan) adalah 0.92, yang berarti 92% dari prediksi yang diklasifikasikan sebagai tidak berlangganan benar-benar tidak berlangganan. Sedangkan precision untuk kelas 1 atau \"yes\" (berlangganan) adalah 0.68, yang berarti 68% dari prediksi yang diklasifikasikan sebagai berlangganan benar-benar berlangganan.\n",
        "\n",
        "- Recall: Recall mengukur seberapa baik model dapat mengidentifikasi semua kasus yang sebenarnya positif. Recall untuk kelas 0 atau \"no\" adalah 0.97, yang berarti 97% dari semua kasus yang sebenarnya tidak berlangganan berhasil diidentifikasi oleh model. Sedangkan recall untuk kelas 1 atau \"yes\" adalah 0.39, yang berarti hanya 39% dari semua kasus yang sebenarnya berlangganan berhasil diidentifikasi oleh model.\n",
        "\n",
        "- F1-score: F1-score adalah rata-rata harmonis dari precision dan recall. F1-score memberikan keseimbangan antara precision dan recall. F1-score untuk kelas 0 atau \"no\" adalah 0.94 dan untuk kelas 1 atau \"yes\" adalah 0.50.\n",
        "\n",
        "- Support: Support adalah jumlah kemunculan setiap kelas dalam data uji. Dalam konteks ini, jumlah support untuk kelas 0 atau \"no\" adalah 1435 dan untuk kelas 1 atau \"yes\" adalah 213.\n",
        "\n",
        "- Accuracy: Akurasi adalah proporsi prediksi yang benar secara keseluruhan. Akurasi model ini adalah 0.89 atau 89%.\n",
        "\n",
        "- Macro Average dan Weighted Average:\n",
        " - Macro Average adalah rata-rata sederhana dari metrik evaluasi (precision, recall, f1-score) untuk setiap kelas. Dalam laporan ini, macro average memberikan nilai precision 0.80, recall 0.68, dan f1-score 0.72.\n",
        " - Weighted Average adalah rata-rata di mana setiap metrik diberi bobot berdasarkan support untuk setiap kelas. Dalam laporan ini, weighted average memberikan nilai precision 0.88, recall 0.89, dan f1-score 0.88."
      ]
    },
    {
      "cell_type": "markdown",
      "metadata": {
        "id": "cWNnOZIk6uyG"
      },
      "source": [
        "## **Gradient Boosting**"
      ]
    },
    {
      "cell_type": "markdown",
      "metadata": {
        "id": "1bkMXeW060s6"
      },
      "source": [
        "**By Default**"
      ]
    },
    {
      "cell_type": "code",
      "execution_count": 46,
      "metadata": {
        "colab": {
          "base_uri": "https://localhost:8080/",
          "height": 75
        },
        "id": "Q8jwXWtX6z2Y",
        "outputId": "b82f4bf9-2588-42af-d00e-f0e809a53077"
      },
      "outputs": [
        {
          "data": {
            "text/html": [
              "<style>#sk-container-id-5 {color: black;background-color: white;}#sk-container-id-5 pre{padding: 0;}#sk-container-id-5 div.sk-toggleable {background-color: white;}#sk-container-id-5 label.sk-toggleable__label {cursor: pointer;display: block;width: 100%;margin-bottom: 0;padding: 0.3em;box-sizing: border-box;text-align: center;}#sk-container-id-5 label.sk-toggleable__label-arrow:before {content: \"▸\";float: left;margin-right: 0.25em;color: #696969;}#sk-container-id-5 label.sk-toggleable__label-arrow:hover:before {color: black;}#sk-container-id-5 div.sk-estimator:hover label.sk-toggleable__label-arrow:before {color: black;}#sk-container-id-5 div.sk-toggleable__content {max-height: 0;max-width: 0;overflow: hidden;text-align: left;background-color: #f0f8ff;}#sk-container-id-5 div.sk-toggleable__content pre {margin: 0.2em;color: black;border-radius: 0.25em;background-color: #f0f8ff;}#sk-container-id-5 input.sk-toggleable__control:checked~div.sk-toggleable__content {max-height: 200px;max-width: 100%;overflow: auto;}#sk-container-id-5 input.sk-toggleable__control:checked~label.sk-toggleable__label-arrow:before {content: \"▾\";}#sk-container-id-5 div.sk-estimator input.sk-toggleable__control:checked~label.sk-toggleable__label {background-color: #d4ebff;}#sk-container-id-5 div.sk-label input.sk-toggleable__control:checked~label.sk-toggleable__label {background-color: #d4ebff;}#sk-container-id-5 input.sk-hidden--visually {border: 0;clip: rect(1px 1px 1px 1px);clip: rect(1px, 1px, 1px, 1px);height: 1px;margin: -1px;overflow: hidden;padding: 0;position: absolute;width: 1px;}#sk-container-id-5 div.sk-estimator {font-family: monospace;background-color: #f0f8ff;border: 1px dotted black;border-radius: 0.25em;box-sizing: border-box;margin-bottom: 0.5em;}#sk-container-id-5 div.sk-estimator:hover {background-color: #d4ebff;}#sk-container-id-5 div.sk-parallel-item::after {content: \"\";width: 100%;border-bottom: 1px solid gray;flex-grow: 1;}#sk-container-id-5 div.sk-label:hover label.sk-toggleable__label {background-color: #d4ebff;}#sk-container-id-5 div.sk-serial::before {content: \"\";position: absolute;border-left: 1px solid gray;box-sizing: border-box;top: 0;bottom: 0;left: 50%;z-index: 0;}#sk-container-id-5 div.sk-serial {display: flex;flex-direction: column;align-items: center;background-color: white;padding-right: 0.2em;padding-left: 0.2em;position: relative;}#sk-container-id-5 div.sk-item {position: relative;z-index: 1;}#sk-container-id-5 div.sk-parallel {display: flex;align-items: stretch;justify-content: center;background-color: white;position: relative;}#sk-container-id-5 div.sk-item::before, #sk-container-id-5 div.sk-parallel-item::before {content: \"\";position: absolute;border-left: 1px solid gray;box-sizing: border-box;top: 0;bottom: 0;left: 50%;z-index: -1;}#sk-container-id-5 div.sk-parallel-item {display: flex;flex-direction: column;z-index: 1;position: relative;background-color: white;}#sk-container-id-5 div.sk-parallel-item:first-child::after {align-self: flex-end;width: 50%;}#sk-container-id-5 div.sk-parallel-item:last-child::after {align-self: flex-start;width: 50%;}#sk-container-id-5 div.sk-parallel-item:only-child::after {width: 0;}#sk-container-id-5 div.sk-dashed-wrapped {border: 1px dashed gray;margin: 0 0.4em 0.5em 0.4em;box-sizing: border-box;padding-bottom: 0.4em;background-color: white;}#sk-container-id-5 div.sk-label label {font-family: monospace;font-weight: bold;display: inline-block;line-height: 1.2em;}#sk-container-id-5 div.sk-label-container {text-align: center;}#sk-container-id-5 div.sk-container {/* jupyter's `normalize.less` sets `[hidden] { display: none; }` but bootstrap.min.css set `[hidden] { display: none !important; }` so we also need the `!important` here to be able to override the default hidden behavior on the sphinx rendered scikit-learn.org. See: https://github.com/scikit-learn/scikit-learn/issues/21755 */display: inline-block !important;position: relative;}#sk-container-id-5 div.sk-text-repr-fallback {display: none;}</style><div id=\"sk-container-id-5\" class=\"sk-top-container\"><div class=\"sk-text-repr-fallback\"><pre>GradientBoostingClassifier(random_state=42)</pre><b>In a Jupyter environment, please rerun this cell to show the HTML representation or trust the notebook. <br />On GitHub, the HTML representation is unable to render, please try loading this page with nbviewer.org.</b></div><div class=\"sk-container\" hidden><div class=\"sk-item\"><div class=\"sk-estimator sk-toggleable\"><input class=\"sk-toggleable__control sk-hidden--visually\" id=\"sk-estimator-id-5\" type=\"checkbox\" checked><label for=\"sk-estimator-id-5\" class=\"sk-toggleable__label sk-toggleable__label-arrow\">GradientBoostingClassifier</label><div class=\"sk-toggleable__content\"><pre>GradientBoostingClassifier(random_state=42)</pre></div></div></div></div></div>"
            ],
            "text/plain": [
              "GradientBoostingClassifier(random_state=42)"
            ]
          },
          "execution_count": 46,
          "metadata": {},
          "output_type": "execute_result"
        }
      ],
      "source": [
        "# Define and Train the Gradient Boosting Model\n",
        "gb_model = GradientBoostingClassifier(random_state=42)\n",
        "gb_model.fit(X_train, y_train)"
      ]
    },
    {
      "cell_type": "code",
      "execution_count": 47,
      "metadata": {
        "colab": {
          "base_uri": "https://localhost:8080/"
        },
        "id": "1W7N0jIY637C",
        "outputId": "995eef4b-a1b1-485b-bb92-c94f850b9223"
      },
      "outputs": [
        {
          "name": "stdout",
          "output_type": "stream",
          "text": [
            "Gradient Boosting Classification Report:\n",
            "              precision    recall  f1-score   support\n",
            "\n",
            "           0       0.91      0.97      0.94      1435\n",
            "           1       0.68      0.39      0.50       213\n",
            "\n",
            "    accuracy                           0.90      1648\n",
            "   macro avg       0.80      0.68      0.72      1648\n",
            "weighted avg       0.88      0.90      0.89      1648\n",
            "\n"
          ]
        }
      ],
      "source": [
        "# Evaluate Gradient Boosting\n",
        "gb_predictions = gb_model.predict(X_test)\n",
        "print(\"Gradient Boosting Classification Report:\")\n",
        "print(classification_report(y_test, gb_predictions))"
      ]
    },
    {
      "cell_type": "markdown",
      "metadata": {
        "id": "waAnYoUlpnFL"
      },
      "source": [
        "Output di atas menunjukkan laporan klasifikasi (classification report) untuk model Gradient Boosting by default. Laporan ini memberikan evaluasi kinerja model berdasarkan beberapa metrik, sebagai berikut:\n",
        "\n",
        "- Precision: Precision mengukur tingkat keakuratan dari hasil prediksi positif. Dalam konteks ini, precision untuk kelas 0 atau \"no\" (tidak berlangganan) adalah 0.91, yang berarti 91% dari prediksi yang diklasifikasikan sebagai tidak berlangganan benar-benar tidak berlangganan, sedangkan precision untuk kelas 1 atau \"yes\" (berlangganan) adalah 0.68, yang berarti 68% dari prediksi yang diklasifikasikan sebagai berlangganan benar-benar berlangganan.\n",
        "\n",
        "- Recall: Recall mengukur seberapa baik model dapat mengidentifikasi semua kasus yang sebenarnya positif. Recall untuk kelas 0 atau \"no\" adalah 0.97, yang berarti 97% dari semua kasus yang sebenarnya tidak berlangganan berhasil diidentifikasi oleh model, sedangkan recall untuk kelas 1 atau \"yes\" adalah 0.39, yang berarti hanya 39% dari semua kasus yang sebenarnya berlangganan berhasil diidentifikasi oleh model.\n",
        "\n",
        "- F1-score: F1-score adalah rata-rata harmonis dari precision dan recall. F1-score memberikan keseimbangan antara precision dan recall. F1-score untuk kelas 0 atau \"no\" adalah 0.94 dan untuk kelas 1 atau \"yes\" adalah 0.50.\n",
        "\n",
        "- Support: Support adalah jumlah kemunculan setiap kelas dalam data uji. Dalam konteks ini, jumlah support untuk kelas 0 atau \"no\" adalah 1435 dan untuk kelas 1 atau \"yes\" adalah 213.\n",
        "\n",
        "- Accuracy: Akurasi adalah proporsi prediksi yang benar secara keseluruhan. Akurasi model ini adalah 0.90 atau 90%.\n",
        "\n",
        "- Macro Average dan Weighted Average: Macro average adalah rata-rata sederhana dari metrik evaluasi (precision, recall, f1-score) untuk setiap kelas. Weighted average adalah rata-rata di mana setiap metrik diberi bobot berdasarkan support untuk setiap kelas. Dalam laporan ini, macro average memberikan nilai precision 0.80, recall 0.68, dan f1-score 0.72. Sedangkan weighted average memberikan nilai precision 0.88, recall 0.90, dan f1-score 0.89."
      ]
    },
    {
      "cell_type": "markdown",
      "metadata": {
        "id": "C50KUmWi64FD"
      },
      "source": [
        "**Tuning**"
      ]
    },
    {
      "cell_type": "code",
      "execution_count": 48,
      "metadata": {
        "colab": {
          "base_uri": "https://localhost:8080/",
          "height": 127
        },
        "id": "P1DHILXr89ji",
        "outputId": "1c4516e2-e814-499b-c48a-d96bd803d847"
      },
      "outputs": [
        {
          "name": "stdout",
          "output_type": "stream",
          "text": [
            "Fitting 3 folds for each of 108 candidates, totalling 324 fits\n",
            "Best parameters found:  {'learning_rate': 0.1, 'max_depth': 3, 'min_samples_leaf': 1, 'min_samples_split': 4, 'n_estimators': 50}\n"
          ]
        },
        {
          "data": {
            "text/html": [
              "<style>#sk-container-id-6 {color: black;background-color: white;}#sk-container-id-6 pre{padding: 0;}#sk-container-id-6 div.sk-toggleable {background-color: white;}#sk-container-id-6 label.sk-toggleable__label {cursor: pointer;display: block;width: 100%;margin-bottom: 0;padding: 0.3em;box-sizing: border-box;text-align: center;}#sk-container-id-6 label.sk-toggleable__label-arrow:before {content: \"▸\";float: left;margin-right: 0.25em;color: #696969;}#sk-container-id-6 label.sk-toggleable__label-arrow:hover:before {color: black;}#sk-container-id-6 div.sk-estimator:hover label.sk-toggleable__label-arrow:before {color: black;}#sk-container-id-6 div.sk-toggleable__content {max-height: 0;max-width: 0;overflow: hidden;text-align: left;background-color: #f0f8ff;}#sk-container-id-6 div.sk-toggleable__content pre {margin: 0.2em;color: black;border-radius: 0.25em;background-color: #f0f8ff;}#sk-container-id-6 input.sk-toggleable__control:checked~div.sk-toggleable__content {max-height: 200px;max-width: 100%;overflow: auto;}#sk-container-id-6 input.sk-toggleable__control:checked~label.sk-toggleable__label-arrow:before {content: \"▾\";}#sk-container-id-6 div.sk-estimator input.sk-toggleable__control:checked~label.sk-toggleable__label {background-color: #d4ebff;}#sk-container-id-6 div.sk-label input.sk-toggleable__control:checked~label.sk-toggleable__label {background-color: #d4ebff;}#sk-container-id-6 input.sk-hidden--visually {border: 0;clip: rect(1px 1px 1px 1px);clip: rect(1px, 1px, 1px, 1px);height: 1px;margin: -1px;overflow: hidden;padding: 0;position: absolute;width: 1px;}#sk-container-id-6 div.sk-estimator {font-family: monospace;background-color: #f0f8ff;border: 1px dotted black;border-radius: 0.25em;box-sizing: border-box;margin-bottom: 0.5em;}#sk-container-id-6 div.sk-estimator:hover {background-color: #d4ebff;}#sk-container-id-6 div.sk-parallel-item::after {content: \"\";width: 100%;border-bottom: 1px solid gray;flex-grow: 1;}#sk-container-id-6 div.sk-label:hover label.sk-toggleable__label {background-color: #d4ebff;}#sk-container-id-6 div.sk-serial::before {content: \"\";position: absolute;border-left: 1px solid gray;box-sizing: border-box;top: 0;bottom: 0;left: 50%;z-index: 0;}#sk-container-id-6 div.sk-serial {display: flex;flex-direction: column;align-items: center;background-color: white;padding-right: 0.2em;padding-left: 0.2em;position: relative;}#sk-container-id-6 div.sk-item {position: relative;z-index: 1;}#sk-container-id-6 div.sk-parallel {display: flex;align-items: stretch;justify-content: center;background-color: white;position: relative;}#sk-container-id-6 div.sk-item::before, #sk-container-id-6 div.sk-parallel-item::before {content: \"\";position: absolute;border-left: 1px solid gray;box-sizing: border-box;top: 0;bottom: 0;left: 50%;z-index: -1;}#sk-container-id-6 div.sk-parallel-item {display: flex;flex-direction: column;z-index: 1;position: relative;background-color: white;}#sk-container-id-6 div.sk-parallel-item:first-child::after {align-self: flex-end;width: 50%;}#sk-container-id-6 div.sk-parallel-item:last-child::after {align-self: flex-start;width: 50%;}#sk-container-id-6 div.sk-parallel-item:only-child::after {width: 0;}#sk-container-id-6 div.sk-dashed-wrapped {border: 1px dashed gray;margin: 0 0.4em 0.5em 0.4em;box-sizing: border-box;padding-bottom: 0.4em;background-color: white;}#sk-container-id-6 div.sk-label label {font-family: monospace;font-weight: bold;display: inline-block;line-height: 1.2em;}#sk-container-id-6 div.sk-label-container {text-align: center;}#sk-container-id-6 div.sk-container {/* jupyter's `normalize.less` sets `[hidden] { display: none; }` but bootstrap.min.css set `[hidden] { display: none !important; }` so we also need the `!important` here to be able to override the default hidden behavior on the sphinx rendered scikit-learn.org. See: https://github.com/scikit-learn/scikit-learn/issues/21755 */display: inline-block !important;position: relative;}#sk-container-id-6 div.sk-text-repr-fallback {display: none;}</style><div id=\"sk-container-id-6\" class=\"sk-top-container\"><div class=\"sk-text-repr-fallback\"><pre>GradientBoostingClassifier(min_samples_split=4, n_estimators=50,\n",
              "                           random_state=42)</pre><b>In a Jupyter environment, please rerun this cell to show the HTML representation or trust the notebook. <br />On GitHub, the HTML representation is unable to render, please try loading this page with nbviewer.org.</b></div><div class=\"sk-container\" hidden><div class=\"sk-item\"><div class=\"sk-estimator sk-toggleable\"><input class=\"sk-toggleable__control sk-hidden--visually\" id=\"sk-estimator-id-6\" type=\"checkbox\" checked><label for=\"sk-estimator-id-6\" class=\"sk-toggleable__label sk-toggleable__label-arrow\">GradientBoostingClassifier</label><div class=\"sk-toggleable__content\"><pre>GradientBoostingClassifier(min_samples_split=4, n_estimators=50,\n",
              "                           random_state=42)</pre></div></div></div></div></div>"
            ],
            "text/plain": [
              "GradientBoostingClassifier(min_samples_split=4, n_estimators=50,\n",
              "                           random_state=42)"
            ]
          },
          "execution_count": 48,
          "metadata": {},
          "output_type": "execute_result"
        }
      ],
      "source": [
        "# Define parameter grid for GridSearchCV\n",
        "param_grid = {\n",
        "    'n_estimators': [50, 100, 200],\n",
        "    'learning_rate': [0.01, 0.1, 0.2],\n",
        "    'max_depth': [3, 5, 7],\n",
        "    'min_samples_split': [2, 4],\n",
        "    'min_samples_leaf': [1, 2]\n",
        "}\n",
        "\n",
        "# Initialize Gradient Boosting model with random_state for reproducibility\n",
        "gb_model = GradientBoostingClassifier(random_state=42)\n",
        "\n",
        "# Initialize GridSearchCV\n",
        "grid_search = GridSearchCV(estimator=gb_model, param_grid=param_grid, cv=3, n_jobs=-1, scoring='accuracy', verbose=2)\n",
        "\n",
        "# Retrain the model with the entire training data using the best parameters\n",
        "# This is not always necessary, as GridSearchCV already trains the best model on the entire training data\n",
        "grid_search.fit(X_train, y_train)\n",
        "\n",
        "# Find the best hyperparameter combination\n",
        "best_params = grid_search.best_params_\n",
        "print(\"Best parameters found: \", best_params)\n",
        "\n",
        "# Get the best model from the grid search\n",
        "best_gb_model = grid_search.best_estimator_\n",
        "\n",
        "# Retrain the model with the entire training data using the best parameters\n",
        "best_gb_model.fit(X_train, y_train)"
      ]
    },
    {
      "cell_type": "code",
      "execution_count": 49,
      "metadata": {
        "colab": {
          "base_uri": "https://localhost:8080/"
        },
        "id": "3IXKwXc59ACN",
        "outputId": "87791a9b-4cb8-4c2c-dff4-dae6de33733c"
      },
      "outputs": [
        {
          "name": "stdout",
          "output_type": "stream",
          "text": [
            "Gradient Boosting Classification Report:\n",
            "              precision    recall  f1-score   support\n",
            "\n",
            "           0       0.91      0.97      0.94      1435\n",
            "           1       0.68      0.38      0.48       213\n",
            "\n",
            "    accuracy                           0.90      1648\n",
            "   macro avg       0.80      0.67      0.71      1648\n",
            "weighted avg       0.88      0.90      0.88      1648\n",
            "\n"
          ]
        }
      ],
      "source": [
        "# Predict classes for the test data using the best model\n",
        "gb_predictions = best_gb_model.predict(X_test)\n",
        "\n",
        "# Print classification report\n",
        "print(\"Gradient Boosting Classification Report:\")\n",
        "print(classification_report(y_test, gb_predictions))"
      ]
    },
    {
      "cell_type": "markdown",
      "metadata": {
        "id": "LzCTu1OGr-8k"
      },
      "source": [
        "Output di atas menunjukkan laporan klasifikasi (classification report) untuk model Gradient Boosting yang telah dituning (disesuaikan parameter-parameternya dengan GridSearchCV). Laporan ini memberikan evaluasi kinerja model berdasarkan beberapa metrik, sebagai berikut:\n",
        "\n",
        "- Precision: Precision mengukur tingkat keakuratan dari hasil prediksi positif. Dalam konteks ini, precision untuk kelas 0 atau \"no\" (tidak berlangganan) adalah 0.91, yang berarti 91% dari prediksi yang diklasifikasikan sebagai tidak berlangganan benar-benar tidak berlangganan. Sedangkan precision untuk kelas 1 atau \"yes\" (berlangganan) adalah 0.68, yang berarti 68% dari prediksi yang diklasifikasikan sebagai berlangganan benar-benar berlangganan.\n",
        "\n",
        "- Recall: Recall mengukur seberapa baik model dapat mengidentifikasi semua kasus yang sebenarnya positif. Recall untuk kelas 0 atau \"no\" adalah 0.97, yang berarti 97% dari semua kasus yang sebenarnya tidak berlangganan berhasil diidentifikasi oleh model. Sedangkan recall untuk kelas 1 atau \"yes\" adalah 0.38, yang berarti hanya 38% dari semua kasus yang sebenarnya berlangganan berhasil diidentifikasi oleh model.\n",
        "\n",
        "- F1-score: F1-score adalah rata-rata harmonis dari precision dan recall. F1-score memberikan keseimbangan antara precision dan recall. F1-score untuk kelas 0 atau \"no\" adalah 0.94 dan untuk kelas 1 atau \"yes\" adalah 0.49.\n",
        "\n",
        "- Support: Support adalah jumlah kemunculan setiap kelas dalam data uji. Dalam konteks ini, jumlah support untuk kelas 0 atau \"no\" adalah 1435 dan untuk kelas 1 atau \"yes\" adalah 213.\n",
        "\n",
        "- Accuracy: Akurasi adalah proporsi prediksi yang benar secara keseluruhan. Akurasi model ini adalah 0.89 atau 89%.\n",
        "\n",
        "- Macro Average dan Weighted Average:\n",
        " - Macro Average adalah rata-rata sederhana dari metrik evaluasi (precision, recall, f1-score) untuk setiap kelas. Dalam laporan ini, macro average memberikan nilai precision 0.80, recall 0.67, dan f1-score 0.71.\n",
        " - Weighted Average adalah rata-rata di mana setiap metrik diberi bobot berdasarkan support untuk setiap kelas. Dalam laporan ini, weighted average memberikan nilai precision 0.88, recall 0.90, dan f1-score 0.88.\n"
      ]
    },
    {
      "cell_type": "markdown",
      "metadata": {
        "id": "JcgEuso9Ddbx"
      },
      "source": [
        "## **Logistic Regression**"
      ]
    },
    {
      "cell_type": "markdown",
      "metadata": {
        "id": "LLUS4M3uDhEH"
      },
      "source": [
        "**By Default**"
      ]
    },
    {
      "cell_type": "code",
      "execution_count": 50,
      "metadata": {
        "colab": {
          "base_uri": "https://localhost:8080/",
          "height": 75
        },
        "id": "mYwpr8LZDjK4",
        "outputId": "3f943b10-c3bb-470f-8e8b-064c9ccf8ce6"
      },
      "outputs": [
        {
          "data": {
            "text/html": [
              "<style>#sk-container-id-7 {color: black;background-color: white;}#sk-container-id-7 pre{padding: 0;}#sk-container-id-7 div.sk-toggleable {background-color: white;}#sk-container-id-7 label.sk-toggleable__label {cursor: pointer;display: block;width: 100%;margin-bottom: 0;padding: 0.3em;box-sizing: border-box;text-align: center;}#sk-container-id-7 label.sk-toggleable__label-arrow:before {content: \"▸\";float: left;margin-right: 0.25em;color: #696969;}#sk-container-id-7 label.sk-toggleable__label-arrow:hover:before {color: black;}#sk-container-id-7 div.sk-estimator:hover label.sk-toggleable__label-arrow:before {color: black;}#sk-container-id-7 div.sk-toggleable__content {max-height: 0;max-width: 0;overflow: hidden;text-align: left;background-color: #f0f8ff;}#sk-container-id-7 div.sk-toggleable__content pre {margin: 0.2em;color: black;border-radius: 0.25em;background-color: #f0f8ff;}#sk-container-id-7 input.sk-toggleable__control:checked~div.sk-toggleable__content {max-height: 200px;max-width: 100%;overflow: auto;}#sk-container-id-7 input.sk-toggleable__control:checked~label.sk-toggleable__label-arrow:before {content: \"▾\";}#sk-container-id-7 div.sk-estimator input.sk-toggleable__control:checked~label.sk-toggleable__label {background-color: #d4ebff;}#sk-container-id-7 div.sk-label input.sk-toggleable__control:checked~label.sk-toggleable__label {background-color: #d4ebff;}#sk-container-id-7 input.sk-hidden--visually {border: 0;clip: rect(1px 1px 1px 1px);clip: rect(1px, 1px, 1px, 1px);height: 1px;margin: -1px;overflow: hidden;padding: 0;position: absolute;width: 1px;}#sk-container-id-7 div.sk-estimator {font-family: monospace;background-color: #f0f8ff;border: 1px dotted black;border-radius: 0.25em;box-sizing: border-box;margin-bottom: 0.5em;}#sk-container-id-7 div.sk-estimator:hover {background-color: #d4ebff;}#sk-container-id-7 div.sk-parallel-item::after {content: \"\";width: 100%;border-bottom: 1px solid gray;flex-grow: 1;}#sk-container-id-7 div.sk-label:hover label.sk-toggleable__label {background-color: #d4ebff;}#sk-container-id-7 div.sk-serial::before {content: \"\";position: absolute;border-left: 1px solid gray;box-sizing: border-box;top: 0;bottom: 0;left: 50%;z-index: 0;}#sk-container-id-7 div.sk-serial {display: flex;flex-direction: column;align-items: center;background-color: white;padding-right: 0.2em;padding-left: 0.2em;position: relative;}#sk-container-id-7 div.sk-item {position: relative;z-index: 1;}#sk-container-id-7 div.sk-parallel {display: flex;align-items: stretch;justify-content: center;background-color: white;position: relative;}#sk-container-id-7 div.sk-item::before, #sk-container-id-7 div.sk-parallel-item::before {content: \"\";position: absolute;border-left: 1px solid gray;box-sizing: border-box;top: 0;bottom: 0;left: 50%;z-index: -1;}#sk-container-id-7 div.sk-parallel-item {display: flex;flex-direction: column;z-index: 1;position: relative;background-color: white;}#sk-container-id-7 div.sk-parallel-item:first-child::after {align-self: flex-end;width: 50%;}#sk-container-id-7 div.sk-parallel-item:last-child::after {align-self: flex-start;width: 50%;}#sk-container-id-7 div.sk-parallel-item:only-child::after {width: 0;}#sk-container-id-7 div.sk-dashed-wrapped {border: 1px dashed gray;margin: 0 0.4em 0.5em 0.4em;box-sizing: border-box;padding-bottom: 0.4em;background-color: white;}#sk-container-id-7 div.sk-label label {font-family: monospace;font-weight: bold;display: inline-block;line-height: 1.2em;}#sk-container-id-7 div.sk-label-container {text-align: center;}#sk-container-id-7 div.sk-container {/* jupyter's `normalize.less` sets `[hidden] { display: none; }` but bootstrap.min.css set `[hidden] { display: none !important; }` so we also need the `!important` here to be able to override the default hidden behavior on the sphinx rendered scikit-learn.org. See: https://github.com/scikit-learn/scikit-learn/issues/21755 */display: inline-block !important;position: relative;}#sk-container-id-7 div.sk-text-repr-fallback {display: none;}</style><div id=\"sk-container-id-7\" class=\"sk-top-container\"><div class=\"sk-text-repr-fallback\"><pre>LogisticRegression(max_iter=1000, solver=&#x27;sag&#x27;)</pre><b>In a Jupyter environment, please rerun this cell to show the HTML representation or trust the notebook. <br />On GitHub, the HTML representation is unable to render, please try loading this page with nbviewer.org.</b></div><div class=\"sk-container\" hidden><div class=\"sk-item\"><div class=\"sk-estimator sk-toggleable\"><input class=\"sk-toggleable__control sk-hidden--visually\" id=\"sk-estimator-id-7\" type=\"checkbox\" checked><label for=\"sk-estimator-id-7\" class=\"sk-toggleable__label sk-toggleable__label-arrow\">LogisticRegression</label><div class=\"sk-toggleable__content\"><pre>LogisticRegression(max_iter=1000, solver=&#x27;sag&#x27;)</pre></div></div></div></div></div>"
            ],
            "text/plain": [
              "LogisticRegression(max_iter=1000, solver='sag')"
            ]
          },
          "execution_count": 50,
          "metadata": {},
          "output_type": "execute_result"
        }
      ],
      "source": [
        "# Define and Train the Logistic Regression Model\n",
        "# Initialize the Logistic Regression model with default parameters\n",
        "logreg_model = LogisticRegression(solver='sag', max_iter=1000)\n",
        "\n",
        "# Fit the model to the training data\n",
        "logreg_model.fit(X_train, y_train)"
      ]
    },
    {
      "cell_type": "code",
      "execution_count": 51,
      "metadata": {
        "colab": {
          "base_uri": "https://localhost:8080/"
        },
        "id": "-E0RP2-LDjRJ",
        "outputId": "c5b5454c-00bf-4d69-ee23-e854162a6443"
      },
      "outputs": [
        {
          "name": "stdout",
          "output_type": "stream",
          "text": [
            "Logistic Regression Classification Report:\n",
            "              precision    recall  f1-score   support\n",
            "\n",
            "           0       0.91      0.98      0.94      1435\n",
            "           1       0.72      0.32      0.45       213\n",
            "\n",
            "    accuracy                           0.90      1648\n",
            "   macro avg       0.81      0.65      0.69      1648\n",
            "weighted avg       0.88      0.90      0.88      1648\n",
            "\n"
          ]
        }
      ],
      "source": [
        "# Evaluate Logistic Regression\n",
        "# Predict on the test set using the trained Logistic Regression model\n",
        "logreg_predictions = logreg_model.predict(X_test)\n",
        "\n",
        "# Print the classification report to evaluate model performance\n",
        "print(\"Logistic Regression Classification Report:\")\n",
        "print(classification_report(y_test, logreg_predictions))"
      ]
    },
    {
      "cell_type": "markdown",
      "metadata": {
        "id": "6PUb_9JXqQ6E"
      },
      "source": [
        "Output di atas menunjukkan laporan klasifikasi (classification report) untuk model Logistic Regression by default. Laporan ini memberikan evaluasi kinerja model berdasarkan beberapa metrik, sebagai berikut:\n",
        "\n",
        "- Precision: Precision mengukur tingkat keakuratan dari hasil prediksi positif. Dalam konteks ini, precision untuk kelas 0 atau \"no\" (tidak berlangganan) adalah 0.91, yang berarti 91% dari prediksi yang diklasifikasikan sebagai tidak berlangganan benar-benar tidak berlangganan, sedangkan precision untuk kelas 1 atau \"yes\" (berlangganan) adalah 0.72, yang berarti 72% dari prediksi yang diklasifikasikan sebagai berlangganan benar-benar berlangganan.\n",
        "\n",
        "- Recall: Recall mengukur seberapa baik model dapat mengidentifikasi semua kasus yang sebenarnya positif. Recall untuk kelas 0 atau \"no\" adalah 0.98, yang berarti 98% dari semua kasus yang sebenarnya tidak berlangganan berhasil diidentifikasi oleh model, sedangkan recall untuk kelas 1 atau \"yes\" adalah 0.32, yang berarti hanya 32% dari semua kasus yang sebenarnya berlangganan berhasil diidentifikasi oleh model.\n",
        "\n",
        "- F1-score: F1-score adalah rata-rata harmonis dari precision dan recall. F1-score memberikan keseimbangan antara precision dan recall. F1-score untuk kelas 0 atau \"no\" adalah 0.94 dan untuk kelas 1 atau \"yes\" adalah 0.45.\n",
        "\n",
        "- Support: Support adalah jumlah kemunculan setiap kelas dalam data uji. Dalam konteks ini, jumlah support untuk kelas 0 atau \"no\" adalah 1435 dan untuk kelas 1 atau \"yes\" adalah 213.\n",
        "\n",
        "- Accuracy: Akurasi adalah proporsi prediksi yang benar secara keseluruhan. Akurasi model ini adalah 0.90 atau 90%.\n",
        "\n",
        "- Macro Average dan Weighted Average: Macro average adalah rata-rata sederhana dari metrik evaluasi (precision, recall, f1-score) untuk setiap kelas. Weighted average adalah rata-rata di mana setiap metrik diberi bobot berdasarkan support untuk setiap kelas. Dalam laporan ini, macro average memberikan nilai precision 0.81, recall 0.65, dan f1-score 0.69. Sedangkan weighted average memberikan nilai precision 0.88, recall 0.90, dan f1-score 0.88."
      ]
    },
    {
      "cell_type": "markdown",
      "metadata": {
        "id": "lxjFRdCvDjdU"
      },
      "source": [
        "**Tuning**"
      ]
    },
    {
      "cell_type": "code",
      "execution_count": 52,
      "metadata": {
        "colab": {
          "base_uri": "https://localhost:8080/",
          "height": 92
        },
        "id": "PfM0P-_CDllE",
        "outputId": "13b0a17c-720f-4bb6-d72d-a5ab327336d7"
      },
      "outputs": [
        {
          "name": "stdout",
          "output_type": "stream",
          "text": [
            "Best parameters found for Logistic Regression:  {'C': 0.01, 'penalty': 'l2', 'solver': 'liblinear'}\n"
          ]
        },
        {
          "data": {
            "text/html": [
              "<style>#sk-container-id-8 {color: black;background-color: white;}#sk-container-id-8 pre{padding: 0;}#sk-container-id-8 div.sk-toggleable {background-color: white;}#sk-container-id-8 label.sk-toggleable__label {cursor: pointer;display: block;width: 100%;margin-bottom: 0;padding: 0.3em;box-sizing: border-box;text-align: center;}#sk-container-id-8 label.sk-toggleable__label-arrow:before {content: \"▸\";float: left;margin-right: 0.25em;color: #696969;}#sk-container-id-8 label.sk-toggleable__label-arrow:hover:before {color: black;}#sk-container-id-8 div.sk-estimator:hover label.sk-toggleable__label-arrow:before {color: black;}#sk-container-id-8 div.sk-toggleable__content {max-height: 0;max-width: 0;overflow: hidden;text-align: left;background-color: #f0f8ff;}#sk-container-id-8 div.sk-toggleable__content pre {margin: 0.2em;color: black;border-radius: 0.25em;background-color: #f0f8ff;}#sk-container-id-8 input.sk-toggleable__control:checked~div.sk-toggleable__content {max-height: 200px;max-width: 100%;overflow: auto;}#sk-container-id-8 input.sk-toggleable__control:checked~label.sk-toggleable__label-arrow:before {content: \"▾\";}#sk-container-id-8 div.sk-estimator input.sk-toggleable__control:checked~label.sk-toggleable__label {background-color: #d4ebff;}#sk-container-id-8 div.sk-label input.sk-toggleable__control:checked~label.sk-toggleable__label {background-color: #d4ebff;}#sk-container-id-8 input.sk-hidden--visually {border: 0;clip: rect(1px 1px 1px 1px);clip: rect(1px, 1px, 1px, 1px);height: 1px;margin: -1px;overflow: hidden;padding: 0;position: absolute;width: 1px;}#sk-container-id-8 div.sk-estimator {font-family: monospace;background-color: #f0f8ff;border: 1px dotted black;border-radius: 0.25em;box-sizing: border-box;margin-bottom: 0.5em;}#sk-container-id-8 div.sk-estimator:hover {background-color: #d4ebff;}#sk-container-id-8 div.sk-parallel-item::after {content: \"\";width: 100%;border-bottom: 1px solid gray;flex-grow: 1;}#sk-container-id-8 div.sk-label:hover label.sk-toggleable__label {background-color: #d4ebff;}#sk-container-id-8 div.sk-serial::before {content: \"\";position: absolute;border-left: 1px solid gray;box-sizing: border-box;top: 0;bottom: 0;left: 50%;z-index: 0;}#sk-container-id-8 div.sk-serial {display: flex;flex-direction: column;align-items: center;background-color: white;padding-right: 0.2em;padding-left: 0.2em;position: relative;}#sk-container-id-8 div.sk-item {position: relative;z-index: 1;}#sk-container-id-8 div.sk-parallel {display: flex;align-items: stretch;justify-content: center;background-color: white;position: relative;}#sk-container-id-8 div.sk-item::before, #sk-container-id-8 div.sk-parallel-item::before {content: \"\";position: absolute;border-left: 1px solid gray;box-sizing: border-box;top: 0;bottom: 0;left: 50%;z-index: -1;}#sk-container-id-8 div.sk-parallel-item {display: flex;flex-direction: column;z-index: 1;position: relative;background-color: white;}#sk-container-id-8 div.sk-parallel-item:first-child::after {align-self: flex-end;width: 50%;}#sk-container-id-8 div.sk-parallel-item:last-child::after {align-self: flex-start;width: 50%;}#sk-container-id-8 div.sk-parallel-item:only-child::after {width: 0;}#sk-container-id-8 div.sk-dashed-wrapped {border: 1px dashed gray;margin: 0 0.4em 0.5em 0.4em;box-sizing: border-box;padding-bottom: 0.4em;background-color: white;}#sk-container-id-8 div.sk-label label {font-family: monospace;font-weight: bold;display: inline-block;line-height: 1.2em;}#sk-container-id-8 div.sk-label-container {text-align: center;}#sk-container-id-8 div.sk-container {/* jupyter's `normalize.less` sets `[hidden] { display: none; }` but bootstrap.min.css set `[hidden] { display: none !important; }` so we also need the `!important` here to be able to override the default hidden behavior on the sphinx rendered scikit-learn.org. See: https://github.com/scikit-learn/scikit-learn/issues/21755 */display: inline-block !important;position: relative;}#sk-container-id-8 div.sk-text-repr-fallback {display: none;}</style><div id=\"sk-container-id-8\" class=\"sk-top-container\"><div class=\"sk-text-repr-fallback\"><pre>LogisticRegression(C=0.01, random_state=42, solver=&#x27;liblinear&#x27;)</pre><b>In a Jupyter environment, please rerun this cell to show the HTML representation or trust the notebook. <br />On GitHub, the HTML representation is unable to render, please try loading this page with nbviewer.org.</b></div><div class=\"sk-container\" hidden><div class=\"sk-item\"><div class=\"sk-estimator sk-toggleable\"><input class=\"sk-toggleable__control sk-hidden--visually\" id=\"sk-estimator-id-8\" type=\"checkbox\" checked><label for=\"sk-estimator-id-8\" class=\"sk-toggleable__label sk-toggleable__label-arrow\">LogisticRegression</label><div class=\"sk-toggleable__content\"><pre>LogisticRegression(C=0.01, random_state=42, solver=&#x27;liblinear&#x27;)</pre></div></div></div></div></div>"
            ],
            "text/plain": [
              "LogisticRegression(C=0.01, random_state=42, solver='liblinear')"
            ]
          },
          "execution_count": 52,
          "metadata": {},
          "output_type": "execute_result"
        }
      ],
      "source": [
        "# Define parameter grid for GridSearchCV\n",
        "# Specify different hyperparameters to tune for Logistic Regression\n",
        "logreg_param_grid = {\n",
        "    'penalty': ['l1', 'l2'],  # Type of regularization to use\n",
        "    'C': [0.01, 0.1, 1, 10, 100],  # Inverse of regularization strength\n",
        "    'solver': ['liblinear']  # Solver to use in the optimization problem\n",
        "}\n",
        "\n",
        "# Initialize LogisticRegression model with random_state for reproducibility\n",
        "logreg_clf = LogisticRegression(random_state=42)\n",
        "\n",
        "# Initialize GridSearchCV\n",
        "# Create GridSearchCV object with Logistic Regression model, parameter grid, and cross-validation settings\n",
        "logreg_grid_search = GridSearchCV(estimator=logreg_clf, param_grid=logreg_param_grid, cv=5, scoring='accuracy', n_jobs=-1)\n",
        "\n",
        "# Fit GridSearchCV with the encoded training data\n",
        "# Perform grid search on the training data to find the best hyperparameters\n",
        "logreg_grid_search.fit(X_train, y_train)  # Make sure X_train is pre-encoded if necessary\n",
        "\n",
        "# Find the best hyperparameter combination\n",
        "# Extract the best hyperparameters found during grid search\n",
        "best_logreg_params = logreg_grid_search.best_params_\n",
        "print(\"Best parameters found for Logistic Regression: \", best_logreg_params)\n",
        "\n",
        "# Get the best model from the grid search\n",
        "# Retrieve the best model based on grid search results\n",
        "best_logreg_model = logreg_grid_search.best_estimator_\n",
        "\n",
        "# Retrain the model with the entire training data using the best parameters\n",
        "# Fit the best model to the entire training data (optional step as GridSearchCV already fits the best model)\n",
        "best_logreg_model.fit(X_train, y_train)"
      ]
    },
    {
      "cell_type": "code",
      "execution_count": 53,
      "metadata": {
        "colab": {
          "base_uri": "https://localhost:8080/"
        },
        "id": "Hz5YVdbODlos",
        "outputId": "2a05fce1-95e7-4307-9d3f-e375488c47e4"
      },
      "outputs": [
        {
          "name": "stdout",
          "output_type": "stream",
          "text": [
            "Logistic Regression Tuned Classification Report:\n",
            "              precision    recall  f1-score   support\n",
            "\n",
            "           0       0.90      0.99      0.94      1435\n",
            "           1       0.74      0.27      0.40       213\n",
            "\n",
            "    accuracy                           0.89      1648\n",
            "   macro avg       0.82      0.63      0.67      1648\n",
            "weighted avg       0.88      0.89      0.87      1648\n",
            "\n"
          ]
        }
      ],
      "source": [
        "# Make predictions on the test set\n",
        "# Predict on the test set using the best Logistic Regression model\n",
        "logreg_y_pred = best_logreg_model.predict(X_test)\n",
        "\n",
        "# Print the classification report\n",
        "# Print the classification report to evaluate the performance of the tuned model\n",
        "print(\"Logistic Regression Tuned Classification Report:\")\n",
        "print(classification_report(y_test, logreg_y_pred))\n"
      ]
    },
    {
      "cell_type": "markdown",
      "metadata": {
        "id": "MyZ7BVwdsV61"
      },
      "source": [
        "Output di atas menunjukkan laporan klasifikasi (classification report) untuk model Logistic Regression yang telah dituning (disesuaikan parameter-parameternya dengan GridSearchCV). Laporan ini memberikan evaluasi kinerja model berdasarkan beberapa metrik, sebagai berikut:\n",
        "\n",
        "- Precision: Precision mengukur tingkat keakuratan dari hasil prediksi positif. Dalam konteks ini, precision untuk kelas 0 atau \"no\" (tidak berlangganan) adalah 0.90, yang berarti 90% dari prediksi yang diklasifikasikan sebagai tidak berlangganan benar-benar tidak berlangganan. Sedangkan precision untuk kelas 1 atau \"yes\" (berlangganan) adalah 0.74, yang berarti 74% dari prediksi yang diklasifikasikan sebagai berlangganan benar-benar berlangganan.\n",
        "\n",
        "- Recall: Recall mengukur seberapa baik model dapat mengidentifikasi semua kasus yang sebenarnya positif. Recall untuk kelas 0 atau \"no\" adalah 0.99, yang berarti 99% dari semua kasus yang sebenarnya tidak berlangganan berhasil diidentifikasi oleh model. Sedangkan recall untuk kelas 1 atau \"yes\" adalah 0.40, yang berarti hanya 40% dari semua kasus yang sebenarnya berlangganan berhasil diidentifikasi oleh model.\n",
        "\n",
        "- F1-score: F1-score adalah rata-rata harmonis dari precision dan recall. F1-score memberikan keseimbangan antara precision dan recall. F1-score untuk kelas 0 atau \"no\" adalah 0.94 dan untuk kelas 1 atau \"yes\" adalah 0.52.\n",
        "\n",
        "- Support: Support adalah jumlah kemunculan setiap kelas dalam data uji. Dalam konteks ini, jumlah support untuk kelas 0 atau \"no\" adalah 1435 dan untuk kelas 1 atau \"yes\" adalah 213.\n",
        "\n",
        "- Accuracy: Akurasi adalah proporsi prediksi yang benar secara keseluruhan. Akurasi model ini adalah 0.89 atau 89%.\n",
        "\n",
        "- Macro Average dan Weighted Average:\n",
        " - Macro Average adalah rata-rata sederhana dari metrik evaluasi (precision, recall, f1-score) untuk setiap kelas. Dalam laporan ini, macro average memberikan nilai precision 0.82, recall 0.69, dan f1-score 0.67.\n",
        " - Weighted Average adalah rata-rata di mana setiap metrik diberi bobot berdasarkan support untuk setiap kelas. Dalam laporan ini, weighted average memberikan nilai precision 0.89, recall 0.89, dan f1-score 0.87."
      ]
    },
    {
      "cell_type": "markdown",
      "metadata": {
        "id": "uBcqSEK7AgjV"
      },
      "source": [
        "## **Best Model**"
      ]
    },
    {
      "cell_type": "code",
      "execution_count": 54,
      "metadata": {
        "colab": {
          "base_uri": "https://localhost:8080/"
        },
        "id": "AHVO-B2_HDSa",
        "outputId": "417761c1-ae43-4048-a2f5-4f616f46db49"
      },
      "outputs": [
        {
          "name": "stdout",
          "output_type": "stream",
          "text": [
            "RandomForest Default Cross-Validation Scores: [0.90591806 0.91122914 0.90364188 0.89377845 0.90743551]\n",
            "RandomForest Default Average Cross-Validation Score: 0.9044006069802732\n",
            "\n",
            "RandomForest Tuned Cross-Validation Scores: [0.90971168 0.91122914 0.91274659 0.89453718 0.91047041]\n",
            "RandomForest Tuned Average Cross-Validation Score: 0.9077389984825495\n",
            "\n",
            "XGBoost Default Cross-Validation Scores: [0.91198786 0.89681335 0.90440061 0.90364188 0.90819423]\n",
            "XGBoost Default Average Cross-Validation Score: 0.9050075872534142\n",
            "\n",
            "XGBoost Tuned Cross-Validation Scores: [0.91805766 0.90895296 0.91426404 0.91350531 0.91122914]\n",
            "XGBoost Tuned Average Cross-Validation Score: 0.9132018209408195\n",
            "\n",
            "Gradient Boosting Default Cross-Validation Scores: [0.91198786 0.89681335 0.90440061 0.90364188 0.90819423]\n",
            "Gradient Boosting Default Average Cross-Validation Score: 0.9050075872534142\n",
            "\n",
            "Gradient Boosting Tuned Cross-Validation Scores: [0.91122914 0.91047041 0.91274659 0.90060698 0.90667678]\n",
            "Gradient Boosting Tuned Average Cross-Validation Score: 0.9083459787556905\n",
            "\n",
            "Logistic Regression Default Cross-Validation Scores: [0.90743551 0.8983308  0.91122914 0.89681335 0.90515933]\n",
            "Logistic Regression Default Average Cross-Validation Score: 0.903793626707132\n",
            "\n",
            "Logistic Regression Tuned Cross-Validation Scores: [0.90819423 0.90515933 0.90971168 0.89984825 0.90743551]\n",
            "Logistic Regression Tuned Average Cross-Validation Score: 0.9060698027314112\n"
          ]
        }
      ],
      "source": [
        "# Evaluate RandomForest with cross-validation (default)\n",
        "rf_default_scores = cross_val_score(rf_model, X_train, y_train, cv=5, scoring='accuracy')\n",
        "print(\"RandomForest Default Cross-Validation Scores:\", rf_default_scores)\n",
        "print(\"RandomForest Default Average Cross-Validation Score:\", rf_default_scores.mean())\n",
        "print()\n",
        "\n",
        "# Evaluate RandomForest with cross-validation (tuned)\n",
        "rf_tuned_scores = cross_val_score(best_rf_model, X_train, y_train, cv=5, scoring='accuracy')\n",
        "print(\"RandomForest Tuned Cross-Validation Scores:\", rf_tuned_scores)\n",
        "print(\"RandomForest Tuned Average Cross-Validation Score:\", rf_tuned_scores.mean())\n",
        "print()\n",
        "\n",
        "# Evaluate XGBoost with cross-validation (default)\n",
        "xgb_default_scores = cross_val_score(xgb_model, X_train, y_train, cv=5, scoring='accuracy')\n",
        "print(\"XGBoost Default Cross-Validation Scores:\", xgb_default_scores)\n",
        "print(\"XGBoost Default Average Cross-Validation Score:\", xgb_default_scores.mean())\n",
        "print()\n",
        "\n",
        "# Evaluate XGBoost with cross-validation (tuned)\n",
        "xgb_tuned_scores = cross_val_score(best_xgb_model, X_train, y_train, cv=5, scoring='accuracy')\n",
        "print(\"XGBoost Tuned Cross-Validation Scores:\", xgb_tuned_scores)\n",
        "print(\"XGBoost Tuned Average Cross-Validation Score:\", xgb_tuned_scores.mean())\n",
        "print()\n",
        "\n",
        "# Evaluate Gradient Boosting with cross-validation (default)\n",
        "gb_default_scores = cross_val_score(xgb_model, X_train, y_train, cv=5, scoring='accuracy')\n",
        "print(\"Gradient Boosting Default Cross-Validation Scores:\", gb_default_scores)\n",
        "print(\"Gradient Boosting Default Average Cross-Validation Score:\", gb_default_scores.mean())\n",
        "print()\n",
        "\n",
        "# Evaluate Gradient Boosting with cross-validation (tuned)\n",
        "gb_tuned_scores = cross_val_score(best_gb_model, X_train, y_train, cv=5, scoring='accuracy')\n",
        "print(\"Gradient Boosting Tuned Cross-Validation Scores:\", gb_tuned_scores)\n",
        "print(\"Gradient Boosting Tuned Average Cross-Validation Score:\", gb_tuned_scores.mean())\n",
        "print()\n",
        "\n",
        "# Evaluate Logistic Regression with cross-validation (default)\n",
        "logreg_default_scores = cross_val_score(logreg_model, X_train, y_train, cv=5, scoring='accuracy')\n",
        "print(\"Logistic Regression Default Cross-Validation Scores:\", logreg_default_scores)\n",
        "print(\"Logistic Regression Default Average Cross-Validation Score:\", logreg_default_scores.mean())\n",
        "print()\n",
        "\n",
        "# Evaluate Logistic Regression with cross-validation (tuned)\n",
        "logreg_tuned_scores = cross_val_score(best_logreg_model, X_train, y_train, cv=5, scoring='accuracy')\n",
        "print(\"Logistic Regression Tuned Cross-Validation Scores:\", logreg_tuned_scores)\n",
        "print(\"Logistic Regression Tuned Average Cross-Validation Score:\", logreg_tuned_scores.mean())"
      ]
    },
    {
      "cell_type": "markdown",
      "metadata": {
        "id": "RetKEmersi3v"
      },
      "source": [
        "**Random Forest**\n",
        "\n",
        "Model Random Forest yang telah dituning menunjukkan peningkatan performa yang signifikan dengan rata-rata nilai cross-validation meningkat dari 0.9044 menjadi 0.9077. Ini menunjukkan bahwa tuning parameter berhasil meningkatkan akurasi model."
      ]
    },
    {
      "cell_type": "markdown",
      "metadata": {
        "id": "w20rLG4Qs6V4"
      },
      "source": [
        "**XGBoost**\n",
        "\n",
        "Model XGBoost yang telah dituning menunjukkan peningkatan yang lebih tinggi dibandingkan dengan Random Forest, dengan rata-rata nilai cross-validation meningkat dari 0.9050 menjadi 0.9132. Ini menunjukkan bahwa XGBoost yang telah dituning memberikan performa terbaik di antara semua model yang diuji.\n",
        "\n"
      ]
    },
    {
      "cell_type": "markdown",
      "metadata": {
        "id": "VgslIFujtT2F"
      },
      "source": [
        "**Gradient Boosting**\n",
        "\n",
        "Model Gradient Boosting yang telah dituning juga menunjukkan peningkatan performa dengan rata-rata nilai cross-validation meningkat dari 0.9050 menjadi 0.9083, namun peningkatan ini tidak sebesar peningkatan pada XGBoost."
      ]
    },
    {
      "cell_type": "markdown",
      "metadata": {
        "id": "OD2b8D4ftYDD"
      },
      "source": [
        "**Logistic Regression**\n",
        "\n",
        "Model Logistic Regression yang telah dituning juga menunjukkan peningkatan performa dengan rata-rata nilai cross-validation meningkat dari 0.9037 menjadi 0.9060."
      ]
    },
    {
      "cell_type": "markdown",
      "metadata": {
        "id": "uzcWePgvtfmO"
      },
      "source": [
        "## **Kesimpulan**"
      ]
    },
    {
      "cell_type": "markdown",
      "metadata": {
        "id": "e1us6cY5tiK4"
      },
      "source": [
        "Berdasarkan analisis di atas, **model XGBoost yang telah dituning** memberikan performa terbaik dengan rata-rata nilai cross-validation tertinggi yaitu **0.9132** . Dapat disimpulkan bahwa model XGBoost dengan tuning parameter dapat memberikan hasil yang lebih akurat dalam memprediksi hasil dibandingkan dengan model lain seperti Random Forest, Gradient Boosting, dan Logistic Regression, baik dalam keadaan default maupun setelah tuning parameter."
      ]
    },
    {
      "cell_type": "markdown",
      "metadata": {
        "id": "TaPXCZOqBKey"
      },
      "source": [
        "## **Save on Pickle**"
      ]
    },
    {
      "cell_type": "markdown",
      "metadata": {
        "id": "zwn0SXbgtcUo"
      },
      "source": [
        "**One-Hot Encoding**"
      ]
    },
    {
      "cell_type": "code",
      "execution_count": 55,
      "metadata": {
        "colab": {
          "base_uri": "https://localhost:8080/",
          "height": 70
        },
        "id": "65LRt3FS5Lw-",
        "outputId": "7ab598f9-c5de-4696-dbcf-985ec4988054"
      },
      "outputs": [
        {
          "name": "stdout",
          "output_type": "stream",
          "text": [
            "The one-hot encoding have been saved as 'one_hot_encoding.pkl' respectively.\n",
            "You can download them from the left-side file pane.\n"
          ]
        },
        {
          "data": {
            "application/vnd.google.colaboratory.intrinsic+json": {
              "type": "string"
            },
            "text/plain": [
              "'/content/one_hot_encoding.pkl'"
            ]
          },
          "execution_count": 55,
          "metadata": {},
          "output_type": "execute_result"
        }
      ],
      "source": [
        "import pandas as pd\n",
        "import pickle\n",
        "\n",
        "# Example DataFrame X_train and X_test\n",
        "# Replace with your actual X_train and X_test\n",
        "X_train = pd.DataFrame({\n",
        "    'age': [25, 30, 35],\n",
        "    'job': ['admin', 'blue-collar', 'admin'],\n",
        "    'marital': ['single', 'married', 'single'],\n",
        "    'education': ['secondary', 'primary', 'tertiary'],\n",
        "    'default': ['no', 'no', 'yes'],\n",
        "    'housing': ['yes', 'no', 'yes'],\n",
        "    'loan': ['no', 'yes', 'no'],\n",
        "    'poutcome': ['success', 'failure', 'unknown'],\n",
        "    'contact': ['cellular', 'telephone', 'cellular']\n",
        "})\n",
        "\n",
        "X_test = pd.DataFrame({\n",
        "    'age': [27, 32],\n",
        "    'job': ['management', 'technician'],\n",
        "    'marital': ['married', 'single'],\n",
        "    'education': ['tertiary', 'secondary'],\n",
        "    'default': ['no', 'yes'],\n",
        "    'housing': ['no', 'yes'],\n",
        "    'loan': ['yes', 'no'],\n",
        "    'poutcome': ['failure', 'success'],\n",
        "    'contact': ['telephone', 'cellular']\n",
        "})\n",
        "\n",
        "# Perform One-Hot Encoding for each categorical feature\n",
        "\n",
        "# One-Hot Encoding for 'job'\n",
        "X_train_job = pd.get_dummies(X_train['job'], prefix='Job').astype(int)\n",
        "X_test_job = pd.get_dummies(X_test['job'], prefix='Job').astype(int)\n",
        "\n",
        "# Merge back to X_train and X_test datasets\n",
        "X_train = pd.concat([X_train.drop('job', axis=1), X_train_job], axis=1)\n",
        "X_test = pd.concat([X_test.drop('job', axis=1), X_test_job], axis=1)\n",
        "\n",
        "# Repeat similar steps for other categorical features...\n",
        "\n",
        "# Save the encoded datasets to a single pickle file\n",
        "encoded_data = {\n",
        "    'X_train': X_train,\n",
        "    'X_test': X_test\n",
        "}\n",
        "\n",
        "with open('one_hot_encoding.pkl', 'wb') as f:\n",
        "    pickle.dump(encoded_data, f)\n",
        "\n",
        "# Inform the user\n",
        "print(\"The one-hot encoding have been saved as 'one_hot_encoding.pkl' respectively.\")\n",
        "print(\"You can download them from the left-side file pane.\")\n",
        "\n",
        "# Move the files to a location accessible by the user\n",
        "shutil.move(\"one_hot_encoding.pkl\", \"/content/one_hot_encoding.pkl\")"
      ]
    },
    {
      "cell_type": "markdown",
      "metadata": {
        "id": "8tK2kK-WtZtU"
      },
      "source": [
        "**Label Encoding**"
      ]
    },
    {
      "cell_type": "code",
      "execution_count": 56,
      "metadata": {
        "colab": {
          "base_uri": "https://localhost:8080/",
          "height": 70
        },
        "id": "eL54msZStWML",
        "outputId": "f8989ef5-9b99-4d18-ba93-09ebad52c7d6"
      },
      "outputs": [
        {
          "name": "stdout",
          "output_type": "stream",
          "text": [
            "The label encoding have been saved as 'label_encoding.pkl' respectively.\n",
            "You can download them from the left-side file pane.\n"
          ]
        },
        {
          "data": {
            "application/vnd.google.colaboratory.intrinsic+json": {
              "type": "string"
            },
            "text/plain": [
              "'/content/label_encoding.pkl'"
            ]
          },
          "execution_count": 56,
          "metadata": {},
          "output_type": "execute_result"
        }
      ],
      "source": [
        "# Dictionary for month mapping\n",
        "month_mapping = {\"mar\": 3, \"apr\": 4, \"may\": 5, \"jun\": 6, \"jul\": 7, \"aug\": 8, \"sep\": 9, \"oct\": 10, \"nov\": 11, \"dec\": 12}\n",
        "\n",
        "# Dictionary for day_of_week mapping\n",
        "day_of_week_mapping = {\"mon\": 1, \"tue\": 2, \"wed\": 3, \"thu\": 4, \"fri\": 5}\n",
        "\n",
        "# Combine both mappings into a single dictionary\n",
        "mapping_dict = {\n",
        "    'month': month_mapping,\n",
        "    'day_of_week': day_of_week_mapping\n",
        "}\n",
        "\n",
        "# Save the mappings to a pickle file\n",
        "with open('label_encoding.pkl', 'wb') as f:\n",
        "    pickle.dump(mapping_dict, f)\n",
        "\n",
        "# Inform the user\n",
        "print(\"The label encoding have been saved as 'label_encoding.pkl' respectively.\")\n",
        "print(\"You can download them from the left-side file pane.\")\n",
        "\n",
        "# Move the files to a location accessible by the user\n",
        "shutil.move(\"label_encoding.pkl\", \"/content/label_encoding.pkl\")"
      ]
    },
    {
      "cell_type": "markdown",
      "metadata": {
        "id": "tj-UzzVGooyp"
      },
      "source": [
        "**Standard Scaler**"
      ]
    },
    {
      "cell_type": "code",
      "execution_count": 57,
      "metadata": {
        "colab": {
          "base_uri": "https://localhost:8080/",
          "height": 70
        },
        "id": "UET_Rx-Zonad",
        "outputId": "366ff274-54b6-4327-de94-11867faa4533"
      },
      "outputs": [
        {
          "name": "stdout",
          "output_type": "stream",
          "text": [
            "The scaler have been saved as 'scaler.pkl' respectively.\n",
            "You can download them from the left-side file pane.\n"
          ]
        },
        {
          "data": {
            "application/vnd.google.colaboratory.intrinsic+json": {
              "type": "string"
            },
            "text/plain": [
              "'/content/scaler.pkl'"
            ]
          },
          "execution_count": 57,
          "metadata": {},
          "output_type": "execute_result"
        }
      ],
      "source": [
        "# Save the scaler\n",
        "with open('scaler.pkl', 'wb') as f:\n",
        "    pickle.dump(scaler, f)\n",
        "\n",
        "# Inform the user\n",
        "print(\"The scaler have been saved as 'scaler.pkl' respectively.\")\n",
        "print(\"You can download them from the left-side file pane.\")\n",
        "\n",
        "# Move the files to a location accessible by the user\n",
        "shutil.move(\"scaler.pkl\", \"/content/scaler.pkl\")"
      ]
    },
    {
      "cell_type": "markdown",
      "metadata": {
        "id": "4Z0FfhXRolW3"
      },
      "source": [
        "**Best Model**"
      ]
    },
    {
      "cell_type": "code",
      "execution_count": 58,
      "metadata": {
        "colab": {
          "base_uri": "https://localhost:8080/",
          "height": 70
        },
        "id": "fcXTgYNgBJmr",
        "outputId": "7707803f-b94a-4dcf-fb5c-371de565a702"
      },
      "outputs": [
        {
          "name": "stdout",
          "output_type": "stream",
          "text": [
            "The best model has been saved as 'best_model.pkl'.\n",
            "You can download it from the left-side file pane.\n"
          ]
        },
        {
          "data": {
            "application/vnd.google.colaboratory.intrinsic+json": {
              "type": "string"
            },
            "text/plain": [
              "'/content/best_model.pkl'"
            ]
          },
          "execution_count": 58,
          "metadata": {},
          "output_type": "execute_result"
        }
      ],
      "source": [
        "# Save the best model\n",
        "with open('best_model.pkl', 'wb') as f:\n",
        "    pickle.dump(best_xgb_model, f)\n",
        "\n",
        "# Inform the user\n",
        "print(\"The best model has been saved as 'best_model.pkl'.\")\n",
        "print(\"You can download it from the left-side file pane.\")\n",
        "\n",
        "# Move the file to a location accessible by the user\n",
        "shutil.move(\"best_model.pkl\", \"/content/best_model.pkl\")"
      ]
    }
  ],
  "metadata": {
    "colab": {
      "provenance": []
    },
    "kernelspec": {
      "display_name": "Python 3",
      "name": "python3"
    },
    "language_info": {
      "name": "python"
    }
  },
  "nbformat": 4,
  "nbformat_minor": 0
}
